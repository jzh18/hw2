{
 "cells": [
  {
   "cell_type": "code",
   "execution_count": 1,
   "id": "4e30c387",
   "metadata": {},
   "outputs": [],
   "source": [
    "import sys\n",
    "sys.path.append('./python')\n",
    "sys.path.append('./apps')\n",
    "import numpy as np"
   ]
  },
  {
   "cell_type": "code",
   "execution_count": 2,
   "id": "393f4126",
   "metadata": {},
   "outputs": [],
   "source": [
    "import torch.nn as nn\n",
    "import torch"
   ]
  },
  {
   "cell_type": "code",
   "execution_count": 3,
   "id": "758adfbc",
   "metadata": {},
   "outputs": [],
   "source": [
    "a=[\n",
    "    [1,1,1.],\n",
    "    [1,1,1.],\n",
    "\n",
    "]\n",
    "y=[\n",
    "    1,0,\n",
    "]"
   ]
  },
  {
   "cell_type": "code",
   "execution_count": 4,
   "id": "1c3d9359",
   "metadata": {},
   "outputs": [],
   "source": [
    "import needle as ndl\n",
    "import needle.nn as nn\n",
    "np.random.seed(42)"
   ]
  },
  {
   "cell_type": "code",
   "execution_count": 5,
   "id": "ad6058a8",
   "metadata": {},
   "outputs": [
    {
     "name": "stdout",
     "output_type": "stream",
     "text": [
      "ddddddd  bias shape: (1, 2)\n",
      "ddddddd  broadcast_size shape: [2, 2]\n",
      "before broadcast: (1, 2)\n",
      "after broadcast: (1, 2)\n",
      "before broadcast: ()\n",
      "after broadcast: ()\n",
      "before broadcast: (2, 1)\n",
      "after broadcast: (2, 1)\n",
      "before broadcast: (2, 1)\n",
      "after broadcast: (2, 1)\n",
      "2.0431335\n",
      "1.0\n",
      "[[-0.48290598  0.48290598]\n",
      " [-0.48290598  0.48290598]\n",
      " [-0.48290598  0.48290598]]\n",
      "[[-0.48290598  0.48290598]]\n"
     ]
    }
   ],
   "source": [
    "def test_my():\n",
    "    my_linear=nn.Linear(3,2)\n",
    "    my_relu=nn.ReLU()\n",
    "    my_linear2=nn.Linear(2,1)\n",
    "    my_softmax=nn.SoftmaxLoss()\n",
    "    \n",
    "    x=ndl.Tensor(np.array(a, dtype=\"float32\"))\n",
    "    labels=ndl.Tensor(np.array(y))\n",
    "    \n",
    "    x=my_linear(x)\n",
    "\n",
    "#    x=my_relu(x)\n",
    "   # x=my_linear2(x)\n",
    "    loss=my_softmax(x,labels)\n",
    "    \n",
    "    loss.backward()\n",
    "    print(loss)\n",
    "    print(loss.grad)\n",
    "    print(my_linear.weight.grad)\n",
    "    print(my_linear.bias.grad)\n",
    "    return my_linear.weight.numpy(),my_linear.bias.numpy(),my_linear2.weight.numpy(),my_linear2.bias.numpy()\n",
    "w1,b1,w2,b2=test_my()"
   ]
  },
  {
   "cell_type": "code",
   "execution_count": 6,
   "id": "d5d2ff99",
   "metadata": {},
   "outputs": [
    {
     "name": "stdout",
     "output_type": "stream",
     "text": [
      "tensor(2.0431, grad_fn=<NllLossBackward0>)\n",
      "tensor([[-0.4829, -0.4829, -0.4829],\n",
      "        [ 0.4829,  0.4829,  0.4829]])\n",
      "tensor([[-0.4829,  0.4829]])\n"
     ]
    }
   ],
   "source": [
    "def test_torch(w1,b1,w2,b2):\n",
    "    torch_linear=torch.nn.Linear(3,2)\n",
    "    torch_linear.weight=torch.nn.Parameter(torch.Tensor(np.transpose(w1)))\n",
    "    torch_linear.bias=torch.nn.Parameter(torch.Tensor(b1))\n",
    "    torch_relu=torch.nn.ReLU()\n",
    "    torch_linear2=torch.nn.Linear(2,1)\n",
    "    torch_linear2.weight=torch.nn.Parameter(torch.Tensor(np.transpose(w2)))\n",
    "    torch_linear2.bias=torch.nn.Parameter(torch.Tensor(b2))\n",
    "    torch_softmax=torch.nn.CrossEntropyLoss()\n",
    "    \n",
    "    x=torch.Tensor(a)\n",
    "    label=torch.LongTensor(y)\n",
    "    \n",
    "    x=torch_linear(x)\n",
    "   # x=torch_relu(x)\n",
    "   # x=torch_linear2(x)\n",
    "\n",
    "    \n",
    "    loss=torch_softmax(x,label)\n",
    "    loss.backward()\n",
    "    print(loss)\n",
    "    print(torch_linear.weight.grad)\n",
    "    print(torch_linear.bias.grad)\n",
    "test_torch(w1,b1,w2,b2)"
   ]
  },
  {
   "cell_type": "code",
   "execution_count": 7,
   "id": "ba29a0ad",
   "metadata": {},
   "outputs": [],
   "source": [
    "test=torch.nn.Linear(6,5)"
   ]
  },
  {
   "cell_type": "code",
   "execution_count": 8,
   "id": "1535d4d0",
   "metadata": {},
   "outputs": [
    {
     "data": {
      "text/plain": [
       "torch.Size([5])"
      ]
     },
     "execution_count": 8,
     "metadata": {},
     "output_type": "execute_result"
    }
   ],
   "source": [
    "test.bias.shape"
   ]
  },
  {
   "cell_type": "code",
   "execution_count": 9,
   "id": "80f7eb7c",
   "metadata": {},
   "outputs": [
    {
     "data": {
      "text/plain": [
       "-0.48290595999999997"
      ]
     },
     "execution_count": 9,
     "metadata": {},
     "output_type": "execute_result"
    }
   ],
   "source": [
    "-0.49145298+0.00854702"
   ]
  },
  {
   "cell_type": "code",
   "execution_count": 10,
   "id": "6e8569b9",
   "metadata": {},
   "outputs": [
    {
     "data": {
      "text/plain": [
       "(2, 2)"
      ]
     },
     "execution_count": 10,
     "metadata": {},
     "output_type": "execute_result"
    }
   ],
   "source": [
    "a=np.array(\n",
    " [[ 0.00854702, -0.00854701],\n",
    "\n",
    " [-0.49145298 , 0.49145299]])\n",
    "a.shape"
   ]
  },
  {
   "cell_type": "code",
   "execution_count": 11,
   "id": "b30e8447",
   "metadata": {},
   "outputs": [
    {
     "data": {
      "text/plain": [
       "array([-0.48290596,  0.48290598])"
      ]
     },
     "execution_count": 11,
     "metadata": {},
     "output_type": "execute_result"
    }
   ],
   "source": [
    "a.sum(axis=0)"
   ]
  },
  {
   "cell_type": "code",
   "execution_count": 12,
   "id": "962c2ee1",
   "metadata": {},
   "outputs": [
    {
     "name": "stdout",
     "output_type": "stream",
     "text": [
      "torch.Size([3, 1])\n"
     ]
    },
    {
     "data": {
      "text/plain": [
       "tensor([[2, 2],\n",
       "        [4, 4],\n",
       "        [5, 5]])"
      ]
     },
     "execution_count": 12,
     "metadata": {},
     "output_type": "execute_result"
    }
   ],
   "source": [
    "a=torch.tensor([\n",
    "    [2],[4],[5]\n",
    "])\n",
    "print(a.size())\n",
    "a.expand(3,2)"
   ]
  },
  {
   "cell_type": "code",
   "execution_count": 13,
   "id": "24821c22",
   "metadata": {},
   "outputs": [
    {
     "name": "stdout",
     "output_type": "stream",
     "text": [
      "torch.Size([3])\n"
     ]
    },
    {
     "data": {
      "text/plain": [
       "tensor([[2, 4, 5],\n",
       "        [2, 4, 5]])"
      ]
     },
     "execution_count": 13,
     "metadata": {},
     "output_type": "execute_result"
    }
   ],
   "source": [
    "a=torch.tensor([\n",
    "    2,4,5\n",
    "])\n",
    "print(a.size())\n",
    "a.expand(2,3)"
   ]
  },
  {
   "cell_type": "code",
   "execution_count": 14,
   "id": "7053d098",
   "metadata": {},
   "outputs": [],
   "source": [
    "a=[1,2,3]\n",
    "b=list(a)"
   ]
  },
  {
   "cell_type": "code",
   "execution_count": 15,
   "id": "1993dd8d",
   "metadata": {},
   "outputs": [],
   "source": [
    "b.reverse()"
   ]
  },
  {
   "cell_type": "code",
   "execution_count": 16,
   "id": "4d3a9b34",
   "metadata": {},
   "outputs": [
    {
     "data": {
      "text/plain": [
       "[3, 2, 1]"
      ]
     },
     "execution_count": 16,
     "metadata": {},
     "output_type": "execute_result"
    }
   ],
   "source": [
    "b"
   ]
  },
  {
   "cell_type": "code",
   "execution_count": 17,
   "id": "7395e579",
   "metadata": {},
   "outputs": [
    {
     "data": {
      "text/plain": [
       "[1, 2, 3]"
      ]
     },
     "execution_count": 17,
     "metadata": {},
     "output_type": "execute_result"
    }
   ],
   "source": [
    "a"
   ]
  },
  {
   "cell_type": "code",
   "execution_count": null,
   "id": "348f2f73",
   "metadata": {},
   "outputs": [],
   "source": [
    "\n"
   ]
  }
 ],
 "metadata": {
  "kernelspec": {
   "display_name": "Python 3 (ipykernel)",
   "language": "python",
   "name": "python3"
  },
  "language_info": {
   "codemirror_mode": {
    "name": "ipython",
    "version": 3
   },
   "file_extension": ".py",
   "mimetype": "text/x-python",
   "name": "python",
   "nbconvert_exporter": "python",
   "pygments_lexer": "ipython3",
   "version": "3.8.13"
  }
 },
 "nbformat": 4,
 "nbformat_minor": 5
}
