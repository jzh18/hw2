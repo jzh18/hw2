{
 "cells": [
  {
   "cell_type": "code",
   "execution_count": 1,
   "id": "4e30c387",
   "metadata": {},
   "outputs": [],
   "source": [
    "import sys\n",
    "sys.path.append('./python')\n",
    "sys.path.append('./apps')\n",
    "import numpy as np"
   ]
  },
  {
   "cell_type": "code",
   "execution_count": 2,
   "id": "393f4126",
   "metadata": {},
   "outputs": [],
   "source": [
    "import torch.nn as nn\n",
    "import torch"
   ]
  },
  {
   "cell_type": "code",
   "execution_count": 3,
   "id": "758adfbc",
   "metadata": {},
   "outputs": [],
   "source": [
    "a=[\n",
    "    [1,1,1.],\n",
    "    [1,1,1.],\n",
    "\n",
    "]\n",
    "y=[\n",
    "    1,0,\n",
    "]"
   ]
  },
  {
   "cell_type": "code",
   "execution_count": 4,
   "id": "40dde97a",
   "metadata": {},
   "outputs": [],
   "source": [
    "import needle as ndl\n",
    "import needle.nn as nn\n",
    "np.random.seed(42)"
   ]
  },
  {
   "cell_type": "code",
   "execution_count": 5,
   "id": "d3c05a36",
   "metadata": {},
   "outputs": [
    {
     "name": "stdout",
     "output_type": "stream",
     "text": [
      "broadcast_to shape: [2, 2]\n",
      "i grad: 1.0\n",
      "div scalar: 0.5\n",
      "i grad: 0.5\n",
      "i grad: [0.5 0.5]\n",
      "EWiseAdd: [0.5 0.5]\n",
      "i grad: [0.5 0.5]\n",
      "i grad: [-0.5 -0.5]\n",
      "summation grad: [[-0.5 -0.5]\n",
      " [-0.5 -0.5]]\n",
      "i grad: [[-0.5 -0.5]\n",
      " [-0.5 -0.5]]\n",
      "multiply grad: [[ 1.10122275 -0.92466891]\n",
      " [ 1.10122275 -0.92466891]],[[-0.  -0.5]\n",
      " [-0.5 -0. ]]\n",
      "i grad: [[ 1.10122275 -0.92466891]\n",
      " [ 1.10122275 -0.92466891]]\n",
      "i grad: [0.5 0.5]\n",
      "logsumexp grad: [[0.00854702 0.49145299]\n",
      " [0.00854702 0.49145299]]\n",
      "i grad: [[ 0.00854702 -0.00854701]\n",
      " [-0.49145298  0.49145299]]\n",
      "EWiseAdd: [[ 0.00854702 -0.00854701]\n",
      " [-0.49145298  0.49145299]]\n",
      "i grad: [[ 0.00854702 -0.00854701]\n",
      " [-0.49145298  0.49145299]]\n",
      "broadcast_to outgrad: [[ 0.00854702 -0.00854701]\n",
      " [-0.49145298  0.49145299]]\n",
      "broadcast_to grad: [[-0.48290596]\n",
      " [ 0.48290598]]\n",
      "i grad: [[-0.48290596]\n",
      " [ 0.48290598]]\n",
      "i grad: [[ 0.00854702 -0.00854701]\n",
      " [-0.49145298  0.49145299]]\n",
      "matmul grad: [[-1.39287788e-02  3.22333779e-03  5.71530972e-07]\n",
      " [ 8.00904579e-01 -1.85341469e-01 -3.35521282e-05]],[[-0.48290596  0.48290598]\n",
      " [-0.48290596  0.48290598]\n",
      " [-0.48290596  0.48290598]]\n",
      "i grad: [[-0.48290596  0.48290598]\n",
      " [-0.48290596  0.48290598]\n",
      " [-0.48290596  0.48290598]]\n",
      "i grad: [[-1.39287788e-02  3.22333779e-03  5.71530972e-07]\n",
      " [ 8.00904579e-01 -1.85341469e-01 -3.35521282e-05]]\n",
      "2.043133497238159\n",
      "1.0\n",
      "[[-0.48290596  0.48290598]\n",
      " [-0.48290596  0.48290598]\n",
      " [-0.48290596  0.48290598]]\n",
      "[[-0.48290596]\n",
      " [ 0.48290598]]\n"
     ]
    }
   ],
   "source": [
    "def test_my():\n",
    "    my_linear=nn.Linear(3,2)\n",
    "    my_relu=nn.ReLU()\n",
    "    my_linear2=nn.Linear(2,1)\n",
    "    my_softmax=nn.SoftmaxLoss()\n",
    "    \n",
    "    x=ndl.Tensor(np.array(a, dtype=\"float32\"))\n",
    "    labels=ndl.Tensor(np.array(y))\n",
    "    \n",
    "    x=my_linear(x)\n",
    "\n",
    "#    x=my_relu(x)\n",
    "   # x=my_linear2(x)\n",
    "    loss=my_softmax(x,labels)\n",
    "    \n",
    "    loss.backward()\n",
    "    print(loss)\n",
    "    print(loss.grad)\n",
    "    print(my_linear.weight.grad)\n",
    "    print(my_linear.bias.grad)\n",
    "    return my_linear.weight.numpy(),my_linear.bias.numpy(),my_linear2.weight.numpy(),my_linear2.bias.numpy()\n",
    "w1,b1,w2,b2=test_my()"
   ]
  },
  {
   "cell_type": "code",
   "execution_count": 6,
   "id": "76813cc2",
   "metadata": {},
   "outputs": [
    {
     "name": "stdout",
     "output_type": "stream",
     "text": [
      "tensor(2.0431, grad_fn=<NllLossBackward0>)\n",
      "tensor([[-0.4829, -0.4829, -0.4829],\n",
      "        [ 0.4829,  0.4829,  0.4829]])\n",
      "tensor([[-0.4829,  0.4829]])\n"
     ]
    }
   ],
   "source": [
    "def test_torch(w1,b1,w2,b2):\n",
    "    torch_linear=torch.nn.Linear(3,2)\n",
    "    torch_linear.weight=torch.nn.Parameter(torch.Tensor(np.transpose(w1)))\n",
    "    torch_linear.bias=torch.nn.Parameter(torch.Tensor(b1))\n",
    "    torch_relu=torch.nn.ReLU()\n",
    "    torch_linear2=torch.nn.Linear(2,1)\n",
    "    torch_linear2.weight=torch.nn.Parameter(torch.Tensor(np.transpose(w2)))\n",
    "    torch_linear2.bias=torch.nn.Parameter(torch.Tensor(b2))\n",
    "    torch_softmax=torch.nn.CrossEntropyLoss()\n",
    "    \n",
    "    x=torch.Tensor(a)\n",
    "    label=torch.LongTensor(y)\n",
    "    \n",
    "    x=torch_linear(x)\n",
    "   # x=torch_relu(x)\n",
    "   # x=torch_linear2(x)\n",
    "\n",
    "    \n",
    "    loss=torch_softmax(x,label)\n",
    "    loss.backward()\n",
    "    print(loss)\n",
    "    print(torch_linear.weight.grad)\n",
    "    print(torch_linear.bias.grad)\n",
    "test_torch(w1,b1,w2,b2)"
   ]
  },
  {
   "cell_type": "code",
   "execution_count": 7,
   "id": "575d371f",
   "metadata": {},
   "outputs": [],
   "source": [
    "test=torch.nn.Linear(6,5)"
   ]
  },
  {
   "cell_type": "code",
   "execution_count": 8,
   "id": "3814ebe6",
   "metadata": {},
   "outputs": [
    {
     "data": {
      "text/plain": [
       "torch.Size([5])"
      ]
     },
     "execution_count": 8,
     "metadata": {},
     "output_type": "execute_result"
    }
   ],
   "source": [
    "test.bias.shape"
   ]
  },
  {
   "cell_type": "code",
   "execution_count": 9,
   "id": "7f1b76b7",
   "metadata": {},
   "outputs": [
    {
     "data": {
      "text/plain": [
       "-0.48290595999999997"
      ]
     },
     "execution_count": 9,
     "metadata": {},
     "output_type": "execute_result"
    }
   ],
   "source": [
    "-0.49145298+0.00854702"
   ]
  },
  {
   "cell_type": "code",
   "execution_count": 10,
   "id": "e3f5bc25",
   "metadata": {},
   "outputs": [
    {
     "data": {
      "text/plain": [
       "(2, 2)"
      ]
     },
     "execution_count": 10,
     "metadata": {},
     "output_type": "execute_result"
    }
   ],
   "source": [
    "a=np.array(\n",
    " [[ 0.00854702, -0.00854701],\n",
    "\n",
    " [-0.49145298 , 0.49145299]])\n",
    "a.shape"
   ]
  },
  {
   "cell_type": "code",
   "execution_count": 11,
   "id": "92c9d590",
   "metadata": {},
   "outputs": [
    {
     "data": {
      "text/plain": [
       "array([-0.48290596,  0.48290598])"
      ]
     },
     "execution_count": 11,
     "metadata": {},
     "output_type": "execute_result"
    }
   ],
   "source": [
    "a.sum(axis=0)"
   ]
  },
  {
   "cell_type": "code",
   "execution_count": 12,
   "id": "5e952195",
   "metadata": {},
   "outputs": [
    {
     "name": "stdout",
     "output_type": "stream",
     "text": [
      "torch.Size([3, 1])\n"
     ]
    },
    {
     "data": {
      "text/plain": [
       "tensor([[2, 2],\n",
       "        [4, 4],\n",
       "        [5, 5]])"
      ]
     },
     "execution_count": 12,
     "metadata": {},
     "output_type": "execute_result"
    }
   ],
   "source": [
    "a=torch.tensor([\n",
    "    [2],[4],[5]\n",
    "])\n",
    "print(a.size())\n",
    "a.expand(3,2)"
   ]
  },
  {
   "cell_type": "code",
   "execution_count": 13,
   "id": "936c9fcd",
   "metadata": {},
   "outputs": [
    {
     "name": "stdout",
     "output_type": "stream",
     "text": [
      "torch.Size([3])\n"
     ]
    },
    {
     "data": {
      "text/plain": [
       "tensor([[2, 4, 5],\n",
       "        [2, 4, 5]])"
      ]
     },
     "execution_count": 13,
     "metadata": {},
     "output_type": "execute_result"
    }
   ],
   "source": [
    "a=torch.tensor([\n",
    "    2,4,5\n",
    "])\n",
    "print(a.size())\n",
    "a.expand(2,3)"
   ]
  },
  {
   "cell_type": "code",
   "execution_count": 18,
   "id": "b990b423",
   "metadata": {},
   "outputs": [],
   "source": [
    "a=[1,2,3]\n",
    "b=list(a)"
   ]
  },
  {
   "cell_type": "code",
   "execution_count": 19,
   "id": "b0cc74e8",
   "metadata": {},
   "outputs": [],
   "source": [
    "b.reverse()"
   ]
  },
  {
   "cell_type": "code",
   "execution_count": 20,
   "id": "9bdecdf9",
   "metadata": {},
   "outputs": [
    {
     "data": {
      "text/plain": [
       "[3, 2, 1]"
      ]
     },
     "execution_count": 20,
     "metadata": {},
     "output_type": "execute_result"
    }
   ],
   "source": [
    "b"
   ]
  },
  {
   "cell_type": "code",
   "execution_count": 21,
   "id": "16c79752",
   "metadata": {},
   "outputs": [
    {
     "data": {
      "text/plain": [
       "[1, 2, 3]"
      ]
     },
     "execution_count": 21,
     "metadata": {},
     "output_type": "execute_result"
    }
   ],
   "source": [
    "a"
   ]
  },
  {
   "cell_type": "code",
   "execution_count": null,
   "id": "890837fc",
   "metadata": {},
   "outputs": [],
   "source": [
    "\n"
   ]
  }
 ],
 "metadata": {
  "kernelspec": {
   "display_name": "Python 3 (ipykernel)",
   "language": "python",
   "name": "python3"
  },
  "language_info": {
   "codemirror_mode": {
    "name": "ipython",
    "version": 3
   },
   "file_extension": ".py",
   "mimetype": "text/x-python",
   "name": "python",
   "nbconvert_exporter": "python",
   "pygments_lexer": "ipython3",
   "version": "3.8.13"
  }
 },
 "nbformat": 4,
 "nbformat_minor": 5
}
