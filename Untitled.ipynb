{
 "cells": [
  {
   "cell_type": "code",
   "execution_count": 1,
   "id": "4e30c387",
   "metadata": {},
   "outputs": [],
   "source": [
    "import sys\n",
    "sys.path.append('./python')\n",
    "sys.path.append('./apps')\n",
    "import numpy as np"
   ]
  },
  {
   "cell_type": "code",
   "execution_count": 2,
   "id": "393f4126",
   "metadata": {},
   "outputs": [],
   "source": [
    "import torch.nn as nn\n",
    "import torch"
   ]
  },
  {
   "cell_type": "code",
   "execution_count": 3,
   "id": "758adfbc",
   "metadata": {},
   "outputs": [],
   "source": [
    "a=[\n",
    "    [1,1,1.],\n",
    "    [1,1,1.],\n",
    "\n",
    "]\n",
    "y=[\n",
    "    1,0,\n",
    "]"
   ]
  },
  {
   "cell_type": "code",
   "execution_count": 4,
   "id": "573ac8fc",
   "metadata": {},
   "outputs": [],
   "source": [
    "import needle as ndl\n",
    "import needle.nn as nn\n",
    "np.random.seed(42)"
   ]
  },
  {
   "cell_type": "code",
   "execution_count": 5,
   "id": "26b4c303",
   "metadata": {},
   "outputs": [
    {
     "name": "stdout",
     "output_type": "stream",
     "text": [
      "ddddddd  bias shape: (1, 2)\n",
      "ddddddd  broadcast_size shape: [2, 2]\n",
      "before broadcast: (1, 2)\n",
      "after broadcast: (1, 2)\n",
      "before broadcast: ()\n",
      "after broadcast: ()\n",
      "before broadcast: (2, 1)\n",
      "after broadcast: (2, 1)\n",
      "before broadcast: (2, 1)\n",
      "after broadcast: (2, 1)\n",
      "2.0431335\n",
      "1.0\n",
      "[[-0.48290598  0.48290598]\n",
      " [-0.48290598  0.48290598]\n",
      " [-0.48290598  0.48290598]]\n",
      "[[-0.48290598  0.48290598]]\n"
     ]
    }
   ],
   "source": [
    "def test_my():\n",
    "    my_linear=nn.Linear(3,2)\n",
    "    my_relu=nn.ReLU()\n",
    "    my_linear2=nn.Linear(2,1)\n",
    "    my_softmax=nn.SoftmaxLoss()\n",
    "    \n",
    "    x=ndl.Tensor(np.array(a, dtype=\"float32\"))\n",
    "    labels=ndl.Tensor(np.array(y))\n",
    "    \n",
    "    x=my_linear(x)\n",
    "\n",
    "#    x=my_relu(x)\n",
    "   # x=my_linear2(x)\n",
    "    loss=my_softmax(x,labels)\n",
    "    \n",
    "    loss.backward()\n",
    "    print(loss)\n",
    "    print(loss.grad)\n",
    "    print(my_linear.weight.grad)\n",
    "    print(my_linear.bias.grad)\n",
    "    return my_linear.weight.numpy(),my_linear.bias.numpy(),my_linear2.weight.numpy(),my_linear2.bias.numpy()\n",
    "w1,b1,w2,b2=test_my()"
   ]
  },
  {
   "cell_type": "code",
   "execution_count": 6,
   "id": "d9a8eed1",
   "metadata": {},
   "outputs": [
    {
     "name": "stdout",
     "output_type": "stream",
     "text": [
      "tensor(2.0431, grad_fn=<NllLossBackward0>)\n",
      "tensor([[-0.4829, -0.4829, -0.4829],\n",
      "        [ 0.4829,  0.4829,  0.4829]])\n",
      "tensor([[-0.4829,  0.4829]])\n"
     ]
    }
   ],
   "source": [
    "def test_torch(w1,b1,w2,b2):\n",
    "    torch_linear=torch.nn.Linear(3,2)\n",
    "    torch_linear.weight=torch.nn.Parameter(torch.Tensor(np.transpose(w1)))\n",
    "    torch_linear.bias=torch.nn.Parameter(torch.Tensor(b1))\n",
    "    torch_relu=torch.nn.ReLU()\n",
    "    torch_linear2=torch.nn.Linear(2,1)\n",
    "    torch_linear2.weight=torch.nn.Parameter(torch.Tensor(np.transpose(w2)))\n",
    "    torch_linear2.bias=torch.nn.Parameter(torch.Tensor(b2))\n",
    "    torch_softmax=torch.nn.CrossEntropyLoss()\n",
    "    \n",
    "    x=torch.Tensor(a)\n",
    "    label=torch.LongTensor(y)\n",
    "    \n",
    "    x=torch_linear(x)\n",
    "   # x=torch_relu(x)\n",
    "   # x=torch_linear2(x)\n",
    "\n",
    "    \n",
    "    loss=torch_softmax(x,label)\n",
    "    loss.backward()\n",
    "    print(loss)\n",
    "    print(torch_linear.weight.grad)\n",
    "    print(torch_linear.bias.grad)\n",
    "test_torch(w1,b1,w2,b2)"
   ]
  },
  {
   "cell_type": "code",
   "execution_count": 7,
   "id": "a105194a",
   "metadata": {},
   "outputs": [],
   "source": [
    "test=torch.nn.Linear(6,5)"
   ]
  },
  {
   "cell_type": "code",
   "execution_count": 8,
   "id": "0e42fcf4",
   "metadata": {},
   "outputs": [
    {
     "data": {
      "text/plain": [
       "torch.Size([5])"
      ]
     },
     "execution_count": 8,
     "metadata": {},
     "output_type": "execute_result"
    }
   ],
   "source": [
    "test.bias.shape"
   ]
  },
  {
   "cell_type": "code",
   "execution_count": 9,
   "id": "0bb61c0a",
   "metadata": {},
   "outputs": [
    {
     "data": {
      "text/plain": [
       "-0.48290595999999997"
      ]
     },
     "execution_count": 9,
     "metadata": {},
     "output_type": "execute_result"
    }
   ],
   "source": [
    "-0.49145298+0.00854702"
   ]
  },
  {
   "cell_type": "code",
   "execution_count": 10,
   "id": "38b2f839",
   "metadata": {},
   "outputs": [
    {
     "data": {
      "text/plain": [
       "(2, 2)"
      ]
     },
     "execution_count": 10,
     "metadata": {},
     "output_type": "execute_result"
    }
   ],
   "source": [
    "a=np.array(\n",
    " [[ 0.00854702, -0.00854701],\n",
    "\n",
    " [-0.49145298 , 0.49145299]])\n",
    "a.shape"
   ]
  },
  {
   "cell_type": "code",
   "execution_count": 11,
   "id": "e9ab6991",
   "metadata": {},
   "outputs": [
    {
     "data": {
      "text/plain": [
       "array([-0.48290596,  0.48290598])"
      ]
     },
     "execution_count": 11,
     "metadata": {},
     "output_type": "execute_result"
    }
   ],
   "source": [
    "a.sum(axis=0)"
   ]
  },
  {
   "cell_type": "code",
   "execution_count": 12,
   "id": "37a80681",
   "metadata": {},
   "outputs": [
    {
     "name": "stdout",
     "output_type": "stream",
     "text": [
      "torch.Size([3, 1])\n"
     ]
    },
    {
     "data": {
      "text/plain": [
       "tensor([[2, 2],\n",
       "        [4, 4],\n",
       "        [5, 5]])"
      ]
     },
     "execution_count": 12,
     "metadata": {},
     "output_type": "execute_result"
    }
   ],
   "source": [
    "a=torch.tensor([\n",
    "    [2],[4],[5]\n",
    "])\n",
    "print(a.size())\n",
    "a.expand(3,2)"
   ]
  },
  {
   "cell_type": "code",
   "execution_count": 13,
   "id": "fa60143c",
   "metadata": {},
   "outputs": [
    {
     "name": "stdout",
     "output_type": "stream",
     "text": [
      "torch.Size([3])\n"
     ]
    },
    {
     "data": {
      "text/plain": [
       "tensor([[2, 4, 5],\n",
       "        [2, 4, 5]])"
      ]
     },
     "execution_count": 13,
     "metadata": {},
     "output_type": "execute_result"
    }
   ],
   "source": [
    "a=torch.tensor([\n",
    "    2,4,5\n",
    "])\n",
    "print(a.size())\n",
    "a.expand(2,3)"
   ]
  },
  {
   "cell_type": "code",
   "execution_count": 14,
   "id": "eb2e4c5e",
   "metadata": {},
   "outputs": [],
   "source": [
    "a=[1,2,3]\n",
    "b=list(a)"
   ]
  },
  {
   "cell_type": "code",
   "execution_count": 15,
   "id": "e23f7c21",
   "metadata": {},
   "outputs": [],
   "source": [
    "b.reverse()"
   ]
  },
  {
   "cell_type": "code",
   "execution_count": 16,
   "id": "bf633504",
   "metadata": {},
   "outputs": [
    {
     "data": {
      "text/plain": [
       "[3, 2, 1]"
      ]
     },
     "execution_count": 16,
     "metadata": {},
     "output_type": "execute_result"
    }
   ],
   "source": [
    "b"
   ]
  },
  {
   "cell_type": "code",
   "execution_count": 17,
   "id": "284d6008",
   "metadata": {},
   "outputs": [
    {
     "data": {
      "text/plain": [
       "[1, 2, 3]"
      ]
     },
     "execution_count": 17,
     "metadata": {},
     "output_type": "execute_result"
    }
   ],
   "source": [
    "a"
   ]
  },
  {
   "cell_type": "code",
   "execution_count": 19,
   "id": "e3c3507f",
   "metadata": {},
   "outputs": [
    {
     "data": {
      "text/plain": [
       "8"
      ]
     },
     "execution_count": 19,
     "metadata": {},
     "output_type": "execute_result"
    }
   ],
   "source": [
    "\n",
    "2**3"
   ]
  },
  {
   "cell_type": "code",
   "execution_count": 23,
   "id": "012ddea7",
   "metadata": {},
   "outputs": [],
   "source": [
    "a=np.array([\n",
    "    [1,2],\n",
    "    [3,4]\n",
    "])"
   ]
  },
  {
   "cell_type": "code",
   "execution_count": 24,
   "id": "c3f82807",
   "metadata": {},
   "outputs": [],
   "source": [
    "b=np.zeros([4,4])"
   ]
  },
  {
   "cell_type": "code",
   "execution_count": 27,
   "id": "77798190",
   "metadata": {},
   "outputs": [],
   "source": [
    "b[1:-1,1:-1]=a"
   ]
  },
  {
   "cell_type": "code",
   "execution_count": 29,
   "id": "1e8246a6",
   "metadata": {},
   "outputs": [
    {
     "data": {
      "text/plain": [
       "array([[4., 0.],\n",
       "       [0., 0.]])"
      ]
     },
     "execution_count": 29,
     "metadata": {},
     "output_type": "execute_result"
    }
   ],
   "source": [
    "b[2:,2:]"
   ]
  },
  {
   "cell_type": "code",
   "execution_count": 33,
   "id": "a616fa35",
   "metadata": {},
   "outputs": [
    {
     "data": {
      "text/plain": [
       "array([[0., 0., 0., 0.],\n",
       "       [0., 1., 2., 0.],\n",
       "       [0., 3., 4., 0.],\n",
       "       [0., 0., 0., 0.]])"
      ]
     },
     "execution_count": 33,
     "metadata": {},
     "output_type": "execute_result"
    }
   ],
   "source": [
    "b[:6]"
   ]
  },
  {
   "cell_type": "code",
   "execution_count": 36,
   "id": "4b7fd272",
   "metadata": {},
   "outputs": [
    {
     "data": {
      "text/plain": [
       "[array([0, 1, 2]), array([3, 4, 5]), array([6, 7, 8]), array([ 9, 10])]"
      ]
     },
     "execution_count": 36,
     "metadata": {},
     "output_type": "execute_result"
    }
   ],
   "source": [
    "np.array_split(np.arange(11),range(3, 10, 3))"
   ]
  },
  {
   "cell_type": "code",
   "execution_count": null,
   "id": "18918d29",
   "metadata": {},
   "outputs": [],
   "source": []
  }
 ],
 "metadata": {
  "kernelspec": {
   "display_name": "Python 3 (ipykernel)",
   "language": "python",
   "name": "python3"
  },
  "language_info": {
   "codemirror_mode": {
    "name": "ipython",
    "version": 3
   },
   "file_extension": ".py",
   "mimetype": "text/x-python",
   "name": "python",
   "nbconvert_exporter": "python",
   "pygments_lexer": "ipython3",
   "version": "3.8.13"
  }
 },
 "nbformat": 4,
 "nbformat_minor": 5
}
