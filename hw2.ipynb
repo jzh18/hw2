{
 "cells": [
  {
   "cell_type": "markdown",
   "metadata": {},
   "source": [
    "# 10-714 Homework 2\n",
    "\n",
    "In this homework, you will be implementing a neural network library in the needle framework. Reminder: __you must save a copy in drive__."
   ]
  },
  {
   "cell_type": "code",
   "execution_count": null,
   "metadata": {},
   "outputs": [],
   "source": [
    "# Code to set up the assignment\n",
    "from google.colab import drive\n",
    "drive.mount('/content/drive')\n",
    "%cd /content/drive/MyDrive/\n",
    "!mkdir -p 10714\n",
    "%cd /content/drive/MyDrive/10714\n",
    "!git clone https://github.com/dlsys10714/hw2.git\n",
    "%cd /content/drive/MyDrive/10714/hw2\n",
    "\n",
    "!pip3 install --upgrade --no-deps git+https://github.com/dlsys10714/mugrade.git"
   ]
  },
  {
   "cell_type": "markdown",
   "metadata": {},
   "source": [
    "## Question 0\n",
    "\n",
    "This homework builds off of Homework 1. First, in your Homework 2 directory, go to the files `autograd.py`, `ops.py` in the `python/needle` directory, and fill in the code between `### BEGIN YOUR SOLUTION` and `### END YOUR SOLUTION` with your solutions from Homework 1. \n",
    "\n",
    "**Note:** We have added functionality since HW1, specifically in the `autograd.py` file, so it is important to copy over your solutions rather than the entire previous file."
   ]
  },
  {
   "cell_type": "code",
   "execution_count": 1,
   "metadata": {},
   "outputs": [],
   "source": [
    "import sys\n",
    "sys.path.append('./python')\n",
    "sys.path.append('./apps')"
   ]
  },
  {
   "cell_type": "markdown",
   "metadata": {
    "tags": []
   },
   "source": [
    "## Question 1\n",
    "\n",
    "In this first question, you will implement a few different methods for weight initialization.  This will be done in the `python/needle/init.py` file, which contains a number of routines for initializing needle Tensors using various random and constant initializations.  Following the same methodology of the existing initializers (you will want to call e.g. `init.rand` or `init.randn` from your functions below, implement the following common initialization methods.  In all cases, the functions should return `fan_in` by `fan_out` 2D tensors (extensions to other sizes can be done via e.g., reshaping).\n",
    "\n",
    "\n",
    "### Xavier uniform\n",
    "`xavier_uniform(fan_in, fan_out, gain=1.0, **kwargs)`\n",
    "\n",
    "Fills the input Tensor with values according to the method described in [Understanding the difficulty of training deep feedforward neural networks](https://proceedings.mlr.press/v9/glorot10a/glorot10a.pdf), using a uniform distribution. The resulting Tensor will have values sampled from $\\mathcal{U}(-a, a)$ where \n",
    "\\begin{equation}\n",
    "a = \\text{gain} \\times \\sqrt{\\frac{6}{\\text{fan_in} + \\text{fan_out}}}\n",
    "\\end{equation}\n",
    "\n",
    "Pass remaining `**kwargs` parameters to the corresponding `init` random call.\n",
    "\n",
    "##### Parameters\n",
    "- `fan_in` - dimensionality of input\n",
    "- `fan_out` - dimensionality of output\n",
    "- `gain` - optional scaling factor\n",
    "___\n",
    "\n",
    "### Xavier normal\n",
    "`xavier_normal(fan_in, fan_out, gain=1.0, **kwargs)`\n",
    "\n",
    "Fills the input Tensor with values according to the method described in [Understanding the difficulty of training deep feedforward neural networks](https://proceedings.mlr.press/v9/glorot10a/glorot10a.pdf), using a normal distribution. The resulting Tensor will have values sampled from $\\mathcal{N}(0, \\text{std}^2)$ where \n",
    "\\begin{equation}\n",
    "\\text{std} = \\text{gain} \\times \\sqrt{\\frac{2}{\\text{fan_in} + \\text{fan_out}}}\n",
    "\\end{equation}\n",
    "\n",
    "##### Parameters\n",
    "- `fan_in` - dimensionality of input\n",
    "- `fan_out` - dimensionality of output\n",
    "- `gain` - optional scaling factor\n",
    "___\n",
    "\n",
    "### Kaiming uniform\n",
    "`kaiming_uniform(fan_in, fan_out, nonlinearity=\"relu\", **kwargs)`\n",
    "\n",
    "Fills the input Tensor with values according to the method described in [Delving deep into rectifiers: Surpassing human-level performance on ImageNet classification](https://arxiv.org/pdf/1502.01852.pdf), using a uniform distribution. The resulting Tensor will have values sampled from $\\mathcal{U}(-\\text{bound}, \\text{bound})$ where \n",
    "\\begin{equation}\n",
    "\\text{bound} = \\text{gain} \\times \\sqrt{\\frac{3}{\\text{fan_in}}}\n",
    "\\end{equation}\n",
    "\n",
    "Use the recommended gain value for ReLU: $\\text{gain}=\\sqrt{2}$.\n",
    "\n",
    "##### Parameters\n",
    "- `fan_in` - dimensionality of input\n",
    "- `fan_out` - dimensionality of output\n",
    "- `nonlinearity` - the non-linear function\n",
    "___\n",
    "\n",
    "### Kaiming normal\n",
    "`kaiming_normal(fan_in, fan_out, nonlinearity=\"relu\", **kwargs)`\n",
    "\n",
    "Fills the input Tensor with values according to the method described in [Delving deep into rectifiers: Surpassing human-level performance on ImageNet classification](https://arxiv.org/pdf/1502.01852.pdf), using a uniform distribution. The resulting Tensor will have values sampled from $\\mathcal{N}(0, \\text{std}^2)$ where \n",
    "\\begin{equation}\n",
    "\\text{std} = \\frac{\\text{gain}}{\\sqrt{\\text{fan_in}}}\n",
    "\\end{equation}\n",
    "\n",
    "Use the recommended gain value for ReLU: $\\text{gain}=\\sqrt{2}$.\n",
    "\n",
    "##### Parameters\n",
    "- `fan_in` - dimensionality of input\n",
    "- `fan_out` - dimensionality of output\n",
    "- `nonlinearity` - the non-linear function"
   ]
  },
  {
   "cell_type": "code",
   "execution_count": 157,
   "metadata": {},
   "outputs": [
    {
     "name": "stdout",
     "output_type": "stream",
     "text": [
      "\u001b[1m============================= test session starts ==============================\u001b[0m\n",
      "platform darwin -- Python 3.8.13, pytest-7.1.3, pluggy-1.0.0 -- /Users/huaifeng/opt/anaconda3/envs/mlsys_homework/bin/python\n",
      "cachedir: .pytest_cache\n",
      "rootdir: /Users/huaifeng/Projects/mlsys/hw2\n",
      "plugins: anyio-3.5.0\n",
      "collected 90 items / 86 deselected / 4 selected                                \u001b[0m\n",
      "\n",
      "tests/test_nn_and_optim.py::test_init_kaiming_uniform \u001b[32mPASSED\u001b[0m\u001b[32m             [ 25%]\u001b[0m\n",
      "tests/test_nn_and_optim.py::test_init_kaiming_normal \u001b[32mPASSED\u001b[0m\u001b[32m              [ 50%]\u001b[0m\n",
      "tests/test_nn_and_optim.py::test_init_xavier_uniform \u001b[32mPASSED\u001b[0m\u001b[32m              [ 75%]\u001b[0m\n",
      "tests/test_nn_and_optim.py::test_init_xavier_normal \u001b[32mPASSED\u001b[0m\u001b[32m               [100%]\u001b[0m\n",
      "\n",
      "\u001b[32m======================= \u001b[32m\u001b[1m4 passed\u001b[0m, \u001b[33m86 deselected\u001b[0m\u001b[32m in 0.15s\u001b[0m\u001b[32m =======================\u001b[0m\n"
     ]
    }
   ],
   "source": [
    "!python -m pytest -v -k \"test_init\""
   ]
  },
  {
   "cell_type": "code",
   "execution_count": 158,
   "metadata": {},
   "outputs": [
    {
     "name": "stdout",
     "output_type": "stream",
     "text": [
      "submit\n",
      "\u001b[1m============================= test session starts ==============================\u001b[0m\n",
      "platform darwin -- Python 3.8.13, pytest-7.1.3, pluggy-1.0.0\n",
      "rootdir: /Users/huaifeng/Projects/mlsys/hw2\n",
      "plugins: anyio-3.5.0\n",
      "collected 18 items / 17 deselected / 1 selected                                \u001b[0m\n",
      "\n",
      "tests/test_nn_and_optim.py \n",
      "Submitting init...\n",
      "Grader test 1 passed\n",
      "Grader test 2 passed\n",
      "Grader test 3 passed\n",
      "Grader test 4 passed\n",
      "\u001b[32m.\u001b[0m\n",
      "\n",
      "\u001b[32m======================= \u001b[32m\u001b[1m1 passed\u001b[0m, \u001b[33m17 deselected\u001b[0m\u001b[32m in 2.26s\u001b[0m\u001b[32m =======================\u001b[0m\n"
     ]
    }
   ],
   "source": [
    "!python -m mugrade submit '_Oo1E5jrsROcSyO0QctSs' -k \"init\" -s"
   ]
  },
  {
   "cell_type": "markdown",
   "metadata": {},
   "source": [
    "## Question 2\n",
    "\n",
    "In this question, you will implement additional modules in `python/needle/nn.py`. Specifically, for the following modules described below, initialize any variables of the module in the constructor, and fill out the `forward` method. \n",
    "___\n",
    "\n",
    "### Linear\n",
    "`needle.nn.Linear(in_features, out_features, bias=True, device=None, dtype=\"float32\")`\n",
    "\n",
    "Applies a linear transformation to the incoming data: $y = xA^T + b$. The input shape is $(N, H_{in})$ where $H_{in}=\\text{in_features}$. The output shape is $(N, H_{out})$ where $H_{out}=\\text{out_features}$.\n",
    "\n",
    "Be careful to explicitly broadcast the bias term to the correct shape -- Needle does not support implicit broadcasting.\n",
    "\n",
    "Additionally note that, for all layers including this one, you should initialize the weight Tensor before the bias Tensor, and should initialize all Parameters using only functions from 'init'.\n",
    "\n",
    "##### Parameters\n",
    "- `in_features` - size of each input sample\n",
    "- `out_features` - size of each output sample\n",
    "- `bias` - If set to `False`, the layer will not learn an additive bias.\n",
    "\n",
    "##### Variables\n",
    "- `weight` - the learnable weights of shape (`in_features`, `out_features`). The values should be initialized with the Kaiming Uniform initialization with `fan_in = in_features`\n",
    "- `bias` - the learnable bias of shape (`out_features`). The values should be initialized with the Kaiming Uniform initialize with `fan_in = out_features`. **Note the different in fan_in choice, due to their relative sizes**. "
   ]
  },
  {
   "cell_type": "code",
   "execution_count": 321,
   "metadata": {
    "scrolled": false
   },
   "outputs": [
    {
     "name": "stdout",
     "output_type": "stream",
     "text": [
      "\u001b[1m============================= test session starts ==============================\u001b[0m\n",
      "platform darwin -- Python 3.8.13, pytest-7.1.3, pluggy-1.0.0 -- /Users/huaifeng/opt/anaconda3/envs/mlsys_homework/bin/python\n",
      "cachedir: .pytest_cache\n",
      "rootdir: /Users/huaifeng/Projects/mlsys/hw2\n",
      "plugins: anyio-3.5.0\n",
      "collected 90 items / 82 deselected / 8 selected                                \u001b[0m\n",
      "\n",
      "tests/test_nn_and_optim.py::test_nn_linear_weight_init_1 \u001b[32mPASSED\u001b[0m\u001b[32m          [ 12%]\u001b[0m\n",
      "tests/test_nn_and_optim.py::test_nn_linear_bias_init_1 \u001b[32mPASSED\u001b[0m\u001b[32m            [ 25%]\u001b[0m\n",
      "tests/test_nn_and_optim.py::test_nn_linear_forward_1 \u001b[32mPASSED\u001b[0m\u001b[32m              [ 37%]\u001b[0m\n",
      "tests/test_nn_and_optim.py::test_nn_linear_forward_2 \u001b[32mPASSED\u001b[0m\u001b[32m              [ 50%]\u001b[0m\n",
      "tests/test_nn_and_optim.py::test_nn_linear_forward_3 \u001b[32mPASSED\u001b[0m\u001b[32m              [ 62%]\u001b[0m\n",
      "tests/test_nn_and_optim.py::test_nn_linear_backward_1 \u001b[32mPASSED\u001b[0m\u001b[32m             [ 75%]\u001b[0m\n",
      "tests/test_nn_and_optim.py::test_nn_linear_backward_2 \u001b[32mPASSED\u001b[0m\u001b[32m             [ 87%]\u001b[0m\n",
      "tests/test_nn_and_optim.py::test_nn_linear_backward_3 \u001b[32mPASSED\u001b[0m\u001b[32m             [100%]\u001b[0m\n",
      "\n",
      "\u001b[32m======================= \u001b[32m\u001b[1m8 passed\u001b[0m, \u001b[33m82 deselected\u001b[0m\u001b[32m in 0.16s\u001b[0m\u001b[32m =======================\u001b[0m\n"
     ]
    }
   ],
   "source": [
    "!python -m pytest -v -k \"test_nn_linear\""
   ]
  },
  {
   "cell_type": "code",
   "execution_count": 322,
   "metadata": {},
   "outputs": [
    {
     "name": "stdout",
     "output_type": "stream",
     "text": [
      "submit\n",
      "\u001b[1m============================= test session starts ==============================\u001b[0m\n",
      "platform darwin -- Python 3.8.13, pytest-7.1.3, pluggy-1.0.0\n",
      "rootdir: /Users/huaifeng/Projects/mlsys/hw2\n",
      "plugins: anyio-3.5.0\n",
      "collected 18 items / 17 deselected / 1 selected                                \u001b[0m\n",
      "\n",
      "tests/test_nn_and_optim.py \n",
      "Submitting nn_linear...\n",
      "Grader test 1 passed\n",
      "Grader test 2 passed\n",
      "Grader test 3 passed\n",
      "Grader test 4 passed\n",
      "Grader test 5 passed\n",
      "Grader test 6 passed\n",
      "\u001b[32m.\u001b[0m\n",
      "\n",
      "\u001b[32m======================= \u001b[32m\u001b[1m1 passed\u001b[0m, \u001b[33m17 deselected\u001b[0m\u001b[32m in 3.92s\u001b[0m\u001b[32m =======================\u001b[0m\n"
     ]
    }
   ],
   "source": [
    "!python -m mugrade submit '_Oo1E5jrsROcSyO0QctSs' -k \"nn_linear\""
   ]
  },
  {
   "cell_type": "markdown",
   "metadata": {},
   "source": [
    "### ReLU\n",
    "`needle.nn.ReLU()`\n",
    "\n",
    "Applies the rectified linear unit function element-wise:\n",
    "$ReLU(x) = max(0, x)$.\n",
    "\n",
    "If you have previously implemented ReLU's backwards pass in terms of itself, note that this is numerically unstable and will likely cause problems\n",
    "down the line.\n",
    "Instead, consider that we could write the derivative of ReLU as $I\\{x>0\\}$, where we arbitrarily decide that the derivative at $x=0$ is 0.\n",
    "(This is a _subdifferentiable_ function.)\n",
    "\n",
    "___"
   ]
  },
  {
   "cell_type": "code",
   "execution_count": 230,
   "metadata": {},
   "outputs": [
    {
     "name": "stdout",
     "output_type": "stream",
     "text": [
      "\u001b[1m============================= test session starts ==============================\u001b[0m\n",
      "platform darwin -- Python 3.8.13, pytest-7.1.3, pluggy-1.0.0 -- /Users/huaifeng/opt/anaconda3/envs/mlsys_homework/bin/python\n",
      "cachedir: .pytest_cache\n",
      "rootdir: /Users/huaifeng/Projects/mlsys/hw2\n",
      "plugins: anyio-3.5.0\n",
      "collected 90 items / 88 deselected / 2 selected                                \u001b[0m\n",
      "\n",
      "tests/test_nn_and_optim.py::test_nn_relu_forward_1 \u001b[32mPASSED\u001b[0m\u001b[32m                [ 50%]\u001b[0m\n",
      "tests/test_nn_and_optim.py::test_nn_relu_backward_1 \u001b[32mPASSED\u001b[0m\u001b[32m               [100%]\u001b[0m\n",
      "\n",
      "\u001b[32m======================= \u001b[32m\u001b[1m2 passed\u001b[0m, \u001b[33m88 deselected\u001b[0m\u001b[32m in 0.18s\u001b[0m\u001b[32m =======================\u001b[0m\n"
     ]
    }
   ],
   "source": [
    "!python -m pytest -v -k \"test_nn_relu\""
   ]
  },
  {
   "cell_type": "code",
   "execution_count": 231,
   "metadata": {},
   "outputs": [
    {
     "name": "stdout",
     "output_type": "stream",
     "text": [
      "submit\n",
      "\u001b[1m============================= test session starts ==============================\u001b[0m\n",
      "platform darwin -- Python 3.8.13, pytest-7.1.3, pluggy-1.0.0\n",
      "rootdir: /Users/huaifeng/Projects/mlsys/hw2\n",
      "plugins: anyio-3.5.0\n",
      "collected 18 items / 17 deselected / 1 selected                                \u001b[0m\n",
      "\n",
      "tests/test_nn_and_optim.py \n",
      "Submitting nn_relu...\n",
      "Grader test 1 passed\n",
      "Grader test 2 passed\n",
      "\u001b[32m.\u001b[0m\n",
      "\n",
      "\u001b[32m======================= \u001b[32m\u001b[1m1 passed\u001b[0m, \u001b[33m17 deselected\u001b[0m\u001b[32m in 1.76s\u001b[0m\u001b[32m =======================\u001b[0m\n"
     ]
    }
   ],
   "source": [
    "!python -m mugrade submit '_Oo1E5jrsROcSyO0QctSs' -k \"nn_relu\""
   ]
  },
  {
   "cell_type": "markdown",
   "metadata": {
    "tags": []
   },
   "source": [
    "### Sequential\n",
    "`needle.nn.Sequential(*modules)`\n",
    "\n",
    "Applies a sequence of modules to the input (in the order that they were passed to the constructor) and returns the output of the last module.\n",
    "These should be kept in a `.module` property: you should _not_ redefine any magic methods like `__getitem__`, as this may not be compatible with our tests.\n",
    "\n",
    "##### Parameters\n",
    "- `*modules` - any number of modules of type `needle.nn.Module`\n",
    "\n",
    "___"
   ]
  },
  {
   "cell_type": "code",
   "execution_count": 232,
   "metadata": {},
   "outputs": [
    {
     "name": "stdout",
     "output_type": "stream",
     "text": [
      "\u001b[1m============================= test session starts ==============================\u001b[0m\n",
      "platform darwin -- Python 3.8.13, pytest-7.1.3, pluggy-1.0.0 -- /Users/huaifeng/opt/anaconda3/envs/mlsys_homework/bin/python\n",
      "cachedir: .pytest_cache\n",
      "rootdir: /Users/huaifeng/Projects/mlsys/hw2\n",
      "plugins: anyio-3.5.0\n",
      "collected 90 items / 88 deselected / 2 selected                                \u001b[0m\n",
      "\n",
      "tests/test_nn_and_optim.py::test_nn_sequential_forward_1 \u001b[32mPASSED\u001b[0m\u001b[32m          [ 50%]\u001b[0m\n",
      "tests/test_nn_and_optim.py::test_nn_sequential_backward_1 \u001b[32mPASSED\u001b[0m\u001b[32m         [100%]\u001b[0m\n",
      "\n",
      "\u001b[32m======================= \u001b[32m\u001b[1m2 passed\u001b[0m, \u001b[33m88 deselected\u001b[0m\u001b[32m in 0.16s\u001b[0m\u001b[32m =======================\u001b[0m\n"
     ]
    }
   ],
   "source": [
    "!python -m pytest -v -k \"test_nn_sequential\""
   ]
  },
  {
   "cell_type": "code",
   "execution_count": 164,
   "metadata": {},
   "outputs": [
    {
     "name": "stdout",
     "output_type": "stream",
     "text": [
      "submit\n",
      "\u001b[1m============================= test session starts ==============================\u001b[0m\n",
      "platform darwin -- Python 3.8.13, pytest-7.1.3, pluggy-1.0.0\n",
      "rootdir: /Users/huaifeng/Projects/mlsys/hw2\n",
      "plugins: anyio-3.5.0\n",
      "collected 18 items / 17 deselected / 1 selected                                \u001b[0m\n",
      "\n",
      "tests/test_nn_and_optim.py \n",
      "Submitting nn_sequential...\n",
      "Grader test 1 passed\n",
      "Grader test 2 passed\n",
      "\u001b[32m.\u001b[0m\n",
      "\n",
      "\u001b[32m======================= \u001b[32m\u001b[1m1 passed\u001b[0m, \u001b[33m17 deselected\u001b[0m\u001b[32m in 1.26s\u001b[0m\u001b[32m =======================\u001b[0m\n"
     ]
    }
   ],
   "source": [
    "!python -m mugrade submit '_Oo1E5jrsROcSyO0QctSs' -k \"nn_sequential\""
   ]
  },
  {
   "cell_type": "markdown",
   "metadata": {
    "tags": []
   },
   "source": [
    "### LogSumExp\n",
    "\n",
    "`needle.ops.LogSumExp(axes)`\n",
    "\n",
    "Here you will need to implement one additional operatior in the `python/ops.py` file, as you did in HW1. Applies a numerically stable log-sum-exp function to the input by subtracting off the maximum elements.\n",
    "\n",
    "\\begin{equation}\n",
    "\\text{LogSumExp}(z) = \\log (\\sum_{i} \\exp (z_i - \\max{z})) + \\max{z}\n",
    "\\end{equation}\n",
    "\n",
    "#### Parameters\n",
    "- `axes` - Tuple of axes to sum and take the maximum element over. This uses the same conventions as `needle.ops.Summation()`\n",
    "\n",
    "___"
   ]
  },
  {
   "cell_type": "code",
   "execution_count": 165,
   "metadata": {
    "scrolled": false
   },
   "outputs": [
    {
     "name": "stdout",
     "output_type": "stream",
     "text": [
      "\u001b[1m============================= test session starts ==============================\u001b[0m\n",
      "platform darwin -- Python 3.8.13, pytest-7.1.3, pluggy-1.0.0 -- /Users/huaifeng/opt/anaconda3/envs/mlsys_homework/bin/python\n",
      "cachedir: .pytest_cache\n",
      "rootdir: /Users/huaifeng/Projects/mlsys/hw2\n",
      "plugins: anyio-3.5.0\n",
      "collected 90 items / 85 deselected / 5 selected                                \u001b[0m\n",
      "\n",
      "tests/test_nn_and_optim.py::test_op_logsumexp_backward_1 \u001b[32mPASSED\u001b[0m\u001b[32m          [ 20%]\u001b[0m\n",
      "tests/test_nn_and_optim.py::test_op_logsumexp_backward_2 \u001b[32mPASSED\u001b[0m\u001b[32m          [ 40%]\u001b[0m\n",
      "tests/test_nn_and_optim.py::test_op_logsumexp_backward_3 \u001b[32mPASSED\u001b[0m\u001b[32m          [ 60%]\u001b[0m\n",
      "tests/test_nn_and_optim.py::test_op_logsumexp_backward_5 \u001b[32mPASSED\u001b[0m\u001b[32m          [ 80%]\u001b[0m\n",
      "tests/test_nn_and_optim.py::test_op_logsumexp_backward_4 \u001b[32mPASSED\u001b[0m\u001b[32m          [100%]\u001b[0m\n",
      "\n",
      "\u001b[32m======================= \u001b[32m\u001b[1m5 passed\u001b[0m, \u001b[33m85 deselected\u001b[0m\u001b[32m in 0.16s\u001b[0m\u001b[32m =======================\u001b[0m\n"
     ]
    }
   ],
   "source": [
    "!python -m pytest -v -k \"test_op_logsumexp_backward_\""
   ]
  },
  {
   "cell_type": "code",
   "execution_count": 166,
   "metadata": {},
   "outputs": [
    {
     "name": "stdout",
     "output_type": "stream",
     "text": [
      "submit\n",
      "\u001b[1m============================= test session starts ==============================\u001b[0m\n",
      "platform darwin -- Python 3.8.13, pytest-7.1.3, pluggy-1.0.0\n",
      "rootdir: /Users/huaifeng/Projects/mlsys/hw2\n",
      "plugins: anyio-3.5.0\n",
      "collected 18 items / 17 deselected / 1 selected                                \u001b[0m\n",
      "\n",
      "tests/test_nn_and_optim.py \n",
      "Submitting op_logsumexp...\n",
      "Grader test 1 passed\n",
      "Grader test 2 passed\n",
      "Grader test 3 passed\n",
      "Grader test 4 passed\n",
      "Grader test 5 passed\n",
      "Grader test 6 passed\n",
      "Grader test 7 passed\n",
      "Grader test 8 passed\n",
      "Grader test 9 passed\n",
      "Grader test 10 passed\n",
      "\u001b[32m.\u001b[0m\n",
      "\n",
      "\u001b[32m======================= \u001b[32m\u001b[1m1 passed\u001b[0m, \u001b[33m17 deselected\u001b[0m\u001b[32m in 5.67s\u001b[0m\u001b[32m =======================\u001b[0m\n"
     ]
    }
   ],
   "source": [
    "!python -m mugrade submit '_Oo1E5jrsROcSyO0QctSs' -k \"op_logsumexp\""
   ]
  },
  {
   "cell_type": "markdown",
   "metadata": {
    "tags": []
   },
   "source": [
    "### SoftmaxLoss\n",
    "\n",
    "`needle.nn.SoftmaxLoss()`\n",
    "\n",
    "Applies the softmax loss as defined below (and as implemented in Homework 1), taking in as input a Tensor of logits and a Tensor of the true labels (expressed as a list of numbers, *not* one-hot encoded).\n",
    "\n",
    "Note that you can use the `init.one_hot` function now instead of writing this yourself.  Note: You will need to use the numerically stable logsumexp operated you just implemented for this purpose.\n",
    "\n",
    "\\begin{equation}\n",
    "\\ell_\\text{softmax}(z,y) = \\log \\sum_{i=1}^k \\exp z_i - z_y\n",
    "\\end{equation}\n",
    "\n",
    "___"
   ]
  },
  {
   "cell_type": "code",
   "execution_count": 167,
   "metadata": {
    "scrolled": false
   },
   "outputs": [
    {
     "name": "stdout",
     "output_type": "stream",
     "text": [
      "\u001b[1m============================= test session starts ==============================\u001b[0m\n",
      "platform darwin -- Python 3.8.13, pytest-7.1.3, pluggy-1.0.0 -- /Users/huaifeng/opt/anaconda3/envs/mlsys_homework/bin/python\n",
      "cachedir: .pytest_cache\n",
      "rootdir: /Users/huaifeng/Projects/mlsys/hw2\n",
      "plugins: anyio-3.5.0\n",
      "collected 90 items / 86 deselected / 4 selected                                \u001b[0m\n",
      "\n",
      "tests/test_nn_and_optim.py::test_nn_softmax_loss_forward_1 \u001b[32mPASSED\u001b[0m\u001b[32m        [ 25%]\u001b[0m\n",
      "tests/test_nn_and_optim.py::test_nn_softmax_loss_forward_2 \u001b[32mPASSED\u001b[0m\u001b[32m        [ 50%]\u001b[0m\n",
      "tests/test_nn_and_optim.py::test_nn_softmax_loss_backward_1 \u001b[32mPASSED\u001b[0m\u001b[32m       [ 75%]\u001b[0m\n",
      "tests/test_nn_and_optim.py::test_nn_softmax_loss_backward_2 \u001b[32mPASSED\u001b[0m\u001b[32m       [100%]\u001b[0m\n",
      "\n",
      "\u001b[32m======================= \u001b[32m\u001b[1m4 passed\u001b[0m, \u001b[33m86 deselected\u001b[0m\u001b[32m in 0.16s\u001b[0m\u001b[32m =======================\u001b[0m\n"
     ]
    }
   ],
   "source": [
    "!python -m pytest -v -k \"test_nn_softmax_loss_\""
   ]
  },
  {
   "cell_type": "code",
   "execution_count": 168,
   "metadata": {},
   "outputs": [
    {
     "name": "stdout",
     "output_type": "stream",
     "text": [
      "submit\n",
      "\u001b[1m============================= test session starts ==============================\u001b[0m\n",
      "platform darwin -- Python 3.8.13, pytest-7.1.3, pluggy-1.0.0\n",
      "rootdir: /Users/huaifeng/Projects/mlsys/hw2\n",
      "plugins: anyio-3.5.0\n",
      "collected 18 items / 17 deselected / 1 selected                                \u001b[0m\n",
      "\n",
      "tests/test_nn_and_optim.py \n",
      "Submitting nn_softmax_loss...\n",
      "Grader test 1 passed\n",
      "Grader test 2 passed\n",
      "Grader test 3 passed\n",
      "Grader test 4 passed\n",
      "\u001b[32m.\u001b[0m\n",
      "\n",
      "\u001b[32m======================= \u001b[32m\u001b[1m1 passed\u001b[0m, \u001b[33m17 deselected\u001b[0m\u001b[32m in 2.20s\u001b[0m\u001b[32m =======================\u001b[0m\n"
     ]
    }
   ],
   "source": [
    "!python -m mugrade submit '_Oo1E5jrsROcSyO0QctSs' -k \"nn_softmax_loss\""
   ]
  },
  {
   "cell_type": "markdown",
   "metadata": {
    "tags": []
   },
   "source": [
    "### LayerNorm1d\n",
    "`needle.nn.LayerNorm1d(dim, eps=1e-5, device=None, dtype=\"float32\")`\n",
    "\n",
    "Applies layer normalization over a mini-batch of inputs as described in the paper [Layer Normalization](https://arxiv.org/abs/1607.06450).\n",
    "\n",
    "\\begin{equation}\n",
    "y = w \\circ \\frac{x_i - \\textbf{E}[x]}{((\\textbf{Var}[x]+\\epsilon)^{1/2})} + b\n",
    "\\end{equation}\n",
    "\n",
    "where $\\textbf{E}[x]$ denotes the empirical mean of the inputs, $\\textbf{Var}[x]$ denotes their empirical variance (not that here we are using the \"unbiased\" estimate of the variance, i.e., dividing by $N$ rather than by $N-1$), and $w$ and $b$ denote learnable scalar weights and biases respectively.  Note you can assume the input to this layer by be a 2D tensor, with batches in the first dimension and features on the second.\n",
    "\n",
    "##### Parameters\n",
    "- `dim` - number of channels\n",
    "- `eps` - a value added to the denominator for numerical stability.\n",
    "\n",
    "##### Variables\n",
    "- `weight` - the learnable weights of size `dim`, elements initialized to 1.\n",
    "- `bias` - the learnable bias of shape `dim`, elements initialized to 0 **(changed from 1)**.\n",
    "___"
   ]
  },
  {
   "cell_type": "code",
   "execution_count": 235,
   "metadata": {
    "scrolled": false
   },
   "outputs": [
    {
     "name": "stdout",
     "output_type": "stream",
     "text": [
      "\u001b[1m============================= test session starts ==============================\u001b[0m\n",
      "platform darwin -- Python 3.8.13, pytest-7.1.3, pluggy-1.0.0 -- /Users/huaifeng/opt/anaconda3/envs/mlsys_homework/bin/python\n",
      "cachedir: .pytest_cache\n",
      "rootdir: /Users/huaifeng/Projects/mlsys/hw2\n",
      "plugins: anyio-3.5.0\n",
      "collected 90 items / 83 deselected / 7 selected                                \u001b[0m\n",
      "\n",
      "tests/test_nn_and_optim.py::test_nn_layernorm_forward_1 \u001b[32mPASSED\u001b[0m\u001b[32m           [ 14%]\u001b[0m\n",
      "tests/test_nn_and_optim.py::test_nn_layernorm_forward_2 \u001b[32mPASSED\u001b[0m\u001b[32m           [ 28%]\u001b[0m\n",
      "tests/test_nn_and_optim.py::test_nn_layernorm_forward_3 \u001b[32mPASSED\u001b[0m\u001b[32m           [ 42%]\u001b[0m\n",
      "tests/test_nn_and_optim.py::test_nn_layernorm_backward_1 \u001b[32mPASSED\u001b[0m\u001b[32m          [ 57%]\u001b[0m\n",
      "tests/test_nn_and_optim.py::test_nn_layernorm_backward_2 \u001b[32mPASSED\u001b[0m\u001b[32m          [ 71%]\u001b[0m\n",
      "tests/test_nn_and_optim.py::test_nn_layernorm_backward_3 \u001b[32mPASSED\u001b[0m\u001b[32m          [ 85%]\u001b[0m\n",
      "tests/test_nn_and_optim.py::test_nn_layernorm_backward_4 \u001b[32mPASSED\u001b[0m\u001b[32m          [100%]\u001b[0m\n",
      "\n",
      "\u001b[32m======================= \u001b[32m\u001b[1m7 passed\u001b[0m, \u001b[33m83 deselected\u001b[0m\u001b[32m in 0.16s\u001b[0m\u001b[32m =======================\u001b[0m\n"
     ]
    }
   ],
   "source": [
    "!python -m pytest -v -k \"test_nn_layernorm_\""
   ]
  },
  {
   "cell_type": "code",
   "execution_count": 236,
   "metadata": {},
   "outputs": [
    {
     "name": "stdout",
     "output_type": "stream",
     "text": [
      "submit\n",
      "\u001b[1m============================= test session starts ==============================\u001b[0m\n",
      "platform darwin -- Python 3.8.13, pytest-7.1.3, pluggy-1.0.0\n",
      "rootdir: /Users/huaifeng/Projects/mlsys/hw2\n",
      "plugins: anyio-3.5.0\n",
      "collected 18 items / 17 deselected / 1 selected                                \u001b[0m\n",
      "\n",
      "tests/test_nn_and_optim.py \n",
      "Submitting nn_layernorm...\n",
      "Grader test 1 passed\n",
      "Grader test 2 passed\n",
      "Grader test 3 passed\n",
      "Grader test 4 passed\n",
      "Grader test 5 passed\n",
      "Grader test 6 passed\n",
      "Grader test 7 passed\n",
      "Grader test 8 passed\n",
      "\u001b[32m.\u001b[0m\n",
      "\n",
      "\u001b[32m======================= \u001b[32m\u001b[1m1 passed\u001b[0m, \u001b[33m17 deselected\u001b[0m\u001b[32m in 4.68s\u001b[0m\u001b[32m =======================\u001b[0m\n"
     ]
    }
   ],
   "source": [
    "!python -m mugrade submit '_Oo1E5jrsROcSyO0QctSs' -k \"nn_layernorm\""
   ]
  },
  {
   "cell_type": "markdown",
   "metadata": {},
   "source": [
    "\n",
    "### Flatten\n",
    "`needle.nn.Flatten()`\n",
    "\n",
    "Takes in a tensor of shape `(B,X_0,X_1,...)`, and flattens all non-batch dimensions so that the output is of shape `(B, X_0 * X_1 * ...)`"
   ]
  },
  {
   "cell_type": "code",
   "execution_count": 177,
   "metadata": {
    "scrolled": false
   },
   "outputs": [
    {
     "name": "stdout",
     "output_type": "stream",
     "text": [
      "\u001b[1m============================= test session starts ==============================\u001b[0m\n",
      "platform darwin -- Python 3.8.13, pytest-7.1.3, pluggy-1.0.0 -- /Users/huaifeng/opt/anaconda3/envs/mlsys_homework/bin/python\n",
      "cachedir: .pytest_cache\n",
      "rootdir: /Users/huaifeng/Projects/mlsys/hw2\n",
      "plugins: anyio-3.5.0\n",
      "collected 90 items / 81 deselected / 9 selected                                \u001b[0m\n",
      "\n",
      "tests/test_nn_and_optim.py::test_nn_flatten_forward_1 \u001b[32mPASSED\u001b[0m\u001b[32m             [ 11%]\u001b[0m\n",
      "tests/test_nn_and_optim.py::test_nn_flatten_forward_2 \u001b[32mPASSED\u001b[0m\u001b[32m             [ 22%]\u001b[0m\n",
      "tests/test_nn_and_optim.py::test_nn_flatten_forward_3 \u001b[32mPASSED\u001b[0m\u001b[32m             [ 33%]\u001b[0m\n",
      "tests/test_nn_and_optim.py::test_nn_flatten_forward_4 \u001b[32mPASSED\u001b[0m\u001b[32m             [ 44%]\u001b[0m\n",
      "tests/test_nn_and_optim.py::test_nn_flatten_backward_1 \u001b[32mPASSED\u001b[0m\u001b[32m            [ 55%]\u001b[0m\n",
      "tests/test_nn_and_optim.py::test_nn_flatten_backward_2 \u001b[32mPASSED\u001b[0m\u001b[32m            [ 66%]\u001b[0m\n",
      "tests/test_nn_and_optim.py::test_nn_flatten_backward_3 \u001b[32mPASSED\u001b[0m\u001b[32m            [ 77%]\u001b[0m\n",
      "tests/test_nn_and_optim.py::test_nn_flatten_backward_4 \u001b[32mPASSED\u001b[0m\u001b[32m            [ 88%]\u001b[0m\n",
      "tests/test_nn_and_optim.py::test_nn_flatten_backward_5 \u001b[32mPASSED\u001b[0m\u001b[32m            [100%]\u001b[0m\n",
      "\n",
      "\u001b[32m======================= \u001b[32m\u001b[1m9 passed\u001b[0m, \u001b[33m81 deselected\u001b[0m\u001b[32m in 0.17s\u001b[0m\u001b[32m =======================\u001b[0m\n"
     ]
    }
   ],
   "source": [
    "!python -m pytest -v -k \"test_nn_flatten\""
   ]
  },
  {
   "cell_type": "code",
   "execution_count": 178,
   "metadata": {},
   "outputs": [
    {
     "name": "stdout",
     "output_type": "stream",
     "text": [
      "submit\n",
      "\u001b[1m============================= test session starts ==============================\u001b[0m\n",
      "platform darwin -- Python 3.8.13, pytest-7.1.3, pluggy-1.0.0\n",
      "rootdir: /Users/huaifeng/Projects/mlsys/hw2\n",
      "plugins: anyio-3.5.0\n",
      "collected 18 items / 17 deselected / 1 selected                                \u001b[0m\n",
      "\n",
      "tests/test_nn_and_optim.py \n",
      "Submitting nn_flatten...\n",
      "Grader test 1 passed\n",
      "Grader test 2 passed\n",
      "Grader test 3 passed\n",
      "Grader test 4 passed\n",
      "Grader test 5 passed\n",
      "Grader test 6 passed\n",
      "Grader test 7 passed\n",
      "Grader test 8 passed\n",
      "\u001b[32m.\u001b[0m\n",
      "\n",
      "\u001b[32m======================= \u001b[32m\u001b[1m1 passed\u001b[0m, \u001b[33m17 deselected\u001b[0m\u001b[32m in 4.84s\u001b[0m\u001b[32m =======================\u001b[0m\n"
     ]
    }
   ],
   "source": [
    "!python -m mugrade submit '_Oo1E5jrsROcSyO0QctSs' -k \"nn_flatten\""
   ]
  },
  {
   "cell_type": "markdown",
   "metadata": {},
   "source": [
    "### BatchNorm1d\n",
    "`needle.nn.BatchNorm1d(dim, eps=1e-5, momentum=0.1, device=None, dtype=\"float32\")`\n",
    "\n",
    "Applies batch normalization over a mini-batch of inputs as described in the paper [Batch Normalization: Accelerating Deep Network Training by Reducing Internal Covariate Shift](https://arxiv.org/abs/1502.03167).\n",
    "\n",
    "\\begin{equation}\n",
    "y = w \\circ \\frac{z_i - \\textbf{E}[x]}{((\\textbf{Var}[x]+\\epsilon)^{1/2})} + b\n",
    "\\end{equation}\n",
    "\n",
    "but where here the mean and variance refer to to the mean and variance over the _batch_dimensions.  The function also computes a running average of mean/variance for all features at each layer $\\hat{\\mu}, \\hat{\\sigma}^2$, and at test time normalizes by these quantities:\n",
    "\n",
    "\\begin{equation}\n",
    "y = \\frac{(x - \\hat{mu})}{((\\hat{\\sigma}^2_{i+1})_j+\\epsilon)^{1/2}}\n",
    "\\end{equation}\n",
    "\n",
    "\n",
    "BatchNorm uses the running estimates of mean and variance instead of batch statistics at test time, i.e.,\n",
    "after `model.eval()` has been called on the BatchNorm layer's `training` flag is false.\n",
    "\n",
    "To compute the running estimates, you can use the equation $$\\hat{x_{new}} = (1 - m) \\hat{x_{old}} + mx_{observed},$$\n",
    "where $m$ is momentum.\n",
    "\n",
    "##### Parameters\n",
    "- `dim` - input dimension\n",
    "- `eps` - a value added to the denominator for numerical stability.\n",
    "- `momentum` - the value used for the running mean and running variance computation.\n",
    "\n",
    "##### Variables\n",
    "- `weight` - the learnable weights of size `dim`, elements initialized to 1.\n",
    "- `bias` - the learnable bias of size `dim`, elements initialized to 0.\n",
    "- `running_mean` - the running mean used at evaluation time, elements initialized to 0.\n",
    "- `running_var` - the running (unbiased) variance used at evaluation time, elements initialized to 1. \n",
    "\n",
    "___"
   ]
  },
  {
   "cell_type": "code",
   "execution_count": 233,
   "metadata": {
    "scrolled": false
   },
   "outputs": [
    {
     "name": "stdout",
     "output_type": "stream",
     "text": [
      "\u001b[1m============================= test session starts ==============================\u001b[0m\n",
      "platform darwin -- Python 3.8.13, pytest-7.1.3, pluggy-1.0.0 -- /Users/huaifeng/opt/anaconda3/envs/mlsys_homework/bin/python\n",
      "cachedir: .pytest_cache\n",
      "rootdir: /Users/huaifeng/Projects/mlsys/hw2\n",
      "plugins: anyio-3.5.0\n",
      "collected 90 items / 82 deselected / 8 selected                                \u001b[0m\n",
      "\n",
      "tests/test_nn_and_optim.py::test_nn_batchnorm_check_model_eval_switches_training_flag_1 \u001b[32mPASSED\u001b[0m\u001b[32m [ 12%]\u001b[0m\n",
      "tests/test_nn_and_optim.py::test_nn_batchnorm_forward_1 \u001b[32mPASSED\u001b[0m\u001b[32m           [ 25%]\u001b[0m\n",
      "tests/test_nn_and_optim.py::test_nn_batchnorm_forward_affine_1 \u001b[32mPASSED\u001b[0m\u001b[32m    [ 37%]\u001b[0m\n",
      "tests/test_nn_and_optim.py::test_nn_batchnorm_backward_1 \u001b[32mPASSED\u001b[0m\u001b[32m          [ 50%]\u001b[0m\n",
      "tests/test_nn_and_optim.py::test_nn_batchnorm_backward_affine_1 \u001b[32mPASSED\u001b[0m\u001b[32m   [ 62%]\u001b[0m\n",
      "tests/test_nn_and_optim.py::test_nn_batchnorm_running_mean_1 \u001b[32mPASSED\u001b[0m\u001b[32m      [ 75%]\u001b[0m\n",
      "tests/test_nn_and_optim.py::test_nn_batchnorm_running_var_1 \u001b[32mPASSED\u001b[0m\u001b[32m       [ 87%]\u001b[0m\n",
      "tests/test_nn_and_optim.py::test_nn_batchnorm_running_grad_1 \u001b[32mPASSED\u001b[0m\u001b[32m      [100%]\u001b[0m\n",
      "\n",
      "\u001b[32m======================= \u001b[32m\u001b[1m8 passed\u001b[0m, \u001b[33m82 deselected\u001b[0m\u001b[32m in 0.16s\u001b[0m\u001b[32m =======================\u001b[0m\n"
     ]
    }
   ],
   "source": [
    "!python -m pytest -v -k \"test_nn_batchnorm_\""
   ]
  },
  {
   "cell_type": "code",
   "execution_count": 234,
   "metadata": {},
   "outputs": [
    {
     "name": "stdout",
     "output_type": "stream",
     "text": [
      "submit\n",
      "\u001b[1m============================= test session starts ==============================\u001b[0m\n",
      "platform darwin -- Python 3.8.13, pytest-7.1.3, pluggy-1.0.0\n",
      "rootdir: /Users/huaifeng/Projects/mlsys/hw2\n",
      "plugins: anyio-3.5.0\n",
      "collected 18 items / 17 deselected / 1 selected                                \u001b[0m\n",
      "\n",
      "tests/test_nn_and_optim.py \n",
      "Submitting nn_batchnorm...\n",
      "Grader test 1 passed\n",
      "Grader test 2 passed\n",
      "Grader test 3 passed\n",
      "Grader test 4 passed\n",
      "Grader test 5 passed\n",
      "Grader test 6 passed\n",
      "Grader test 7 passed\n",
      "Grader test 8 passed\n",
      "Grader test 9 passed\n",
      "\u001b[32m.\u001b[0m\n",
      "\n",
      "\u001b[32m======================= \u001b[32m\u001b[1m1 passed\u001b[0m, \u001b[33m17 deselected\u001b[0m\u001b[32m in 6.21s\u001b[0m\u001b[32m =======================\u001b[0m\n"
     ]
    }
   ],
   "source": [
    "!python -m mugrade submit '_Oo1E5jrsROcSyO0QctSs' -k \"nn_batchnorm\""
   ]
  },
  {
   "cell_type": "markdown",
   "metadata": {},
   "source": [
    "### Dropout\n",
    "`needle.nn.Dropout(p = 0.5)`\n",
    "\n",
    "During training, randomly zeroes some of the elements of the input tensor with probability `p` using samples from a Bernoulli distribution. This has proven to be an effective technique for regularization and preventing the co-adaptation of neurons as described in the paper [Improving neural networks by preventing co-adaption of feature detectors](https://arxiv.org/abs/1207.0580). During evaluation the module simply computes an identity function. \n",
    "\n",
    "\\begin{equation}\n",
    "\\hat{z}_{i+1} = \\sigma_i (W_i^T z_i + b_i) \\\\\n",
    "(z_{i+1})_j = \n",
    "    \\begin{cases}\n",
    "    (\\hat{z}_{i+1})_j /(1-p) & \\text{with probability } 1-p \\\\\n",
    "    0 & \\text{with probability } p \\\\\n",
    "    \\end{cases}\n",
    "\\end{equation}\n",
    "\n",
    "**Important**: If the Dropout module the flag `training=False`, you shouldn't \"dropout\" any weights. That is, dropout applies during training only, not during evaluation. Note that `training` is a flag in `nn.Module`.\n",
    "\n",
    "##### Parameters\n",
    "- `p` - the probability of an element to be zeroed.\n",
    "\n",
    "___"
   ]
  },
  {
   "cell_type": "code",
   "execution_count": 216,
   "metadata": {},
   "outputs": [
    {
     "name": "stdout",
     "output_type": "stream",
     "text": [
      "\u001b[1m============================= test session starts ==============================\u001b[0m\n",
      "platform darwin -- Python 3.8.13, pytest-7.1.3, pluggy-1.0.0 -- /Users/huaifeng/opt/anaconda3/envs/mlsys_homework/bin/python\n",
      "cachedir: .pytest_cache\n",
      "rootdir: /Users/huaifeng/Projects/mlsys/hw2\n",
      "plugins: anyio-3.5.0\n",
      "collected 90 items / 88 deselected / 2 selected                                \u001b[0m\n",
      "\n",
      "tests/test_nn_and_optim.py::test_nn_dropout_forward_1 \u001b[32mPASSED\u001b[0m\u001b[32m             [ 50%]\u001b[0m\n",
      "tests/test_nn_and_optim.py::test_nn_dropout_backward_1 \u001b[32mPASSED\u001b[0m\u001b[32m            [100%]\u001b[0m\n",
      "\n",
      "\u001b[32m======================= \u001b[32m\u001b[1m2 passed\u001b[0m, \u001b[33m88 deselected\u001b[0m\u001b[32m in 0.17s\u001b[0m\u001b[32m =======================\u001b[0m\n"
     ]
    }
   ],
   "source": [
    "!python -m pytest -v -k \"test_nn_dropout\""
   ]
  },
  {
   "cell_type": "code",
   "execution_count": 217,
   "metadata": {},
   "outputs": [
    {
     "name": "stdout",
     "output_type": "stream",
     "text": [
      "submit\n",
      "\u001b[1m============================= test session starts ==============================\u001b[0m\n",
      "platform darwin -- Python 3.8.13, pytest-7.1.3, pluggy-1.0.0\n",
      "rootdir: /Users/huaifeng/Projects/mlsys/hw2\n",
      "plugins: anyio-3.5.0\n",
      "collected 18 items / 17 deselected / 1 selected                                \u001b[0m\n",
      "\n",
      "tests/test_nn_and_optim.py \n",
      "Submitting nn_dropout...\n",
      "Grader test 1 passed\n",
      "Grader test 2 passed\n",
      "\u001b[32m.\u001b[0m\n",
      "\n",
      "\u001b[32m======================= \u001b[32m\u001b[1m1 passed\u001b[0m, \u001b[33m17 deselected\u001b[0m\u001b[32m in 1.51s\u001b[0m\u001b[32m =======================\u001b[0m\n"
     ]
    }
   ],
   "source": [
    "!python -m mugrade submit '_Oo1E5jrsROcSyO0QctSs' -k \"nn_dropout\""
   ]
  },
  {
   "cell_type": "markdown",
   "metadata": {
    "tags": []
   },
   "source": [
    "### Residual\n",
    "`needle.nn.Residual(fn: Module)`\n",
    "\n",
    "Applies a residual or skip connection given module $\\mathcal{F}$ and input Tensor $x$, returning $\\mathcal{F}(x) + x$.\n",
    "##### Parameters\n",
    "- `fn` - module of type `needle.nn.Module`"
   ]
  },
  {
   "cell_type": "code",
   "execution_count": 218,
   "metadata": {},
   "outputs": [
    {
     "name": "stdout",
     "output_type": "stream",
     "text": [
      "\u001b[1m============================= test session starts ==============================\u001b[0m\n",
      "platform darwin -- Python 3.8.13, pytest-7.1.3, pluggy-1.0.0 -- /Users/huaifeng/opt/anaconda3/envs/mlsys_homework/bin/python\n",
      "cachedir: .pytest_cache\n",
      "rootdir: /Users/huaifeng/Projects/mlsys/hw2\n",
      "plugins: anyio-3.5.0\n",
      "collected 90 items / 88 deselected / 2 selected                                \u001b[0m\n",
      "\n",
      "tests/test_nn_and_optim.py::test_nn_residual_forward_1 \u001b[32mPASSED\u001b[0m\u001b[32m            [ 50%]\u001b[0m\n",
      "tests/test_nn_and_optim.py::test_nn_residual_backward_1 \u001b[32mPASSED\u001b[0m\u001b[32m           [100%]\u001b[0m\n",
      "\n",
      "\u001b[32m======================= \u001b[32m\u001b[1m2 passed\u001b[0m, \u001b[33m88 deselected\u001b[0m\u001b[32m in 0.18s\u001b[0m\u001b[32m =======================\u001b[0m\n"
     ]
    }
   ],
   "source": [
    "!python -m pytest -v -k \"test_nn_residual\""
   ]
  },
  {
   "cell_type": "code",
   "execution_count": 219,
   "metadata": {},
   "outputs": [
    {
     "name": "stdout",
     "output_type": "stream",
     "text": [
      "submit\n",
      "\u001b[1m============================= test session starts ==============================\u001b[0m\n",
      "platform darwin -- Python 3.8.13, pytest-7.1.3, pluggy-1.0.0\n",
      "rootdir: /Users/huaifeng/Projects/mlsys/hw2\n",
      "plugins: anyio-3.5.0\n",
      "collected 18 items / 17 deselected / 1 selected                                \u001b[0m\n",
      "\n",
      "tests/test_nn_and_optim.py \n",
      "Submitting nn_residual...\n",
      "Grader test 1 passed\n",
      "Grader test 2 passed\n",
      "\u001b[32m.\u001b[0m\n",
      "\n",
      "\u001b[32m======================= \u001b[32m\u001b[1m1 passed\u001b[0m, \u001b[33m17 deselected\u001b[0m\u001b[32m in 1.67s\u001b[0m\u001b[32m =======================\u001b[0m\n"
     ]
    }
   ],
   "source": [
    "!python -m mugrade submit '_Oo1E5jrsROcSyO0QctSs' -k \"nn_residual\""
   ]
  },
  {
   "cell_type": "markdown",
   "metadata": {
    "tags": []
   },
   "source": [
    "## Question 3\n",
    "\n",
    "Implement the `step` function of the following optimizers.\n",
    "Make sure that your optimizers _don't_ modify the gradients of tensors in-place.\n",
    "\n",
    "We have included some tests to ensure that you are not consuming excessive memory, which can happen if you are\n",
    "not using `.data` or `.detach()` in the right places, thus building an increasingly large computational graph\n",
    "(not just in the optimizers, but in the previous modules as well).\n",
    "You can ignore these tests, which include the string `memory_check` at your own discretion.\n",
    "\n",
    "___\n",
    "\n",
    "### SGD\n",
    "`needle.optim.SGD(params, lr=0.01, momentum=0.0, weight_decay=0.0)`\n",
    "\n",
    "Implements stochastic gradient descent (optionally with momentum, shown as $\\beta$ below). \n",
    "\n",
    "\\begin{equation}\n",
    "\\begin{split}\n",
    "    u_{t+1} &= \\beta u_t + (1-\\beta) \\nabla_\\theta f(\\theta_t) \\\\\n",
    "    \\theta_{t+1} &= \\theta_t - \\alpha u_{t+1}\n",
    "\\end{split}\n",
    "\\end{equation}\n",
    "\n",
    "##### Parameters\n",
    "- `params` - iterable of parameters of type `needle.nn.Parameter` to optimize\n",
    "- `lr` (*float*) - learning rate\n",
    "- `momentum` (*float*) - momentum factor\n",
    "- `weight_decay` (*float*) - weight decay (L2 penalty)\n",
    "___"
   ]
  },
  {
   "cell_type": "code",
   "execution_count": 405,
   "metadata": {
    "scrolled": false
   },
   "outputs": [
    {
     "name": "stdout",
     "output_type": "stream",
     "text": [
      "\u001b[1m============================= test session starts ==============================\u001b[0m\n",
      "platform darwin -- Python 3.8.13, pytest-7.1.3, pluggy-1.0.0 -- /Users/huaifeng/opt/anaconda3/envs/mlsys_homework/bin/python\n",
      "cachedir: .pytest_cache\n",
      "rootdir: /Users/huaifeng/Projects/mlsys/hw2\n",
      "plugins: anyio-3.5.0\n",
      "collected 90 items / 89 deselected / 1 selected                                \u001b[0m\u001b[1m\n",
      "\n",
      "tests/test_nn_and_optim.py::test_optim_sgd_vanilla_1 ---------------------goood------------------------\n",
      "loss: 6.505509853363037\n",
      "l1 bias grad: tensor([[-0.1558, -0.0827, -0.0615, -0.0172,  0.0143, -0.1021,  0.0004, -0.0624,\n",
      "          0.2254, -0.0934,  0.1631, -0.0779, -0.0311,  0.2481, -0.0311,  0.0641]])\n",
      "l1 weight grad: tensor([[-2.1741e-01,  1.8748e-03,  1.6185e-03, -2.0329e-02,  2.5753e-03,\n",
      "          3.1552e-03,  9.9718e-05, -3.3277e-03,  2.3527e-01, -4.6250e-02,\n",
      "          1.1843e-01, -1.1290e-01, -4.1487e-02,  9.8566e-02, -5.2039e-02,\n",
      "          3.2157e-02],\n",
      "        [-9.1016e-01, -8.0321e-01, -5.5349e-01, -1.7080e-01,  9.7266e-02,\n",
      "         -7.4559e-01,  2.0362e-03, -4.9804e-01,  1.7583e+00, -5.5915e-01,\n",
      "          1.2696e+00, -5.0545e-01, -2.5304e-01,  1.8027e+00, -3.2937e-01,\n",
      "          3.9846e-01],\n",
      "        [ 0.0000e+00,  0.0000e+00,  0.0000e+00,  0.0000e+00,  0.0000e+00,\n",
      "          0.0000e+00,  0.0000e+00,  0.0000e+00,  0.0000e+00,  0.0000e+00,\n",
      "          0.0000e+00,  0.0000e+00,  0.0000e+00,  0.0000e+00,  0.0000e+00,\n",
      "          0.0000e+00],\n",
      "        [-2.3208e-02,  3.7816e-03,  2.5753e-04, -6.9223e-02,  5.8011e-03,\n",
      "         -1.4306e-02,  3.8838e-05,  1.0045e-05,  2.5911e-02,  9.1410e-05,\n",
      "          2.5920e-02,  3.1782e-03, -1.6543e-02,  3.3536e-02,  2.0877e-05,\n",
      "          2.4734e-02],\n",
      "        [-1.0451e-01, -1.9805e-01, -8.7985e-02,  9.5070e-02,  2.7928e-02,\n",
      "         -9.0112e-02,  4.7916e-04, -2.1521e-01,  5.3766e-01, -1.6491e-01,\n",
      "          3.2286e-01, -3.8257e-01, -7.8899e-02,  2.3613e-01, -3.4278e-02,\n",
      "          1.3638e-01],\n",
      "        [-7.5658e-01, -3.2646e-01, -2.3674e-01, -3.5319e-02,  2.8542e-02,\n",
      "         -3.4095e-01,  1.3196e-03, -1.6857e-01,  8.2627e-01, -1.6640e-01,\n",
      "          5.7547e-01, -3.6857e-01, -2.0730e-01,  1.1322e+00, -1.5628e-01,\n",
      "          1.9935e-01],\n",
      "        [-5.3919e-01, -3.2216e-01, -3.3430e-01, -1.4463e-01,  4.2687e-02,\n",
      "         -4.8655e-01,  1.1691e-03, -1.8831e-01,  7.7788e-01, -2.6107e-01,\n",
      "          6.0001e-01, -2.6644e-01, -4.0581e-02,  1.0376e+00, -8.0523e-02,\n",
      "          2.0441e-01],\n",
      "        [-1.1685e-01, -3.5653e-02, -3.0146e-02, -3.0424e-02,  1.7098e-02,\n",
      "         -4.6075e-02,  1.5632e-04, -5.0668e-02,  1.6168e-01, -1.6582e-01,\n",
      "          9.3619e-02, -2.1377e-02,  1.3372e-04,  1.6372e-01,  4.7645e-05,\n",
      "          6.0549e-02],\n",
      "        [ 0.0000e+00,  0.0000e+00,  0.0000e+00,  0.0000e+00,  0.0000e+00,\n",
      "          0.0000e+00,  0.0000e+00,  0.0000e+00,  0.0000e+00,  0.0000e+00,\n",
      "          0.0000e+00,  0.0000e+00,  0.0000e+00,  0.0000e+00,  0.0000e+00,\n",
      "          0.0000e+00],\n",
      "        [ 0.0000e+00,  0.0000e+00,  0.0000e+00,  0.0000e+00,  0.0000e+00,\n",
      "          0.0000e+00,  0.0000e+00,  0.0000e+00,  0.0000e+00,  0.0000e+00,\n",
      "          0.0000e+00,  0.0000e+00,  0.0000e+00,  0.0000e+00,  0.0000e+00,\n",
      "          0.0000e+00],\n",
      "        [ 2.3730e-05,  3.4569e-03,  8.8303e-05,  7.9117e-03,  9.7282e-05,\n",
      "          1.1157e-04,  4.2140e-06,  2.9440e-06,  3.9467e-02,  2.0575e-05,\n",
      "          5.2765e-03, -7.3411e-02,  1.9814e-06,  1.3836e-02,  3.9145e-05,\n",
      "          3.0739e-03],\n",
      "        [-9.2591e-01, -4.0700e-01, -5.8819e-01, -3.2264e-01,  9.4858e-02,\n",
      "         -7.1522e-01,  2.3638e-03, -3.6555e-01,  1.4615e+00, -6.1123e-01,\n",
      "          1.0557e+00, -2.7104e-01, -1.6054e-01,  1.5860e+00, -2.2342e-01,\n",
      "          3.9035e-01],\n",
      "        [-9.0602e-02,  4.3647e-03, -7.0087e-02, -8.1508e-03,  3.2336e-03,\n",
      "          1.7445e-03,  3.4375e-05,  3.6808e-06,  4.9289e-02,  1.8721e-04,\n",
      "          6.3499e-02, -3.1553e-02,  2.7081e-06,  7.2923e-02,  2.0675e-06,\n",
      "          5.1096e-03],\n",
      "        [-6.3773e-02,  1.1506e-04,  1.0779e-06,  5.8396e-03,  3.4282e-04,\n",
      "          6.6704e-05,  2.3788e-06,  5.7204e-08,  3.1955e-02,  1.5592e-05,\n",
      "          6.4459e-03,  1.8022e-04,  3.4978e-05,  4.6371e-03,  3.4905e-06,\n",
      "          1.4133e-02],\n",
      "        [ 0.0000e+00,  0.0000e+00,  0.0000e+00,  0.0000e+00,  0.0000e+00,\n",
      "          0.0000e+00,  0.0000e+00,  0.0000e+00,  0.0000e+00,  0.0000e+00,\n",
      "          0.0000e+00,  0.0000e+00,  0.0000e+00,  0.0000e+00,  0.0000e+00,\n",
      "          0.0000e+00],\n",
      "        [ 0.0000e+00,  0.0000e+00,  0.0000e+00,  0.0000e+00,  0.0000e+00,\n",
      "          0.0000e+00,  0.0000e+00,  0.0000e+00,  0.0000e+00,  0.0000e+00,\n",
      "          0.0000e+00,  0.0000e+00,  0.0000e+00,  0.0000e+00,  0.0000e+00,\n",
      "          0.0000e+00],\n",
      "        [-3.1596e-01, -5.3900e-02, -5.2582e-02, -1.6146e-01,  4.9354e-02,\n",
      "         -6.6848e-02,  3.9714e-04, -1.2969e-01,  5.0139e-01, -1.9531e-01,\n",
      "          2.8059e-01, -4.3700e-02, -7.0588e-02,  1.7055e-01, -9.8516e-02,\n",
      "          1.8626e-01],\n",
      "        [ 0.0000e+00,  0.0000e+00,  0.0000e+00,  0.0000e+00,  0.0000e+00,\n",
      "          0.0000e+00,  0.0000e+00,  0.0000e+00,  0.0000e+00,  0.0000e+00,\n",
      "          0.0000e+00,  0.0000e+00,  0.0000e+00,  0.0000e+00,  0.0000e+00,\n",
      "          0.0000e+00],\n",
      "        [ 3.7683e-07, -1.7917e-02,  9.8002e-06,  1.7161e-03,  2.3852e-05,\n",
      "          2.0705e-05,  7.5215e-07,  8.7976e-08,  7.2476e-04,  3.3959e-06,\n",
      "          2.3981e-03,  2.4236e-04,  1.3423e-06,  1.2354e-02,  1.4764e-07,\n",
      "          4.2135e-04],\n",
      "        [-5.4571e-01, -4.7647e-01, -3.4349e-01, -1.3125e-02,  8.3332e-02,\n",
      "         -5.1286e-01,  1.6590e-03, -3.3664e-01,  1.2954e+00, -7.3794e-01,\n",
      "          9.2943e-01, -2.7844e-01, -1.3428e-01,  9.1866e-01, -1.6364e-01,\n",
      "          3.1414e-01],\n",
      "        [ 1.1504e-05,  1.4769e-03, -1.4560e-03,  2.6626e-03,  2.2184e-03,\n",
      "          3.8636e-04,  1.7926e-05,  5.7562e-06,  3.1016e-02, -3.7017e-02,\n",
      "          1.4661e-02, -2.3395e-02,  1.8267e-06,  3.8510e-03,  2.0973e-06,\n",
      "          5.5567e-03],\n",
      "        [-1.5078e-02,  4.9878e-03, -9.7096e-02, -2.9022e-02,  5.8546e-03,\n",
      "         -1.3258e-01,  2.6263e-04, -1.5284e-01,  1.5348e-01, -3.9026e-02,\n",
      "          5.9273e-02,  7.1438e-02,  4.0906e-05,  1.5358e-01, -2.9253e-02,\n",
      "          4.5979e-02],\n",
      "        [-2.4077e-01, -1.3205e-01, -8.1000e-03,  1.0637e-01,  1.0618e-02,\n",
      "         -1.0544e-01,  2.4460e-04,  3.2471e-05,  2.6991e-01, -1.4785e-01,\n",
      "          3.3572e-01, -1.0013e-01, -1.5714e-02,  3.9985e-02, -5.7976e-02,\n",
      "          4.5154e-02],\n",
      "        [-9.2836e-01, -3.8440e-01, -2.2448e-01, -1.9082e-01,  8.3914e-02,\n",
      "         -7.0977e-01,  1.5614e-03, -1.8759e-01,  1.1663e+00, -4.0915e-01,\n",
      "          7.8635e-01, -4.0928e-01, -2.2796e-01,  1.4694e+00, -1.8649e-01,\n",
      "          3.5078e-01],\n",
      "        [-4.6307e-02, -2.0195e-02, -4.1158e-03, -1.8712e-02,  6.7263e-04,\n",
      "          7.8694e-04,  1.0320e-05,  9.6515e-06,  3.4253e-02,  3.3341e-06,\n",
      "          3.7860e-02,  3.5872e-03,  2.1046e-07,  9.5054e-03,  8.8960e-07,\n",
      "          2.6405e-03],\n",
      "        [-7.1204e-02,  1.3843e-02, -3.7564e-02,  2.8725e-03,  1.4799e-02,\n",
      "         -6.8306e-02,  3.2288e-04, -9.2221e-04,  1.7462e-01, -1.2036e-01,\n",
      "          8.4257e-02, -9.3217e-02,  9.7076e-05,  1.4144e-01, -8.2530e-02,\n",
      "          4.1850e-02],\n",
      "        [-9.2222e-02,  7.6637e-03, -8.7555e-02, -4.5092e-02,  1.4706e-02,\n",
      "         -2.0948e-02,  4.9886e-04, -6.7169e-02,  1.2659e-01, -5.3998e-02,\n",
      "          9.4695e-02, -1.8056e-01, -5.1914e-02,  2.7224e-01,  9.3358e-05,\n",
      "          8.2964e-02],\n",
      "        [-7.6591e-02, -3.6521e-02, -2.6486e-02,  6.7590e-02,  9.5752e-04,\n",
      "         -2.0810e-01,  1.1070e-04, -5.4448e-04,  1.0249e-01,  2.0137e-05,\n",
      "          7.9686e-02,  1.1848e-02, -2.8326e-02,  1.6710e-01, -7.6485e-02,\n",
      "          2.3248e-02],\n",
      "        [-5.6208e-01, -3.5045e-01, -2.8080e-01, -1.2828e-01,  3.9142e-02,\n",
      "         -5.4573e-01,  1.6113e-03, -3.3201e-01,  1.0538e+00, -2.5164e-01,\n",
      "          6.6752e-01, -3.9829e-01, -1.7097e-01,  1.1989e+00, -1.9891e-01,\n",
      "          2.5818e-01],\n",
      "        [ 9.4638e-06, -1.3703e-02, -2.2705e-02,  2.5189e-03,  1.7037e-03,\n",
      "          1.1478e-03,  1.2012e-05, -1.6191e-03,  2.0859e-02, -1.5631e-02,\n",
      "          1.1651e-02,  1.8742e-03,  2.0378e-06,  1.0535e-02,  3.1855e-06,\n",
      "          3.3430e-03],\n",
      "        [ 8.2433e-06, -2.8701e-02,  5.4291e-06, -2.7058e-02,  1.4413e-03,\n",
      "          1.1339e-03,  9.7106e-06, -1.4655e-02,  9.5255e-03,  3.7647e-05,\n",
      "          6.6989e-03,  6.0626e-03,  1.3457e-06,  4.1137e-02,  4.9427e-06,\n",
      "          4.3474e-03],\n",
      "        [-7.3858e-01, -3.0234e-01, -3.6377e-01, -2.3497e-01,  6.6433e-02,\n",
      "         -5.0945e-01,  2.2253e-03, -4.6664e-01,  1.2523e+00, -4.2160e-01,\n",
      "          7.4234e-01, -5.0060e-01, -1.4796e-01,  1.4838e+00, -2.1291e-01,\n",
      "          3.5169e-01]])\n",
      "l0 bias grad: tensor([[ 0.0996,  0.1552,  0.0000, -0.0166, -0.0372,  0.1643,  0.1282,  0.1184,\n",
      "          0.0000,  0.0000, -0.0130,  0.0345, -0.0098, -0.0061,  0.0000,  0.0000,\n",
      "          0.0876,  0.0000,  0.0010,  0.0223,  0.0196,  0.0290, -0.0635,  0.1670,\n",
      "          0.0396, -0.0492,  0.0149, -0.0113,  0.1821,  0.0079,  0.0158, -0.1080]])\n",
      "l0 weight grad: tensor([[ 0.1668,  0.4565,  0.0000,  ..., -0.0240,  0.0517, -0.3172],\n",
      "        [ 0.2170,  0.5084,  0.0000,  ...,  0.0634,  0.0754, -0.2441],\n",
      "        [ 0.3163,  0.4559,  0.0000,  ...,  0.0606,  0.0582, -0.2892],\n",
      "        ...,\n",
      "        [ 0.2554,  0.3886,  0.0000,  ...,  0.0402,  0.0446, -0.2570],\n",
      "        [ 0.2156,  0.2692,  0.0000,  ...,  0.0341,  0.0643, -0.2830],\n",
      "        [ 0.2169,  0.3067,  0.0000,  ...,  0.0500,  0.0582, -0.2556]])\n",
      "loss: 7.263077259063721\n",
      "l1 bias grad: tensor([[ 0.2741, -0.0741,  0.0054, -0.0266, -0.0622,  0.4772, -0.1229, -0.0309,\n",
      "         -0.0305, -0.0211, -0.0937, -0.0559, -0.0625, -0.0623, -0.0279, -0.0862]])\n",
      "l1 weight grad: tensor([[ 0.0000e+00,  0.0000e+00,  0.0000e+00,  0.0000e+00,  0.0000e+00,\n",
      "          0.0000e+00,  0.0000e+00,  0.0000e+00,  0.0000e+00,  0.0000e+00,\n",
      "          0.0000e+00,  0.0000e+00,  0.0000e+00,  0.0000e+00,  0.0000e+00,\n",
      "          0.0000e+00],\n",
      "        [ 1.9407e-01, -8.3522e-02,  5.5200e-03, -9.3844e-03,  3.4112e-04,\n",
      "          5.3280e-01, -1.8749e-01, -4.5210e-02,  7.3911e-04, -1.1969e-02,\n",
      "         -6.3755e-02, -3.2464e-03, -5.1929e-02, -3.9166e-02, -6.8054e-02,\n",
      "         -1.6975e-01],\n",
      "        [ 0.0000e+00,  0.0000e+00,  0.0000e+00,  0.0000e+00,  0.0000e+00,\n",
      "          0.0000e+00,  0.0000e+00,  0.0000e+00,  0.0000e+00,  0.0000e+00,\n",
      "          0.0000e+00,  0.0000e+00,  0.0000e+00,  0.0000e+00,  0.0000e+00,\n",
      "          0.0000e+00],\n",
      "        [ 2.7654e-01, -8.5453e-02,  1.4794e-03, -2.0039e-02, -1.0152e-02,\n",
      "          2.3318e-01, -1.8593e-01, -1.8422e-02,  2.7868e-04, -6.3129e-03,\n",
      "         -9.1108e-02, -2.9251e-02,  2.2678e-05,  1.3885e-04,  1.8267e-03,\n",
      "         -6.6790e-02],\n",
      "        [ 4.7401e-01, -1.7935e-01,  2.1898e-02,  7.4260e-03, -1.6228e-01,\n",
      "          1.6210e+00, -2.9582e-01, -9.0277e-02, -6.7263e-02, -2.3927e-02,\n",
      "         -5.4430e-01, -3.0807e-01, -1.3391e-01, -1.5295e-01, -4.2175e-02,\n",
      "         -1.2402e-01],\n",
      "        [ 1.8213e-02,  4.6299e-04,  1.1966e-04,  1.1493e-04, -6.5235e-03,\n",
      "          6.8094e-03,  1.3674e-04, -6.6146e-03,  5.0084e-05,  2.3468e-04,\n",
      "          6.1692e-06,  1.1841e-03,  1.0750e-06,  7.7568e-06, -1.4289e-02,\n",
      "          8.6410e-05],\n",
      "        [ 2.9413e-01, -9.1987e-02,  6.6152e-03,  2.6230e-03, -2.1316e-01,\n",
      "          4.0521e-01, -1.2227e-01,  3.0308e-04,  5.5411e-04, -5.9568e-03,\n",
      "          6.8937e-05, -7.2925e-02, -1.0852e-01,  1.0192e-04,  1.0624e-03,\n",
      "         -9.5863e-02],\n",
      "        [ 0.0000e+00,  0.0000e+00,  0.0000e+00,  0.0000e+00,  0.0000e+00,\n",
      "          0.0000e+00,  0.0000e+00,  0.0000e+00,  0.0000e+00,  0.0000e+00,\n",
      "          0.0000e+00,  0.0000e+00,  0.0000e+00,  0.0000e+00,  0.0000e+00,\n",
      "          0.0000e+00],\n",
      "        [-1.4629e-02,  9.2483e-04,  8.1306e-05,  1.4876e-03,  1.0688e-05,\n",
      "          2.3483e-02,  1.4827e-04,  9.2350e-06,  4.0375e-05,  4.9537e-04,\n",
      "          3.5225e-06,  1.2403e-03, -5.8703e-03, -8.9764e-03,  9.5322e-04,\n",
      "          5.9851e-04],\n",
      "        [ 1.4188e-02,  3.6970e-04,  9.4128e-05,  1.5641e-04,  1.1893e-05,\n",
      "          1.3534e-02,  5.3083e-05,  4.5919e-06,  3.1101e-05,  7.4933e-04,\n",
      "          6.1256e-06,  3.3218e-03, -1.6084e-02,  2.3036e-06, -1.7150e-02,\n",
      "          7.1157e-04],\n",
      "        [ 5.3732e-02, -1.4858e-02,  1.9982e-04,  3.6758e-04, -4.1834e-02,\n",
      "          2.7384e-02,  1.7290e-04,  2.3370e-05,  8.3130e-05,  3.4456e-03,\n",
      "          8.5250e-07,  1.3660e-02,  1.3312e-06,  4.6478e-06,  5.0371e-04,\n",
      "         -4.2888e-02],\n",
      "        [ 1.0889e+00, -2.7470e-01,  2.3940e-02, -9.1067e-02, -4.2107e-01,\n",
      "          2.4859e+00, -5.1866e-01, -1.7911e-01, -1.0999e-01, -6.5663e-02,\n",
      "         -3.6320e-01, -2.0277e-01, -4.1771e-01, -2.1015e-01, -1.3847e-01,\n",
      "         -6.0620e-01],\n",
      "        [ 1.3594e-01,  4.6630e-03,  1.0993e-02,  3.7809e-03, -6.4462e-02,\n",
      "          6.0714e-02,  6.5765e-04,  2.6099e-05,  1.7260e-04,  2.5019e-03,\n",
      "          4.3165e-05, -9.2524e-02, -5.2011e-02, -7.3782e-04,  2.4511e-03,\n",
      "         -1.2208e-02],\n",
      "        [-3.2319e-02, -2.4942e-02,  2.3527e-04,  1.0739e-04,  1.7213e-05,\n",
      "          5.5431e-02,  3.0967e-05,  1.9880e-05,  2.7028e-05,  7.3167e-05,\n",
      "          2.7316e-06,  5.1171e-04,  3.6594e-06,  3.6472e-06,  8.8839e-05,\n",
      "          7.0890e-04],\n",
      "        [ 0.0000e+00,  0.0000e+00,  0.0000e+00,  0.0000e+00,  0.0000e+00,\n",
      "          0.0000e+00,  0.0000e+00,  0.0000e+00,  0.0000e+00,  0.0000e+00,\n",
      "          0.0000e+00,  0.0000e+00,  0.0000e+00,  0.0000e+00,  0.0000e+00,\n",
      "          0.0000e+00],\n",
      "        [ 2.8249e-02,  9.7243e-04,  1.9693e-05,  3.6875e-04,  3.0881e-05,\n",
      "          4.2062e-02, -5.0261e-02,  1.1145e-05,  2.5681e-05,  9.9579e-04,\n",
      "          4.1563e-06, -2.3189e-02,  1.5944e-06,  7.6794e-06,  1.0688e-04,\n",
      "          5.9487e-04],\n",
      "        [ 3.5540e-03,  2.1221e-03,  1.8655e-04,  2.0620e-04, -1.6654e-02,\n",
      "          6.2038e-02, -2.9539e-02,  1.5113e-05,  7.0502e-05,  1.6214e-03,\n",
      "          8.7042e-06,  1.6174e-03,  1.5769e-06,  5.4635e-06, -2.5845e-02,\n",
      "          5.9048e-04],\n",
      "        [ 1.4264e-03,  1.0700e-04,  4.7568e-06,  1.2456e-06,  2.5603e-07,\n",
      "          3.3474e-03, -4.9651e-03,  8.4360e-07,  1.3027e-06,  1.5120e-05,\n",
      "          1.6267e-08,  2.1931e-05,  6.3132e-08,  1.0934e-07,  2.3242e-05,\n",
      "          1.5474e-05],\n",
      "        [ 0.0000e+00,  0.0000e+00,  0.0000e+00,  0.0000e+00,  0.0000e+00,\n",
      "          0.0000e+00,  0.0000e+00,  0.0000e+00,  0.0000e+00,  0.0000e+00,\n",
      "          0.0000e+00,  0.0000e+00,  0.0000e+00,  0.0000e+00,  0.0000e+00,\n",
      "          0.0000e+00],\n",
      "        [ 9.8972e-01, -3.5387e-01,  1.6065e-02,  1.4354e-02, -9.6827e-02,\n",
      "          1.5376e+00, -3.3039e-01, -2.3891e-02, -1.4048e-01, -1.2468e-01,\n",
      "         -3.1120e-01, -1.4051e-01, -4.1470e-01, -3.0243e-01, -8.1340e-02,\n",
      "         -2.3741e-01],\n",
      "        [ 5.2890e-03,  4.1925e-04,  9.5326e-05,  6.5418e-05,  4.8773e-06,\n",
      "          4.5732e-03,  2.2039e-05,  1.2054e-05,  1.9316e-05,  6.1985e-05,\n",
      "          2.8389e-06,  1.0807e-03,  6.2070e-07,  2.3000e-06, -5.3597e-03,\n",
      "         -6.2891e-03],\n",
      "        [ 5.0926e-02, -2.6901e-02,  2.5499e-05,  5.6654e-04,  1.1458e-05,\n",
      "          4.7234e-02,  1.6028e-04,  8.3729e-06, -3.4810e-02,  2.8275e-03,\n",
      "          2.9435e-06,  1.0901e-02, -5.4184e-02,  6.1774e-06,  3.9257e-04,\n",
      "          2.8317e-03],\n",
      "        [ 1.2521e+00, -3.2122e-01,  3.3813e-02, -1.9232e-02, -1.4050e-01,\n",
      "          7.9541e-01, -2.4721e-01, -6.2682e-02, -7.5408e-02, -9.7557e-02,\n",
      "         -1.6455e-01, -2.1374e-01, -1.8641e-01, -2.8111e-01, -1.3503e-01,\n",
      "         -1.3673e-01],\n",
      "        [ 2.9889e-02,  6.7287e-03,  4.2871e-03,  3.5479e-03,  8.1462e-05,\n",
      "          1.2619e-01, -6.2426e-03,  2.7550e-05,  1.5434e-04, -1.4452e-02,\n",
      "         -7.1139e-02, -4.8778e-02, -3.0667e-02,  7.3232e-05, -1.9576e-03,\n",
      "          2.2612e-03],\n",
      "        [ 7.1912e-03,  5.9918e-04,  4.4196e-06,  2.3548e-04,  7.2643e-06,\n",
      "          3.1549e-02,  2.9679e-05,  3.4296e-06,  1.6856e-05,  2.2642e-03,\n",
      "          1.9060e-06,  8.2627e-03, -5.2330e-02,  2.3757e-06,  3.5213e-05,\n",
      "          2.1268e-03],\n",
      "        [ 2.4290e-01, -1.5722e-01,  1.0793e-02, -3.0357e-02, -1.2701e-01,\n",
      "          1.2792e+00, -2.8520e-01, -4.7449e-02, -2.2272e-02, -4.0699e-02,\n",
      "         -2.0238e-01, -1.6990e-01, -3.0914e-03, -1.6129e-01, -2.3602e-02,\n",
      "         -2.6238e-01],\n",
      "        [ 6.3481e-02,  5.7321e-03,  3.5232e-03,  7.2370e-04, -2.7916e-02,\n",
      "          1.8500e-01,  3.5198e-04,  4.7278e-05,  1.2064e-04, -2.4929e-02,\n",
      "         -5.7960e-02, -2.2375e-02,  6.2905e-06, -4.6423e-02, -3.4343e-02,\n",
      "         -4.5037e-02],\n",
      "        [ 3.9473e-02, -2.6045e-03,  1.4833e-03,  1.2822e-03,  8.4151e-05,\n",
      "          3.3949e-01,  6.3078e-04, -6.6790e-03,  2.9225e-04, -2.8436e-02,\n",
      "         -5.3752e-02, -5.6060e-02,  1.5960e-05, -1.1352e-01, -3.8503e-02,\n",
      "         -8.3199e-02],\n",
      "        [ 3.1840e-02,  4.8488e-03,  4.3420e-04,  6.7994e-04,  8.2842e-05,\n",
      "          7.4675e-02,  5.8317e-04, -1.6213e-02, -2.3495e-02,  1.5446e-03,\n",
      "         -1.5872e-02,  2.2763e-02,  3.6842e-06,  2.5316e-05,  6.0160e-04,\n",
      "         -8.2501e-02],\n",
      "        [ 2.6082e-02,  1.0596e-03,  2.1465e-05,  2.9230e-04,  1.6162e-05,\n",
      "          3.5094e-02, -8.4813e-03,  1.5648e-05, -2.1752e-02,  5.2175e-04,\n",
      "          9.2954e-07,  1.4111e-02,  3.5091e-07,  3.4170e-06,  2.4935e-04,\n",
      "         -4.7235e-02],\n",
      "        [ 2.0745e-02,  5.1453e-04,  4.0697e-05, -2.9056e-02,  1.3583e-05,\n",
      "          7.1539e-03,  2.5721e-04,  9.3919e-05, -3.2621e-03,  6.6089e-04,\n",
      "          3.4096e-06,  2.2342e-03,  7.1860e-06,  8.0579e-05,  2.1122e-04,\n",
      "          3.0190e-04],\n",
      "        [ 2.5811e+00, -7.0019e-01,  3.5135e-02, -2.0795e-01, -6.4790e-01,\n",
      "          4.5185e+00, -1.1987e+00, -1.7641e-01, -3.2013e-01, -1.5995e-01,\n",
      "         -9.2590e-01, -3.4083e-01, -7.3443e-01, -6.1302e-01, -2.0829e-01,\n",
      "         -9.0102e-01]])\n",
      "l0 bias grad: tensor([[ 0.0000,  0.0902,  0.0000,  0.0371,  0.1886,  0.0397, -0.0732,  0.0000,\n",
      "          0.0192, -0.0141,  0.0163,  0.0859,  0.0277,  0.0084,  0.0000,  0.0231,\n",
      "         -0.0345, -0.0078,  0.0000,  0.1087, -0.0170,  0.0096,  0.0989, -0.0655,\n",
      "          0.0132,  0.1684,  0.0202,  0.0123, -0.0610, -0.0292,  0.0106,  0.3370]])\n",
      "l0 weight grad: tensor([[ 0.0000,  0.2519,  0.0000,  ..., -0.0355,  0.0720,  0.7589],\n",
      "        [ 0.0000,  0.2270,  0.0000,  ..., -0.0448,  0.0078,  0.8389],\n",
      "        [ 0.0000,  0.2648,  0.0000,  ..., -0.0711,  0.0220,  0.8054],\n",
      "        ...,\n",
      "        [ 0.0000,  0.1403,  0.0000,  ..., -0.0163,  0.0262,  0.6001],\n",
      "        [ 0.0000,  0.1806,  0.0000,  ..., -0.0437,  0.0618,  0.8030],\n",
      "        [ 0.0000,  0.3135,  0.0000,  ..., -0.0484,  0.0355,  0.7470]])\n"
     ]
    },
    {
     "name": "stdout",
     "output_type": "stream",
     "text": [
      "\u001b[31mFAILED\u001b[0m\r\n",
      "\r\n",
      "=================================== FAILURES ===================================\r\n",
      "\u001b[31m\u001b[1m___________________________ test_optim_sgd_vanilla_1 ___________________________\u001b[0m\r\n",
      "\r\n",
      "    \u001b[94mdef\u001b[39;49;00m \u001b[92mtest_optim_sgd_vanilla_1\u001b[39;49;00m():\r\n",
      ">       np.testing.assert_allclose(learn_model_1d(\u001b[94m64\u001b[39;49;00m, \u001b[94m16\u001b[39;49;00m, \u001b[94mlambda\u001b[39;49;00m z: nn.Sequential(nn.Linear(\u001b[94m64\u001b[39;49;00m, \u001b[94m32\u001b[39;49;00m), nn.ReLU(), nn.Linear(\u001b[94m32\u001b[39;49;00m, \u001b[94m16\u001b[39;49;00m)), ndl.optim.SGD, lr=\u001b[94m0.1\u001b[39;49;00m, momentum=\u001b[94m0.0\u001b[39;49;00m),\r\n",
      "            np.array(\u001b[94m3.207009\u001b[39;49;00m), rtol=\u001b[94m1e-5\u001b[39;49;00m, atol=\u001b[94m1e-5\u001b[39;49;00m)\r\n",
      "\u001b[1m\u001b[31mE       AssertionError: \u001b[0m\r\n",
      "\u001b[1m\u001b[31mE       Not equal to tolerance rtol=1e-05, atol=1e-05\u001b[0m\r\n",
      "\u001b[1m\u001b[31mE       \u001b[0m\r\n",
      "\u001b[1m\u001b[31mE       Mismatched elements: 1 / 1 (100%)\u001b[0m\r\n",
      "\u001b[1m\u001b[31mE       Max absolute difference: 4.05606826\u001b[0m\r\n",
      "\u001b[1m\u001b[31mE       Max relative difference: 1.26475113\u001b[0m\r\n",
      "\u001b[1m\u001b[31mE        x: array(7.263077, dtype=float32)\u001b[0m\r\n",
      "\u001b[1m\u001b[31mE        y: array(3.207009)\u001b[0m\r\n",
      "\r\n",
      "\u001b[1m\u001b[31mtests/test_nn_and_optim.py\u001b[0m:1035: AssertionError\r\n",
      "=========================== short test summary info ============================\r\n",
      "FAILED tests/test_nn_and_optim.py::test_optim_sgd_vanilla_1 - AssertionError: \r\n",
      "\u001b[31m======================= \u001b[31m\u001b[1m1 failed\u001b[0m, \u001b[33m89 deselected\u001b[0m\u001b[31m in 1.02s\u001b[0m\u001b[31m =======================\u001b[0m\r\n"
     ]
    }
   ],
   "source": [
    "!python -m pytest -s -v -k \"test_optim_sgd_vanilla_1\""
   ]
  },
  {
   "cell_type": "code",
   "execution_count": 316,
   "metadata": {},
   "outputs": [
    {
     "name": "stdout",
     "output_type": "stream",
     "text": [
      "submit\n",
      "\u001b[1m============================= test session starts ==============================\u001b[0m\n",
      "platform darwin -- Python 3.8.13, pytest-7.1.3, pluggy-1.0.0\n",
      "rootdir: /Users/huaifeng/Projects/mlsys/hw2\n",
      "plugins: anyio-3.5.0\n",
      "collected 18 items / 17 deselected / 1 selected                                \u001b[0m\n",
      "\n",
      "tests/test_nn_and_optim.py \n",
      "Submitting optim_sgd...\n",
      "Grader test 1 passed\n",
      "Grader test 2 failed: Failed: incorrect output\n",
      "Grader test 3 failed: Failed: incorrect output\n",
      "Grader test 4 failed: Failed: incorrect output\n",
      "Grader test 5 passed\n",
      "\u001b[31mF\u001b[0m\n",
      "\n",
      "=================================== FAILURES ===================================\n",
      "\u001b[31m\u001b[1m_______________________________ submit_optim_sgd _______________________________\u001b[0m\n",
      "\n",
      "=========================== short test summary info ============================\n",
      "FAILED tests/test_nn_and_optim.py::submit_optim_sgd\n",
      "\u001b[31m======================= \u001b[31m\u001b[1m1 failed\u001b[0m, \u001b[33m17 deselected\u001b[0m\u001b[31m in 3.84s\u001b[0m\u001b[31m =======================\u001b[0m\n"
     ]
    }
   ],
   "source": [
    "!python -m mugrade submit '_Oo1E5jrsROcSyO0QctSs' -k \"optim_sgd\""
   ]
  },
  {
   "cell_type": "markdown",
   "metadata": {
    "tags": []
   },
   "source": [
    "### Adam\n",
    "`needle.optim.Adam(params, lr=0.01, beta1=0.9, beta2=0.999, eps=1e-8, weight_decay=0.0)`\n",
    "\n",
    "Implements Adam algorithm, proposed in [Adam: A Method for Stochastic Optimization](https://arxiv.org/abs/1412.6980). \n",
    "\n",
    "\\begin{equation}\n",
    "\\begin{split}\n",
    "u_{t+1} &= \\beta_1 u_t + (1-\\beta_1) \\nabla_\\theta f(\\theta_t) \\\\\n",
    "v_{t+1} &= \\beta_2 v_t + (1-\\beta_2) (\\nabla_\\theta f(\\theta_t))^2 \\\\\n",
    "\\hat{u}_{t+1} &= u_{t+1} / (1 - \\beta_1^t) \\quad \\text{(bias correction)} \\\\\n",
    "\\hat{v}_{t+1} &= v_{t+1} / (1 - \\beta_2^t) \\quad \\text{(bias correction)}\\\\\n",
    "\\theta_{t+1} &= \\theta_t - \\alpha \\hat{u_{t+1}}/(\\hat{v}_{t+1}^{1/2}+\\epsilon)\n",
    "\\end{split}\n",
    "    \\end{equation}\n",
    "\n",
    "**Important:** Pay attention to whether or not you are applying bias correction.\n",
    "\n",
    "##### Parameters\n",
    "- `params` - iterable of parameters of type `needle.nn.Parameter` to optimize\n",
    "- `lr` (*float*) - learning rate\n",
    "- `beta1` (*float*) - coefficient used for computing running average of gradient\n",
    "- `beta2` (*float*) - coefficient used for computing running average of square of gradient\n",
    "- `eps` (*float*) - term added to the denominator to improve numerical stability\n",
    "- `bias_correction` - whether to use bias correction for $u, v$\n",
    "- `weight_decay` (*float*) - weight decay (L2 penalty)"
   ]
  },
  {
   "cell_type": "code",
   "execution_count": null,
   "metadata": {},
   "outputs": [],
   "source": [
    "!python3 -m pytest -v -k \"test_optim_adam\""
   ]
  },
  {
   "cell_type": "code",
   "execution_count": null,
   "metadata": {},
   "outputs": [],
   "source": [
    "!python -m mugrade submit 'YOUR_GRADER_KEY_HERE' -k \"optim_adam\""
   ]
  },
  {
   "cell_type": "markdown",
   "metadata": {},
   "source": [
    "## Question 4\n",
    "\n",
    "In this question, you will implement two data primitives: `needle.data.DataLoader` and `needle.data.Dataset`. `Dataset` stores the samples and their corresponding labels, and `DataLoader` wraps an iterable around the `Dataset` to enable easy access to the samples. \n",
    "\n",
    "For this question, you will be working in `python/needle/data.py`. First, copy your solution to `parse_mnist` from the previous homework into the `parse_mnist` function. \n",
    "\n",
    "### Transformations\n",
    "\n",
    "First we will implement a few transformations that are helpful when working with images. We will stick with a horizontal flip and a random crop for now. Fill out the following functions in `data.py`.\n",
    "___ \n",
    "\n",
    "#### RandomFlipHorizontal\n",
    "`needle.data.RandomFlipHorizontal(p = 0.5)`\n",
    "\n",
    "Flips the image horizontally, with probability `p`.\n",
    "\n",
    "##### Parameters\n",
    "- `p` (*float*) - The probability of flipping the input image.\n",
    "___\n",
    "\n",
    "#### RandomCrop\n",
    "`needle.data.RandomCrop(padding=3)`\n",
    "\n",
    "Padding is added to all side of the image, and then the image is cropped back to it's original size at a random location. Returns an image the same size as the original image.\n",
    "\n",
    "##### Parameters\n",
    "- `padding` (*int*) - The padding on each border of the image."
   ]
  },
  {
   "cell_type": "code",
   "execution_count": null,
   "metadata": {},
   "outputs": [],
   "source": [
    "!python3 -m pytest -v -k \"flip_horizontal\"\n",
    "!python3 -m pytest -v -k \"random_crop\""
   ]
  },
  {
   "cell_type": "code",
   "execution_count": null,
   "metadata": {},
   "outputs": [],
   "source": [
    "!python -m mugrade submit 'YOUR_GRADER_KEY_HERE' -k \"flip_horizontal\"\n",
    "!python -m mugrade submit 'YOUR_GRADER_KEY_HERE' -k \"random_crop\""
   ]
  },
  {
   "cell_type": "markdown",
   "metadata": {},
   "source": [
    "### Dataset\n",
    "\n",
    "Each `Dataset` subclass must implement three functions: `__init__`, `__len__`, and `__getitem__`. The `__init__` function initializes the images, labels, and transforms. The `__len__` function returns the number of samples in the dataset. The `__getitem__` function retrieves a sample from the dataset at a given index `idx`, calls the transform functions on the image (if applicable), converts the image and label to a numpy array (the data will be converted to Tensors elsewhere). Fill out these functions in the `MNISTDataset` class: \n",
    "___ \n",
    "\n",
    "### MNISTDataset\n",
    "`needle.data.MNISTDataset(image_filesname, label_filesname, transforms)`\n",
    "\n",
    "##### Parameters\n",
    "- `image_filesname` - path of file containing images\n",
    "- `label_filesname` - path of file containing labels\n",
    "- `transforms` - an optional list of transforms to apply to data\n"
   ]
  },
  {
   "cell_type": "code",
   "execution_count": null,
   "metadata": {},
   "outputs": [],
   "source": [
    "!python3 -m pytest -v -k \"test_mnist_dataset\""
   ]
  },
  {
   "cell_type": "code",
   "execution_count": null,
   "metadata": {},
   "outputs": [],
   "source": [
    "!python -m mugrade submit 'YOUR_GRADER_KEY_HERE' -k \"mnist_dataset\""
   ]
  },
  {
   "cell_type": "markdown",
   "metadata": {},
   "source": [
    "### Dataloader\n",
    "\n",
    "The Dataloader class provides an interface for assembling mini-batches of examples suitable for training using SGD-based approaches, backed by a Dataset object.  In order to build the typical Dataloader interface (allowing users to iterate over all the mini-batches in the dataset), you will need the implement the `__iter__()` and `__next__()` calls in the class: `__iter__()` is called at the start of iteration, while `__next__()` is called to grab the next mini-batch. Please note that subsequent calls to next will require you to return the following batches, so next is not a pure function.\n",
    "___\n",
    "\n",
    "### Dataloader\n",
    "`needle.data.Dataloader(dataset: Dataset, batch_size: Optional[int] = 1, shuffle: bool = False)`\n",
    "\n",
    "Combines a dataset and a sampler, and provides an iterable over the given dataset. \n",
    "\n",
    "##### Parameters\n",
    "- `dataset` - `needle.data.Dataset` - a dataset \n",
    "- `batch_size` - `int` - what batch size to serve the data in \n",
    "- `shuffle` - `bool` - set to ``True`` to have the data reshuffle at every epoch, default ``False``.\n",
    "___ \n",
    "\n",
    "\n",
    "\n"
   ]
  },
  {
   "cell_type": "code",
   "execution_count": null,
   "metadata": {},
   "outputs": [],
   "source": [
    "!python3 -m pytest -v -k \"test_dataloader\""
   ]
  },
  {
   "cell_type": "code",
   "execution_count": null,
   "metadata": {},
   "outputs": [],
   "source": [
    "!python -m mugrade submit 'YOUR_GRADER_KEY_HERE' -k \"dataloader\""
   ]
  },
  {
   "cell_type": "markdown",
   "metadata": {},
   "source": [
    "## Question 5\n",
    "\n",
    "Given you have now implemented all the necessary components for our neural network library, let's build and train an MLP ResNet. For this question, you will be working in `apps/mlp_resnet.py`. First, fill out the functions `ResidualBlock` and `MLPResNet` as described below:\n",
    "\n",
    "### ResidualBlock\n",
    "`ResidualBlock(dim, hidden_dim, norm=nn.BatchNorm1d, drop_prob=0.1)`\n",
    "\n",
    "Implements a residual block as follows:\n",
    "\n",
    "![](figures/residualblock.png)\n",
    "\n",
    "where the first linear layer has `in_features=dim` and `out_features=hidden_dim`, and the last linear layer has `out_features=dim`. Returns the block as type `nn.Module`. \n",
    "\n",
    "##### Parameters\n",
    "- `dim` (*int*) - input dim\n",
    "- `hidden_dim` (*int*) - hidden dim\n",
    "- `norm` (*nn.Module*) - normalization method\n",
    "- `drop_prob` (*float*) - dropout probability\n",
    "\n",
    "___\n",
    "\n",
    "### MLPResNet\n",
    "`MLPResNet(dim, hidden_dim=100, num_blocks=3, num_classes=10, norm=nn.BatchNorm1d, drop_prob=0.1)`\n",
    "\n",
    "Implements an MLP ResNet as follows:\n",
    "\n",
    "![](figures/mlp_resnet.png)\n",
    "\n",
    "where the first linear layer has `in_features=dim` and `out_features=hidden_dim`, and each ResidualBlock has `dim=hidden_dim` and `hidden_dim=hidden_dim//2`. Returns a network of type `nn.Module`.\n",
    "\n",
    "##### Parameters\n",
    "- `dim` (*int*) - input dim\n",
    "- `hidden_dim` (*int*) - hidden dim\n",
    "- `num_blocks` (*int*) - number of ResidualBlocks\n",
    "- `num_classes` (*int*) - number of classes\n",
    "- `norm` (*nn.Module*) - normalization method\n",
    "- `drop_prob` (*float*) - dropout probability (0.1)\n",
    "___ \n",
    "\n",
    "Once you have the deep learning model architecture correct, let's train the network using our new neural network library components. Specifically, implement the functions `epoch` and `train_mnist`.\n",
    "\n",
    "### Epoch\n",
    "\n",
    "`epoch(dataloader, model, opt=None)`\n",
    "\n",
    "Executes one epoch of training or evaluation, iterating over the entire training dataset once (just like `nn_epoch` from previous homeworks). Returns the average error rate **(changed from accuracy)** (as a *float*) and the average loss over all samples (as a *float*). Set the model to `training` mode at the beginning of the function if `opt` is given; set the model to `eval` if `opt` is not given (i.e. `None`).\n",
    "\n",
    "##### Parameters\n",
    "- `dataloader` (*`needle.data.DataLoader`*) - dataloader returning samples from the training dataset\n",
    "- `model` (*`needle.nn.Module`*) - neural network\n",
    "- `opt` (*`needle.optim.Optimizer`*) - optimizer instance, or `None`\n",
    "\n",
    "___\n",
    "\n",
    "### Train Mnist\n",
    "\n",
    "`train_mnist(batch_size=100, epochs=10, optimizer=ndl.optim.Adam, lr=0.001, weight_decay=0.001, hidden_dim=100, data_dir=\"data\")`\n",
    "                \n",
    "Initializes a training dataloader (with `shuffle` set to `True`) and a test dataloader for MNIST data, and trains an `MLPResNet` using the given optimizer (if `opt` is not None) and the softmax loss for a given number of epochs. Returns a tuple of the training accuracy, training loss, test accuracy, test loss computed in the last epoch of training. If any parameters are not specified, use the default parameters.\n",
    "\n",
    "##### Parameters\n",
    "- `batch_size` (*int*) - batch size to use for train and test dataloader\n",
    "- `epochs` (*int*) - number of epochs to train for\n",
    "- `optimizer` (*`needle.optim.Optimizer` type*) - optimizer type to use\n",
    "- `lr` (*float*) - learning rate \n",
    "- `weight_decay` (*float*) - weight decay\n",
    "- `hidden_dim` (*int*) - hidden dim for `MLPResNet`\n",
    "- `data_dir` (*int*) - directory containing MNIST image/label files\n"
   ]
  },
  {
   "cell_type": "code",
   "execution_count": null,
   "metadata": {},
   "outputs": [],
   "source": [
    "!python3 -m pytest -v -k \"test_mlp\""
   ]
  },
  {
   "cell_type": "code",
   "execution_count": null,
   "metadata": {},
   "outputs": [],
   "source": [
    "!python -m mugrade submit 'YOUR_GRADER_KEY_HERE' -k \"mlp_resnet\""
   ]
  },
  {
   "cell_type": "markdown",
   "metadata": {},
   "source": [
    "We encourage to experiment with the `mlp_resnet.py` training script.\n",
    "You can investigate the effect of using different initializers on the Linear layers,\n",
    "increasing the dropout probability,\n",
    "or adding transforms (via a list to the `transforms=` keyword argument of Dataset)\n",
    "such as random cropping."
   ]
  }
 ],
 "metadata": {
  "kernelspec": {
   "display_name": "Python 3 (ipykernel)",
   "language": "python",
   "name": "python3"
  },
  "language_info": {
   "codemirror_mode": {
    "name": "ipython",
    "version": 3
   },
   "file_extension": ".py",
   "mimetype": "text/x-python",
   "name": "python",
   "nbconvert_exporter": "python",
   "pygments_lexer": "ipython3",
   "version": "3.8.13"
  },
  "vscode": {
   "interpreter": {
    "hash": "31f2aee4e71d21fbe5cf8b01ff0e069b9275f58929596ceb00d14d90e3e16cd6"
   }
  }
 },
 "nbformat": 4,
 "nbformat_minor": 4
}
