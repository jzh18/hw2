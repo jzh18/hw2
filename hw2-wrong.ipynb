{
 "cells": [
  {
   "cell_type": "markdown",
   "metadata": {},
   "source": [
    "# 10-714 Homework 2\n",
    "\n",
    "In this homework, you will be implementing a neural network library in the needle framework. Reminder: __you must save a copy in drive__."
   ]
  },
  {
   "cell_type": "code",
   "execution_count": null,
   "metadata": {},
   "outputs": [],
   "source": [
    "# Code to set up the assignment\n",
    "from google.colab import drive\n",
    "drive.mount('/content/drive')\n",
    "%cd /content/drive/MyDrive/\n",
    "!mkdir -p 10714\n",
    "%cd /content/drive/MyDrive/10714\n",
    "!git clone https://github.com/dlsys10714/hw2.git\n",
    "%cd /content/drive/MyDrive/10714/hw2\n",
    "\n",
    "!pip3 install --upgrade --no-deps git+https://github.com/dlsys10714/mugrade.git"
   ]
  },
  {
   "cell_type": "markdown",
   "metadata": {},
   "source": [
    "## Question 0\n",
    "\n",
    "This homework builds off of Homework 1. First, in your Homework 2 directory, go to the files `autograd.py`, `ops.py` in the `python/needle` directory, and fill in the code between `### BEGIN YOUR SOLUTION` and `### END YOUR SOLUTION` with your solutions from Homework 1. \n",
    "\n",
    "**Note:** We have added functionality since HW1, specifically in the `autograd.py` file, so it is important to copy over your solutions rather than the entire previous file."
   ]
  },
  {
   "cell_type": "code",
   "execution_count": 1,
   "metadata": {},
   "outputs": [],
   "source": [
    "import sys\n",
    "sys.path.append('./python')\n",
    "sys.path.append('./apps')"
   ]
  },
  {
   "cell_type": "markdown",
   "metadata": {
    "tags": []
   },
   "source": [
    "## Question 1\n",
    "\n",
    "In this first question, you will implement a few different methods for weight initialization.  This will be done in the `python/needle/init.py` file, which contains a number of routines for initializing needle Tensors using various random and constant initializations.  Following the same methodology of the existing initializers (you will want to call e.g. `init.rand` or `init.randn` from your functions below, implement the following common initialization methods.  In all cases, the functions should return `fan_in` by `fan_out` 2D tensors (extensions to other sizes can be done via e.g., reshaping).\n",
    "\n",
    "\n",
    "### Xavier uniform\n",
    "`xavier_uniform(fan_in, fan_out, gain=1.0, **kwargs)`\n",
    "\n",
    "Fills the input Tensor with values according to the method described in [Understanding the difficulty of training deep feedforward neural networks](https://proceedings.mlr.press/v9/glorot10a/glorot10a.pdf), using a uniform distribution. The resulting Tensor will have values sampled from $\\mathcal{U}(-a, a)$ where \n",
    "\\begin{equation}\n",
    "a = \\text{gain} \\times \\sqrt{\\frac{6}{\\text{fan_in} + \\text{fan_out}}}\n",
    "\\end{equation}\n",
    "\n",
    "Pass remaining `**kwargs` parameters to the corresponding `init` random call.\n",
    "\n",
    "##### Parameters\n",
    "- `fan_in` - dimensionality of input\n",
    "- `fan_out` - dimensionality of output\n",
    "- `gain` - optional scaling factor\n",
    "___\n",
    "\n",
    "### Xavier normal\n",
    "`xavier_normal(fan_in, fan_out, gain=1.0, **kwargs)`\n",
    "\n",
    "Fills the input Tensor with values according to the method described in [Understanding the difficulty of training deep feedforward neural networks](https://proceedings.mlr.press/v9/glorot10a/glorot10a.pdf), using a normal distribution. The resulting Tensor will have values sampled from $\\mathcal{N}(0, \\text{std}^2)$ where \n",
    "\\begin{equation}\n",
    "\\text{std} = \\text{gain} \\times \\sqrt{\\frac{2}{\\text{fan_in} + \\text{fan_out}}}\n",
    "\\end{equation}\n",
    "\n",
    "##### Parameters\n",
    "- `fan_in` - dimensionality of input\n",
    "- `fan_out` - dimensionality of output\n",
    "- `gain` - optional scaling factor\n",
    "___\n",
    "\n",
    "### Kaiming uniform\n",
    "`kaiming_uniform(fan_in, fan_out, nonlinearity=\"relu\", **kwargs)`\n",
    "\n",
    "Fills the input Tensor with values according to the method described in [Delving deep into rectifiers: Surpassing human-level performance on ImageNet classification](https://arxiv.org/pdf/1502.01852.pdf), using a uniform distribution. The resulting Tensor will have values sampled from $\\mathcal{U}(-\\text{bound}, \\text{bound})$ where \n",
    "\\begin{equation}\n",
    "\\text{bound} = \\text{gain} \\times \\sqrt{\\frac{3}{\\text{fan_in}}}\n",
    "\\end{equation}\n",
    "\n",
    "Use the recommended gain value for ReLU: $\\text{gain}=\\sqrt{2}$.\n",
    "\n",
    "##### Parameters\n",
    "- `fan_in` - dimensionality of input\n",
    "- `fan_out` - dimensionality of output\n",
    "- `nonlinearity` - the non-linear function\n",
    "___\n",
    "\n",
    "### Kaiming normal\n",
    "`kaiming_normal(fan_in, fan_out, nonlinearity=\"relu\", **kwargs)`\n",
    "\n",
    "Fills the input Tensor with values according to the method described in [Delving deep into rectifiers: Surpassing human-level performance on ImageNet classification](https://arxiv.org/pdf/1502.01852.pdf), using a uniform distribution. The resulting Tensor will have values sampled from $\\mathcal{N}(0, \\text{std}^2)$ where \n",
    "\\begin{equation}\n",
    "\\text{std} = \\frac{\\text{gain}}{\\sqrt{\\text{fan_in}}}\n",
    "\\end{equation}\n",
    "\n",
    "Use the recommended gain value for ReLU: $\\text{gain}=\\sqrt{2}$.\n",
    "\n",
    "##### Parameters\n",
    "- `fan_in` - dimensionality of input\n",
    "- `fan_out` - dimensionality of output\n",
    "- `nonlinearity` - the non-linear function"
   ]
  },
  {
   "cell_type": "code",
   "execution_count": 67,
   "metadata": {},
   "outputs": [
    {
     "name": "stdout",
     "output_type": "stream",
     "text": [
      "\u001b[1m============================= test session starts ==============================\u001b[0m\n",
      "platform darwin -- Python 3.8.13, pytest-7.1.3, pluggy-1.0.0 -- /Users/huaifeng/opt/anaconda3/envs/mlsys_homework/bin/python\n",
      "cachedir: .pytest_cache\n",
      "rootdir: /Users/huaifeng/Projects/mlsys/hw2\n",
      "plugins: anyio-3.5.0\n",
      "collected 90 items / 86 deselected / 4 selected                                \u001b[0m\u001b[1m\n",
      "\n",
      "tests/test_nn_and_optim.py::test_init_kaiming_uniform \u001b[32mPASSED\u001b[0m\u001b[32m             [ 25%]\u001b[0m\n",
      "tests/test_nn_and_optim.py::test_init_kaiming_normal \u001b[32mPASSED\u001b[0m\u001b[32m              [ 50%]\u001b[0m\n",
      "tests/test_nn_and_optim.py::test_init_xavier_uniform \u001b[32mPASSED\u001b[0m\u001b[32m              [ 75%]\u001b[0m\n",
      "tests/test_nn_and_optim.py::test_init_xavier_normal \u001b[32mPASSED\u001b[0m\u001b[32m               [100%]\u001b[0m\n",
      "\n",
      "\u001b[32m======================= \u001b[32m\u001b[1m4 passed\u001b[0m, \u001b[33m86 deselected\u001b[0m\u001b[32m in 0.86s\u001b[0m\u001b[32m =======================\u001b[0m\n"
     ]
    }
   ],
   "source": [
    "!python -m pytest -v -k \"test_init\""
   ]
  },
  {
   "cell_type": "code",
   "execution_count": 68,
   "metadata": {},
   "outputs": [
    {
     "name": "stdout",
     "output_type": "stream",
     "text": [
      "submit\n",
      "\u001b[1m============================= test session starts ==============================\u001b[0m\n",
      "platform darwin -- Python 3.8.13, pytest-7.1.3, pluggy-1.0.0\n",
      "rootdir: /Users/huaifeng/Projects/mlsys/hw2\n",
      "plugins: anyio-3.5.0\n",
      "collected 18 items / 17 deselected / 1 selected                                \u001b[0m\u001b[1m\n",
      "\n",
      "tests/test_nn_and_optim.py \n",
      "Submitting init...\n",
      "Grader test 1 passed\n",
      "Grader test 2 passed\n",
      "Grader test 3 passed\n",
      "Grader test 4 passed\n",
      "\u001b[32m.\u001b[0m\n",
      "\n",
      "\u001b[32m======================= \u001b[32m\u001b[1m1 passed\u001b[0m, \u001b[33m17 deselected\u001b[0m\u001b[32m in 2.89s\u001b[0m\u001b[32m =======================\u001b[0m\n"
     ]
    }
   ],
   "source": [
    "!python -m mugrade submit '_Oo1E5jrsROcSyO0QctSs' -k \"init\" -s"
   ]
  },
  {
   "cell_type": "markdown",
   "metadata": {},
   "source": [
    "## Question 2\n",
    "\n",
    "In this question, you will implement additional modules in `python/needle/nn.py`. Specifically, for the following modules described below, initialize any variables of the module in the constructor, and fill out the `forward` method. \n",
    "___\n",
    "\n",
    "### Linear\n",
    "`needle.nn.Linear(in_features, out_features, bias=True, device=None, dtype=\"float32\")`\n",
    "\n",
    "Applies a linear transformation to the incoming data: $y = xA^T + b$. The input shape is $(N, H_{in})$ where $H_{in}=\\text{in_features}$. The output shape is $(N, H_{out})$ where $H_{out}=\\text{out_features}$.\n",
    "\n",
    "Be careful to explicitly broadcast the bias term to the correct shape -- Needle does not support implicit broadcasting.\n",
    "\n",
    "Additionally note that, for all layers including this one, you should initialize the weight Tensor before the bias Tensor, and should initialize all Parameters using only functions from 'init'.\n",
    "\n",
    "##### Parameters\n",
    "- `in_features` - size of each input sample\n",
    "- `out_features` - size of each output sample\n",
    "- `bias` - If set to `False`, the layer will not learn an additive bias.\n",
    "\n",
    "##### Variables\n",
    "- `weight` - the learnable weights of shape (`in_features`, `out_features`). The values should be initialized with the Kaiming Uniform initialization with `fan_in = in_features`\n",
    "- `bias` - the learnable bias of shape (`out_features`). The values should be initialized with the Kaiming Uniform initialize with `fan_in = out_features`. **Note the different in fan_in choice, due to their relative sizes**. "
   ]
  },
  {
   "cell_type": "code",
   "execution_count": 72,
   "metadata": {
    "scrolled": false
   },
   "outputs": [
    {
     "name": "stdout",
     "output_type": "stream",
     "text": [
      "\u001b[1m============================= test session starts ==============================\u001b[0m\n",
      "platform darwin -- Python 3.8.13, pytest-7.1.3, pluggy-1.0.0 -- /Users/huaifeng/opt/anaconda3/envs/mlsys_homework/bin/python\n",
      "cachedir: .pytest_cache\n",
      "rootdir: /Users/huaifeng/Projects/mlsys/hw2\n",
      "plugins: anyio-3.5.0\n",
      "collected 90 items / 82 deselected / 8 selected                                \u001b[0m\u001b[1m\n",
      "\n",
      "tests/test_nn_and_optim.py::test_nn_linear_weight_init_1 \u001b[32mPASSED\u001b[0m\u001b[32m          [ 12%]\u001b[0m\n",
      "tests/test_nn_and_optim.py::test_nn_linear_bias_init_1 \u001b[32mPASSED\u001b[0m\u001b[32m            [ 25%]\u001b[0m\n",
      "tests/test_nn_and_optim.py::test_nn_linear_forward_1 \u001b[32mPASSED\u001b[0m\u001b[32m              [ 37%]\u001b[0m\n",
      "tests/test_nn_and_optim.py::test_nn_linear_forward_2 \u001b[32mPASSED\u001b[0m\u001b[32m              [ 50%]\u001b[0m\n",
      "tests/test_nn_and_optim.py::test_nn_linear_forward_3 \u001b[32mPASSED\u001b[0m\u001b[32m              [ 62%]\u001b[0m\n",
      "tests/test_nn_and_optim.py::test_nn_linear_backward_1 \u001b[32mPASSED\u001b[0m\u001b[32m             [ 75%]\u001b[0m\n",
      "tests/test_nn_and_optim.py::test_nn_linear_backward_2 \u001b[32mPASSED\u001b[0m\u001b[32m             [ 87%]\u001b[0m\n",
      "tests/test_nn_and_optim.py::test_nn_linear_backward_3 \u001b[32mPASSED\u001b[0m\u001b[32m             [100%]\u001b[0m\n",
      "\n",
      "\u001b[32m======================= \u001b[32m\u001b[1m8 passed\u001b[0m, \u001b[33m82 deselected\u001b[0m\u001b[32m in 0.81s\u001b[0m\u001b[32m =======================\u001b[0m\n"
     ]
    }
   ],
   "source": [
    "!python -m pytest -v -k \"test_nn_linear\""
   ]
  },
  {
   "cell_type": "code",
   "execution_count": 73,
   "metadata": {},
   "outputs": [
    {
     "name": "stdout",
     "output_type": "stream",
     "text": [
      "submit\n",
      "\u001b[1m============================= test session starts ==============================\u001b[0m\n",
      "platform darwin -- Python 3.8.13, pytest-7.1.3, pluggy-1.0.0\n",
      "rootdir: /Users/huaifeng/Projects/mlsys/hw2\n",
      "plugins: anyio-3.5.0\n",
      "collected 18 items / 17 deselected / 1 selected                                \u001b[0m\u001b[1m\n",
      "\n",
      "tests/test_nn_and_optim.py \n",
      "Submitting nn_linear...\n",
      "Grader test 1 passed\n",
      "Grader test 2 passed\n",
      "Grader test 3 passed\n",
      "Grader test 4 passed\n",
      "Grader test 5 passed\n",
      "Grader test 6 passed\n",
      "\u001b[32m.\u001b[0m\n",
      "\n",
      "\u001b[32m======================= \u001b[32m\u001b[1m1 passed\u001b[0m, \u001b[33m17 deselected\u001b[0m\u001b[32m in 4.47s\u001b[0m\u001b[32m =======================\u001b[0m\n"
     ]
    }
   ],
   "source": [
    "!python -m mugrade submit '_Oo1E5jrsROcSyO0QctSs' -k \"nn_linear\""
   ]
  },
  {
   "cell_type": "markdown",
   "metadata": {},
   "source": [
    "### ReLU\n",
    "`needle.nn.ReLU()`\n",
    "\n",
    "Applies the rectified linear unit function element-wise:\n",
    "$ReLU(x) = max(0, x)$.\n",
    "\n",
    "If you have previously implemented ReLU's backwards pass in terms of itself, note that this is numerically unstable and will likely cause problems\n",
    "down the line.\n",
    "Instead, consider that we could write the derivative of ReLU as $I\\{x>0\\}$, where we arbitrarily decide that the derivative at $x=0$ is 0.\n",
    "(This is a _subdifferentiable_ function.)\n",
    "\n",
    "___"
   ]
  },
  {
   "cell_type": "code",
   "execution_count": 74,
   "metadata": {},
   "outputs": [
    {
     "name": "stdout",
     "output_type": "stream",
     "text": [
      "\u001b[1m============================= test session starts ==============================\u001b[0m\n",
      "platform darwin -- Python 3.8.13, pytest-7.1.3, pluggy-1.0.0 -- /Users/huaifeng/opt/anaconda3/envs/mlsys_homework/bin/python\n",
      "cachedir: .pytest_cache\n",
      "rootdir: /Users/huaifeng/Projects/mlsys/hw2\n",
      "plugins: anyio-3.5.0\n",
      "collected 90 items / 88 deselected / 2 selected                                \u001b[0m\u001b[1m\n",
      "\n",
      "tests/test_nn_and_optim.py::test_nn_relu_forward_1 \u001b[32mPASSED\u001b[0m\u001b[32m                [ 50%]\u001b[0m\n",
      "tests/test_nn_and_optim.py::test_nn_relu_backward_1 \u001b[32mPASSED\u001b[0m\u001b[32m               [100%]\u001b[0m\n",
      "\n",
      "\u001b[32m======================= \u001b[32m\u001b[1m2 passed\u001b[0m, \u001b[33m88 deselected\u001b[0m\u001b[32m in 0.76s\u001b[0m\u001b[32m =======================\u001b[0m\n"
     ]
    }
   ],
   "source": [
    "!python -m pytest -v -k \"test_nn_relu\""
   ]
  },
  {
   "cell_type": "code",
   "execution_count": 75,
   "metadata": {},
   "outputs": [
    {
     "name": "stdout",
     "output_type": "stream",
     "text": [
      "submit\n",
      "\u001b[1m============================= test session starts ==============================\u001b[0m\n",
      "platform darwin -- Python 3.8.13, pytest-7.1.3, pluggy-1.0.0\n",
      "rootdir: /Users/huaifeng/Projects/mlsys/hw2\n",
      "plugins: anyio-3.5.0\n",
      "collected 18 items / 17 deselected / 1 selected                                \u001b[0m\u001b[1m\n",
      "\n",
      "tests/test_nn_and_optim.py \n",
      "Submitting nn_relu...\n",
      "Grader test 1 passed\n",
      "Grader test 2 passed\n",
      "\u001b[32m.\u001b[0m\n",
      "\n",
      "\u001b[32m======================= \u001b[32m\u001b[1m1 passed\u001b[0m, \u001b[33m17 deselected\u001b[0m\u001b[32m in 1.81s\u001b[0m\u001b[32m =======================\u001b[0m\n"
     ]
    }
   ],
   "source": [
    "!python -m mugrade submit '_Oo1E5jrsROcSyO0QctSs' -k \"nn_relu\""
   ]
  },
  {
   "cell_type": "markdown",
   "metadata": {
    "tags": []
   },
   "source": [
    "### Sequential\n",
    "`needle.nn.Sequential(*modules)`\n",
    "\n",
    "Applies a sequence of modules to the input (in the order that they were passed to the constructor) and returns the output of the last module.\n",
    "These should be kept in a `.module` property: you should _not_ redefine any magic methods like `__getitem__`, as this may not be compatible with our tests.\n",
    "\n",
    "##### Parameters\n",
    "- `*modules` - any number of modules of type `needle.nn.Module`\n",
    "\n",
    "___"
   ]
  },
  {
   "cell_type": "code",
   "execution_count": 76,
   "metadata": {},
   "outputs": [
    {
     "name": "stdout",
     "output_type": "stream",
     "text": [
      "\u001b[1m============================= test session starts ==============================\u001b[0m\n",
      "platform darwin -- Python 3.8.13, pytest-7.1.3, pluggy-1.0.0 -- /Users/huaifeng/opt/anaconda3/envs/mlsys_homework/bin/python\n",
      "cachedir: .pytest_cache\n",
      "rootdir: /Users/huaifeng/Projects/mlsys/hw2\n",
      "plugins: anyio-3.5.0\n",
      "collected 90 items / 88 deselected / 2 selected                                \u001b[0m\u001b[1m\n",
      "\n",
      "tests/test_nn_and_optim.py::test_nn_sequential_forward_1 \u001b[32mPASSED\u001b[0m\u001b[32m          [ 50%]\u001b[0m\n",
      "tests/test_nn_and_optim.py::test_nn_sequential_backward_1 \u001b[32mPASSED\u001b[0m\u001b[32m         [100%]\u001b[0m\n",
      "\n",
      "\u001b[32m======================= \u001b[32m\u001b[1m2 passed\u001b[0m, \u001b[33m88 deselected\u001b[0m\u001b[32m in 0.76s\u001b[0m\u001b[32m =======================\u001b[0m\n"
     ]
    }
   ],
   "source": [
    "!python -m pytest -v -k \"test_nn_sequential\""
   ]
  },
  {
   "cell_type": "code",
   "execution_count": 77,
   "metadata": {},
   "outputs": [
    {
     "name": "stdout",
     "output_type": "stream",
     "text": [
      "submit\n",
      "\u001b[1m============================= test session starts ==============================\u001b[0m\n",
      "platform darwin -- Python 3.8.13, pytest-7.1.3, pluggy-1.0.0\n",
      "rootdir: /Users/huaifeng/Projects/mlsys/hw2\n",
      "plugins: anyio-3.5.0\n",
      "collected 18 items / 17 deselected / 1 selected                                \u001b[0m\u001b[1m\n",
      "\n",
      "tests/test_nn_and_optim.py \n",
      "Submitting nn_sequential...\n",
      "Grader test 1 passed\n",
      "Grader test 2 passed\n",
      "\u001b[32m.\u001b[0m\n",
      "\n",
      "\u001b[32m======================= \u001b[32m\u001b[1m1 passed\u001b[0m, \u001b[33m17 deselected\u001b[0m\u001b[32m in 1.87s\u001b[0m\u001b[32m =======================\u001b[0m\n"
     ]
    }
   ],
   "source": [
    "!python -m mugrade submit '_Oo1E5jrsROcSyO0QctSs' -k \"nn_sequential\""
   ]
  },
  {
   "cell_type": "markdown",
   "metadata": {
    "tags": []
   },
   "source": [
    "### LogSumExp\n",
    "\n",
    "`needle.ops.LogSumExp(axes)`\n",
    "\n",
    "Here you will need to implement one additional operatior in the `python/ops.py` file, as you did in HW1. Applies a numerically stable log-sum-exp function to the input by subtracting off the maximum elements.\n",
    "\n",
    "\\begin{equation}\n",
    "\\text{LogSumExp}(z) = \\log (\\sum_{i} \\exp (z_i - \\max{z})) + \\max{z}\n",
    "\\end{equation}\n",
    "\n",
    "#### Parameters\n",
    "- `axes` - Tuple of axes to sum and take the maximum element over. This uses the same conventions as `needle.ops.Summation()`\n",
    "\n",
    "___"
   ]
  },
  {
   "cell_type": "code",
   "execution_count": 88,
   "metadata": {
    "scrolled": false
   },
   "outputs": [
    {
     "name": "stdout",
     "output_type": "stream",
     "text": [
      "\u001b[1m============================= test session starts ==============================\u001b[0m\n",
      "platform darwin -- Python 3.8.13, pytest-7.1.3, pluggy-1.0.0 -- /Users/huaifeng/opt/anaconda3/envs/mlsys_homework/bin/python\n",
      "cachedir: .pytest_cache\n",
      "rootdir: /Users/huaifeng/Projects/mlsys/hw2\n",
      "plugins: anyio-3.5.0\n",
      "collected 90 items / 80 deselected / 10 selected                               \u001b[0m\u001b[1m\n",
      "\n",
      "tests/test_nn_and_optim.py::test_op_logsumexp_forward_1 \u001b[32mPASSED\u001b[0m\u001b[32m           [ 10%]\u001b[0m\n",
      "tests/test_nn_and_optim.py::test_op_logsumexp_forward_2 \u001b[32mPASSED\u001b[0m\u001b[32m           [ 20%]\u001b[0m\n",
      "tests/test_nn_and_optim.py::test_op_logsumexp_forward_3 \u001b[32mPASSED\u001b[0m\u001b[32m           [ 30%]\u001b[0m\n",
      "tests/test_nn_and_optim.py::test_op_logsumexp_forward_4 \u001b[32mPASSED\u001b[0m\u001b[32m           [ 40%]\u001b[0m\n",
      "tests/test_nn_and_optim.py::test_op_logsumexp_forward_5 \u001b[32mPASSED\u001b[0m\u001b[32m           [ 50%]\u001b[0m\n",
      "tests/test_nn_and_optim.py::test_op_logsumexp_backward_1 \u001b[32mPASSED\u001b[0m\u001b[32m          [ 60%]\u001b[0m\n",
      "tests/test_nn_and_optim.py::test_op_logsumexp_backward_2 \u001b[32mPASSED\u001b[0m\u001b[32m          [ 70%]\u001b[0m\n",
      "tests/test_nn_and_optim.py::test_op_logsumexp_backward_3 \u001b[32mPASSED\u001b[0m\u001b[32m          [ 80%]\u001b[0m\n",
      "tests/test_nn_and_optim.py::test_op_logsumexp_backward_5 \u001b[32mPASSED\u001b[0m\u001b[32m          [ 90%]\u001b[0m\n",
      "tests/test_nn_and_optim.py::test_op_logsumexp_backward_4 \u001b[32mPASSED\u001b[0m\u001b[32m          [100%]\u001b[0m\n",
      "\n",
      "\u001b[32m====================== \u001b[32m\u001b[1m10 passed\u001b[0m, \u001b[33m80 deselected\u001b[0m\u001b[32m in 0.80s\u001b[0m\u001b[32m =======================\u001b[0m\n"
     ]
    }
   ],
   "source": [
    "!python -m pytest -v -k \"test_op_logsumexp\""
   ]
  },
  {
   "cell_type": "code",
   "execution_count": 89,
   "metadata": {},
   "outputs": [
    {
     "name": "stdout",
     "output_type": "stream",
     "text": [
      "submit\n",
      "\u001b[1m============================= test session starts ==============================\u001b[0m\n",
      "platform darwin -- Python 3.8.13, pytest-7.1.3, pluggy-1.0.0\n",
      "rootdir: /Users/huaifeng/Projects/mlsys/hw2\n",
      "plugins: anyio-3.5.0\n",
      "collected 18 items / 17 deselected / 1 selected                                \u001b[0m\u001b[1m\n",
      "\n",
      "tests/test_nn_and_optim.py \n",
      "Submitting op_logsumexp...\n",
      "Grader test 1 passed\n",
      "Grader test 2 passed\n",
      "Grader test 3 passed\n",
      "Grader test 4 passed\n",
      "Grader test 5 passed\n",
      "Grader test 6 passed\n",
      "Grader test 7 passed\n",
      "Grader test 8 passed\n",
      "Grader test 9 passed\n",
      "Grader test 10 passed\n",
      "\u001b[32m.\u001b[0m\n",
      "\n",
      "\u001b[32m======================= \u001b[32m\u001b[1m1 passed\u001b[0m, \u001b[33m17 deselected\u001b[0m\u001b[32m in 5.93s\u001b[0m\u001b[32m =======================\u001b[0m\n"
     ]
    }
   ],
   "source": [
    "!python -m mugrade submit '_Oo1E5jrsROcSyO0QctSs' -k \"op_logsumexp\""
   ]
  },
  {
   "cell_type": "markdown",
   "metadata": {
    "tags": []
   },
   "source": [
    "### SoftmaxLoss\n",
    "\n",
    "`needle.nn.SoftmaxLoss()`\n",
    "\n",
    "Applies the softmax loss as defined below (and as implemented in Homework 1), taking in as input a Tensor of logits and a Tensor of the true labels (expressed as a list of numbers, *not* one-hot encoded).\n",
    "\n",
    "Note that you can use the `init.one_hot` function now instead of writing this yourself.  Note: You will need to use the numerically stable logsumexp operated you just implemented for this purpose.\n",
    "\n",
    "\\begin{equation}\n",
    "\\ell_\\text{softmax}(z,y) = \\log \\sum_{i=1}^k \\exp z_i - z_y\n",
    "\\end{equation}\n",
    "\n",
    "___"
   ]
  },
  {
   "cell_type": "code",
   "execution_count": 105,
   "metadata": {
    "scrolled": false
   },
   "outputs": [
    {
     "name": "stdout",
     "output_type": "stream",
     "text": [
      "\u001b[1m============================= test session starts ==============================\u001b[0m\n",
      "platform darwin -- Python 3.8.13, pytest-7.1.3, pluggy-1.0.0 -- /Users/huaifeng/opt/anaconda3/envs/mlsys_homework/bin/python\n",
      "cachedir: .pytest_cache\n",
      "rootdir: /Users/huaifeng/Projects/mlsys/hw2\n",
      "plugins: anyio-3.5.0\n",
      "collected 90 items / 86 deselected / 4 selected                                \u001b[0m\u001b[1m\n",
      "\n",
      "tests/test_nn_and_optim.py::test_nn_softmax_loss_forward_1 \u001b[32mPASSED\u001b[0m\u001b[32m        [ 25%]\u001b[0m\n",
      "tests/test_nn_and_optim.py::test_nn_softmax_loss_forward_2 \u001b[32mPASSED\u001b[0m\u001b[32m        [ 50%]\u001b[0m\n",
      "tests/test_nn_and_optim.py::test_nn_softmax_loss_backward_1 \u001b[32mPASSED\u001b[0m\u001b[32m       [ 75%]\u001b[0m\n",
      "tests/test_nn_and_optim.py::test_nn_softmax_loss_backward_2 \u001b[32mPASSED\u001b[0m\u001b[32m       [100%]\u001b[0m\n",
      "\n",
      "\u001b[32m======================= \u001b[32m\u001b[1m4 passed\u001b[0m, \u001b[33m86 deselected\u001b[0m\u001b[32m in 0.90s\u001b[0m\u001b[32m =======================\u001b[0m\n"
     ]
    }
   ],
   "source": [
    "!python -m pytest -v -k \"test_nn_softmax_loss_\""
   ]
  },
  {
   "cell_type": "code",
   "execution_count": 104,
   "metadata": {},
   "outputs": [
    {
     "name": "stdout",
     "output_type": "stream",
     "text": [
      "submit\n",
      "\u001b[1m============================= test session starts ==============================\u001b[0m\n",
      "platform darwin -- Python 3.8.13, pytest-7.1.3, pluggy-1.0.0\n",
      "rootdir: /Users/huaifeng/Projects/mlsys/hw2\n",
      "plugins: anyio-3.5.0\n",
      "collected 18 items / 17 deselected / 1 selected                                \u001b[0m\u001b[1m\n",
      "\n",
      "tests/test_nn_and_optim.py \n",
      "Submitting nn_softmax_loss...\n",
      "Grader test 1 passed\n",
      "Grader test 2 passed\n",
      "i grad: 1.0\n",
      "div scalar: 1.0\n",
      "i grad: 0.25\n",
      "summation out grad: 0.25\n",
      "i grad: [0.25 0.25 0.25 0.25]\n",
      "ele add: [0.25 0.25 0.25 0.25]\n",
      "i grad: [0.25 0.25 0.25 0.25]\n",
      "i grad: [-0.25 -0.25 -0.25 -0.25]\n",
      "summation out grad: [-0.25 -0.25 -0.25 -0.25]\n",
      "i grad: [[-0.25 -0.25 -0.25 -0.25 -0.25 -0.25 -0.25 -0.25 -0.25]\n",
      " [-0.25 -0.25 -0.25 -0.25 -0.25 -0.25 -0.25 -0.25 -0.25]\n",
      " [-0.25 -0.25 -0.25 -0.25 -0.25 -0.25 -0.25 -0.25 -0.25]\n",
      " [-0.25 -0.25 -0.25 -0.25 -0.25 -0.25 -0.25 -0.25 -0.25]]\n",
      "i grad: [[-1.10000002 -0.2375     -0.57499999 -0.92500001 -1.17499995 -0.86250001\n",
      "  -0.98750001 -0.32499999 -0.0875    ]\n",
      " [-0.36250001 -0.26249999 -0.5625     -0.15000001 -1.         -0.89999998\n",
      "  -0.34999999 -0.66250002 -0.8125    ]\n",
      " [-0.32499999 -0.80000001 -0.88749999 -1.20000005 -0.42500001 -0.76249999\n",
      "  -0.64999998 -0.38749999 -0.025     ]\n",
      " [-0.83749998 -0.1875     -1.21249998 -1.1875     -0.67500001 -0.21250001\n",
      "  -1.17499995 -0.89999998 -0.55000001]]\n",
      "i grad: [0.25 0.25 0.25 0.25]\n",
      "i grad: [[ 0.06116229  0.00194164  0.00748971  0.03037229  0.08256043  0.02365396\n",
      "   0.03899879 -0.24724469  0.00106559]\n",
      " [ 0.00693746  0.00465032  0.01543961  0.00296517  0.0888488  -0.19044288\n",
      "   0.00659912  0.02303319  0.0419692 ]\n",
      " [ 0.00398152 -0.22337995  0.03777564  0.13184999  0.00593974  0.02291209\n",
      "   0.01460939  0.00511238  0.00119921]\n",
      " [ 0.01595061  0.00118471  0.07148568  0.06468292  0.00832695  0.00130931\n",
      "   0.06152828  0.02048099 -0.24494945]]\n",
      "Grader test 3 passed\n",
      "i grad: 1.0\n",
      "div scalar: 1.0\n",
      "i grad: 0.5\n",
      "summation out grad: 0.5\n",
      "i grad: [0.5 0.5]\n",
      "ele add: [0.5 0.5]\n",
      "i grad: [0.5 0.5]\n",
      "i grad: [-0.5 -0.5]\n",
      "summation out grad: [-0.5 -0.5]\n",
      "i grad: [[-0.5 -0.5 -0.5 -0.5 -0.5 -0.5 -0.5]\n",
      " [-0.5 -0.5 -0.5 -0.5 -0.5 -0.5 -0.5]]\n",
      "i grad: [[-0.025      -0.125      -0.55000001 -0.80000001 -0.075      -2.17499995\n",
      "  -0.30000001]\n",
      " [-1.60000002 -1.27499998 -0.57499999 -0.30000001 -1.72500002 -0.2\n",
      "  -0.60000002]]\n",
      "i grad: [0.5 0.5]\n",
      "i grad: [[-0.49420818  0.00707414  0.01655098  0.02728796  0.00640095  0.4268555\n",
      "   0.01003868]\n",
      " [ 0.15599529  0.08143668  0.02008204  0.01158633  0.20030193 -0.49051392\n",
      "   0.02111167]]\n",
      "Grader test 4 passed\n",
      "\u001b[32m.\u001b[0m\n",
      "\n",
      "\u001b[32m======================= \u001b[32m\u001b[1m1 passed\u001b[0m, \u001b[33m17 deselected\u001b[0m\u001b[32m in 3.30s\u001b[0m\u001b[32m =======================\u001b[0m\n"
     ]
    }
   ],
   "source": [
    "!python -m mugrade submit '_Oo1E5jrsROcSyO0QctSs' -k \"nn_softmax_loss\""
   ]
  },
  {
   "cell_type": "markdown",
   "metadata": {
    "tags": []
   },
   "source": [
    "### LayerNorm1d\n",
    "`needle.nn.LayerNorm1d(dim, eps=1e-5, device=None, dtype=\"float32\")`\n",
    "\n",
    "Applies layer normalization over a mini-batch of inputs as described in the paper [Layer Normalization](https://arxiv.org/abs/1607.06450).\n",
    "\n",
    "\\begin{equation}\n",
    "y = w \\circ \\frac{x_i - \\textbf{E}[x]}{((\\textbf{Var}[x]+\\epsilon)^{1/2})} + b\n",
    "\\end{equation}\n",
    "\n",
    "where $\\textbf{E}[x]$ denotes the empirical mean of the inputs, $\\textbf{Var}[x]$ denotes their empirical variance (not that here we are using the \"unbiased\" estimate of the variance, i.e., dividing by $N$ rather than by $N-1$), and $w$ and $b$ denote learnable scalar weights and biases respectively.  Note you can assume the input to this layer by be a 2D tensor, with batches in the first dimension and features on the second.\n",
    "\n",
    "##### Parameters\n",
    "- `dim` - number of channels\n",
    "- `eps` - a value added to the denominator for numerical stability.\n",
    "\n",
    "##### Variables\n",
    "- `weight` - the learnable weights of size `dim`, elements initialized to 1.\n",
    "- `bias` - the learnable bias of shape `dim`, elements initialized to 0 **(changed from 1)**.\n",
    "___"
   ]
  },
  {
   "cell_type": "code",
   "execution_count": 92,
   "metadata": {
    "scrolled": false
   },
   "outputs": [
    {
     "name": "stdout",
     "output_type": "stream",
     "text": [
      "\u001b[1m============================= test session starts ==============================\u001b[0m\n",
      "platform darwin -- Python 3.8.13, pytest-7.1.3, pluggy-1.0.0 -- /Users/huaifeng/opt/anaconda3/envs/mlsys_homework/bin/python\n",
      "cachedir: .pytest_cache\n",
      "rootdir: /Users/huaifeng/Projects/mlsys/hw2\n",
      "plugins: anyio-3.5.0\n",
      "collected 90 items / 83 deselected / 7 selected                                \u001b[0m\u001b[1m\n",
      "\n",
      "tests/test_nn_and_optim.py::test_nn_layernorm_forward_1 \u001b[32mPASSED\u001b[0m\u001b[32m           [ 14%]\u001b[0m\n",
      "tests/test_nn_and_optim.py::test_nn_layernorm_forward_2 \u001b[32mPASSED\u001b[0m\u001b[32m           [ 28%]\u001b[0m\n",
      "tests/test_nn_and_optim.py::test_nn_layernorm_forward_3 \u001b[32mPASSED\u001b[0m\u001b[32m           [ 42%]\u001b[0m\n",
      "tests/test_nn_and_optim.py::test_nn_layernorm_backward_1 \u001b[32mPASSED\u001b[0m\u001b[32m          [ 57%]\u001b[0m\n",
      "tests/test_nn_and_optim.py::test_nn_layernorm_backward_2 \u001b[32mPASSED\u001b[0m\u001b[32m          [ 71%]\u001b[0m\n",
      "tests/test_nn_and_optim.py::test_nn_layernorm_backward_3 \u001b[32mPASSED\u001b[0m\u001b[32m          [ 85%]\u001b[0m\n",
      "tests/test_nn_and_optim.py::test_nn_layernorm_backward_4 \u001b[32mPASSED\u001b[0m\u001b[32m          [100%]\u001b[0m\n",
      "\n",
      "\u001b[32m======================= \u001b[32m\u001b[1m7 passed\u001b[0m, \u001b[33m83 deselected\u001b[0m\u001b[32m in 0.76s\u001b[0m\u001b[32m =======================\u001b[0m\n"
     ]
    }
   ],
   "source": [
    "!python -m pytest -v -k \"test_nn_layernorm_\""
   ]
  },
  {
   "cell_type": "code",
   "execution_count": 93,
   "metadata": {},
   "outputs": [
    {
     "name": "stdout",
     "output_type": "stream",
     "text": [
      "submit\n",
      "\u001b[1m============================= test session starts ==============================\u001b[0m\n",
      "platform darwin -- Python 3.8.13, pytest-7.1.3, pluggy-1.0.0\n",
      "rootdir: /Users/huaifeng/Projects/mlsys/hw2\n",
      "plugins: anyio-3.5.0\n",
      "collected 18 items / 17 deselected / 1 selected                                \u001b[0m\u001b[1m\n",
      "\n",
      "tests/test_nn_and_optim.py \n",
      "Submitting nn_layernorm...\n",
      "Grader test 1 passed\n",
      "Grader test 2 passed\n",
      "Grader test 3 passed\n",
      "Grader test 4 passed\n",
      "Grader test 5 passed\n",
      "Grader test 6 passed\n",
      "Grader test 7 passed\n",
      "Grader test 8 passed\n",
      "\u001b[32m.\u001b[0m\n",
      "\n",
      "\u001b[32m======================= \u001b[32m\u001b[1m1 passed\u001b[0m, \u001b[33m17 deselected\u001b[0m\u001b[32m in 5.60s\u001b[0m\u001b[32m =======================\u001b[0m\n"
     ]
    }
   ],
   "source": [
    "!python -m mugrade submit '_Oo1E5jrsROcSyO0QctSs' -k \"nn_layernorm\""
   ]
  },
  {
   "cell_type": "markdown",
   "metadata": {},
   "source": [
    "\n",
    "### Flatten\n",
    "`needle.nn.Flatten()`\n",
    "\n",
    "Takes in a tensor of shape `(B,X_0,X_1,...)`, and flattens all non-batch dimensions so that the output is of shape `(B, X_0 * X_1 * ...)`"
   ]
  },
  {
   "cell_type": "code",
   "execution_count": 94,
   "metadata": {
    "scrolled": false
   },
   "outputs": [
    {
     "name": "stdout",
     "output_type": "stream",
     "text": [
      "\u001b[1m============================= test session starts ==============================\u001b[0m\n",
      "platform darwin -- Python 3.8.13, pytest-7.1.3, pluggy-1.0.0 -- /Users/huaifeng/opt/anaconda3/envs/mlsys_homework/bin/python\n",
      "cachedir: .pytest_cache\n",
      "rootdir: /Users/huaifeng/Projects/mlsys/hw2\n",
      "plugins: anyio-3.5.0\n",
      "collected 90 items / 81 deselected / 9 selected                                \u001b[0m\u001b[1m\n",
      "\n",
      "tests/test_nn_and_optim.py::test_nn_flatten_forward_1 \u001b[32mPASSED\u001b[0m\u001b[32m             [ 11%]\u001b[0m\n",
      "tests/test_nn_and_optim.py::test_nn_flatten_forward_2 \u001b[32mPASSED\u001b[0m\u001b[32m             [ 22%]\u001b[0m\n",
      "tests/test_nn_and_optim.py::test_nn_flatten_forward_3 \u001b[32mPASSED\u001b[0m\u001b[32m             [ 33%]\u001b[0m\n",
      "tests/test_nn_and_optim.py::test_nn_flatten_forward_4 \u001b[32mPASSED\u001b[0m\u001b[32m             [ 44%]\u001b[0m\n",
      "tests/test_nn_and_optim.py::test_nn_flatten_backward_1 \u001b[32mPASSED\u001b[0m\u001b[32m            [ 55%]\u001b[0m\n",
      "tests/test_nn_and_optim.py::test_nn_flatten_backward_2 \u001b[32mPASSED\u001b[0m\u001b[32m            [ 66%]\u001b[0m\n",
      "tests/test_nn_and_optim.py::test_nn_flatten_backward_3 \u001b[32mPASSED\u001b[0m\u001b[32m            [ 77%]\u001b[0m\n",
      "tests/test_nn_and_optim.py::test_nn_flatten_backward_4 \u001b[32mPASSED\u001b[0m\u001b[32m            [ 88%]\u001b[0m\n",
      "tests/test_nn_and_optim.py::test_nn_flatten_backward_5 \u001b[32mPASSED\u001b[0m\u001b[32m            [100%]\u001b[0m\n",
      "\n",
      "\u001b[32m======================= \u001b[32m\u001b[1m9 passed\u001b[0m, \u001b[33m81 deselected\u001b[0m\u001b[32m in 0.78s\u001b[0m\u001b[32m =======================\u001b[0m\n"
     ]
    }
   ],
   "source": [
    "!python -m pytest -v -k \"test_nn_flatten\""
   ]
  },
  {
   "cell_type": "code",
   "execution_count": 95,
   "metadata": {},
   "outputs": [
    {
     "name": "stdout",
     "output_type": "stream",
     "text": [
      "submit\n",
      "\u001b[1m============================= test session starts ==============================\u001b[0m\n",
      "platform darwin -- Python 3.8.13, pytest-7.1.3, pluggy-1.0.0\n",
      "rootdir: /Users/huaifeng/Projects/mlsys/hw2\n",
      "plugins: anyio-3.5.0\n",
      "collected 18 items / 17 deselected / 1 selected                                \u001b[0m\u001b[1m\n",
      "\n",
      "tests/test_nn_and_optim.py \n",
      "Submitting nn_flatten...\n",
      "Grader test 1 passed\n",
      "Grader test 2 passed\n",
      "Grader test 3 passed\n",
      "Grader test 4 passed\n",
      "Grader test 5 passed\n",
      "Grader test 6 passed\n",
      "Grader test 7 passed\n",
      "Grader test 8 passed\n",
      "\u001b[32m.\u001b[0m\n",
      "\n",
      "\u001b[32m======================= \u001b[32m\u001b[1m1 passed\u001b[0m, \u001b[33m17 deselected\u001b[0m\u001b[32m in 5.13s\u001b[0m\u001b[32m =======================\u001b[0m\n"
     ]
    }
   ],
   "source": [
    "!python -m mugrade submit '_Oo1E5jrsROcSyO0QctSs' -k \"nn_flatten\""
   ]
  },
  {
   "cell_type": "markdown",
   "metadata": {},
   "source": [
    "### BatchNorm1d\n",
    "`needle.nn.BatchNorm1d(dim, eps=1e-5, momentum=0.1, device=None, dtype=\"float32\")`\n",
    "\n",
    "Applies batch normalization over a mini-batch of inputs as described in the paper [Batch Normalization: Accelerating Deep Network Training by Reducing Internal Covariate Shift](https://arxiv.org/abs/1502.03167).\n",
    "\n",
    "\\begin{equation}\n",
    "y = w \\circ \\frac{z_i - \\textbf{E}[x]}{((\\textbf{Var}[x]+\\epsilon)^{1/2})} + b\n",
    "\\end{equation}\n",
    "\n",
    "but where here the mean and variance refer to to the mean and variance over the _batch_dimensions.  The function also computes a running average of mean/variance for all features at each layer $\\hat{\\mu}, \\hat{\\sigma}^2$, and at test time normalizes by these quantities:\n",
    "\n",
    "\\begin{equation}\n",
    "y = \\frac{(x - \\hat{mu})}{((\\hat{\\sigma}^2_{i+1})_j+\\epsilon)^{1/2}}\n",
    "\\end{equation}\n",
    "\n",
    "\n",
    "BatchNorm uses the running estimates of mean and variance instead of batch statistics at test time, i.e.,\n",
    "after `model.eval()` has been called on the BatchNorm layer's `training` flag is false.\n",
    "\n",
    "To compute the running estimates, you can use the equation $$\\hat{x_{new}} = (1 - m) \\hat{x_{old}} + mx_{observed},$$\n",
    "where $m$ is momentum.\n",
    "\n",
    "##### Parameters\n",
    "- `dim` - input dimension\n",
    "- `eps` - a value added to the denominator for numerical stability.\n",
    "- `momentum` - the value used for the running mean and running variance computation.\n",
    "\n",
    "##### Variables\n",
    "- `weight` - the learnable weights of size `dim`, elements initialized to 1.\n",
    "- `bias` - the learnable bias of size `dim`, elements initialized to 0.\n",
    "- `running_mean` - the running mean used at evaluation time, elements initialized to 0.\n",
    "- `running_var` - the running (unbiased) variance used at evaluation time, elements initialized to 1. \n",
    "\n",
    "___"
   ]
  },
  {
   "cell_type": "code",
   "execution_count": 96,
   "metadata": {
    "scrolled": false
   },
   "outputs": [
    {
     "name": "stdout",
     "output_type": "stream",
     "text": [
      "\u001b[1m============================= test session starts ==============================\u001b[0m\n",
      "platform darwin -- Python 3.8.13, pytest-7.1.3, pluggy-1.0.0 -- /Users/huaifeng/opt/anaconda3/envs/mlsys_homework/bin/python\n",
      "cachedir: .pytest_cache\n",
      "rootdir: /Users/huaifeng/Projects/mlsys/hw2\n",
      "plugins: anyio-3.5.0\n",
      "collected 90 items / 82 deselected / 8 selected                                \u001b[0m\u001b[1m\n",
      "\n",
      "tests/test_nn_and_optim.py::test_nn_batchnorm_check_model_eval_switches_training_flag_1 \u001b[32mPASSED\u001b[0m\u001b[32m [ 12%]\u001b[0m\n",
      "tests/test_nn_and_optim.py::test_nn_batchnorm_forward_1 \u001b[32mPASSED\u001b[0m\u001b[32m           [ 25%]\u001b[0m\n",
      "tests/test_nn_and_optim.py::test_nn_batchnorm_forward_affine_1 \u001b[32mPASSED\u001b[0m\u001b[32m    [ 37%]\u001b[0m\n",
      "tests/test_nn_and_optim.py::test_nn_batchnorm_backward_1 \u001b[32mPASSED\u001b[0m\u001b[32m          [ 50%]\u001b[0m\n",
      "tests/test_nn_and_optim.py::test_nn_batchnorm_backward_affine_1 \u001b[32mPASSED\u001b[0m\u001b[32m   [ 62%]\u001b[0m\n",
      "tests/test_nn_and_optim.py::test_nn_batchnorm_running_mean_1 \u001b[32mPASSED\u001b[0m\u001b[32m      [ 75%]\u001b[0m\n",
      "tests/test_nn_and_optim.py::test_nn_batchnorm_running_var_1 \u001b[32mPASSED\u001b[0m\u001b[32m       [ 87%]\u001b[0m\n",
      "tests/test_nn_and_optim.py::test_nn_batchnorm_running_grad_1 \u001b[32mPASSED\u001b[0m\u001b[32m      [100%]\u001b[0m\n",
      "\n",
      "\u001b[32m======================= \u001b[32m\u001b[1m8 passed\u001b[0m, \u001b[33m82 deselected\u001b[0m\u001b[32m in 0.77s\u001b[0m\u001b[32m =======================\u001b[0m\n"
     ]
    }
   ],
   "source": [
    "!python -m pytest -v -k \"test_nn_batchnorm_\""
   ]
  },
  {
   "cell_type": "code",
   "execution_count": 97,
   "metadata": {},
   "outputs": [
    {
     "name": "stdout",
     "output_type": "stream",
     "text": [
      "submit\n",
      "\u001b[1m============================= test session starts ==============================\u001b[0m\n",
      "platform darwin -- Python 3.8.13, pytest-7.1.3, pluggy-1.0.0\n",
      "rootdir: /Users/huaifeng/Projects/mlsys/hw2\n",
      "plugins: anyio-3.5.0\n",
      "collected 18 items / 17 deselected / 1 selected                                \u001b[0m\u001b[1m\n",
      "\n",
      "tests/test_nn_and_optim.py \n",
      "Submitting nn_batchnorm...\n",
      "Grader test 1 passed\n",
      "Grader test 2 passed\n",
      "Grader test 3 passed\n",
      "Grader test 4 passed\n",
      "Grader test 5 passed\n",
      "Grader test 6 passed\n",
      "Grader test 7 passed\n",
      "Grader test 8 passed\n",
      "Grader test 9 passed\n",
      "\u001b[32m.\u001b[0m\n",
      "\n",
      "\u001b[32m======================= \u001b[32m\u001b[1m1 passed\u001b[0m, \u001b[33m17 deselected\u001b[0m\u001b[32m in 6.69s\u001b[0m\u001b[32m =======================\u001b[0m\n"
     ]
    }
   ],
   "source": [
    "!python -m mugrade submit '_Oo1E5jrsROcSyO0QctSs' -k \"nn_batchnorm\""
   ]
  },
  {
   "cell_type": "markdown",
   "metadata": {},
   "source": [
    "### Dropout\n",
    "`needle.nn.Dropout(p = 0.5)`\n",
    "\n",
    "During training, randomly zeroes some of the elements of the input tensor with probability `p` using samples from a Bernoulli distribution. This has proven to be an effective technique for regularization and preventing the co-adaptation of neurons as described in the paper [Improving neural networks by preventing co-adaption of feature detectors](https://arxiv.org/abs/1207.0580). During evaluation the module simply computes an identity function. \n",
    "\n",
    "\\begin{equation}\n",
    "\\hat{z}_{i+1} = \\sigma_i (W_i^T z_i + b_i) \\\\\n",
    "(z_{i+1})_j = \n",
    "    \\begin{cases}\n",
    "    (\\hat{z}_{i+1})_j /(1-p) & \\text{with probability } 1-p \\\\\n",
    "    0 & \\text{with probability } p \\\\\n",
    "    \\end{cases}\n",
    "\\end{equation}\n",
    "\n",
    "**Important**: If the Dropout module the flag `training=False`, you shouldn't \"dropout\" any weights. That is, dropout applies during training only, not during evaluation. Note that `training` is a flag in `nn.Module`.\n",
    "\n",
    "##### Parameters\n",
    "- `p` - the probability of an element to be zeroed.\n",
    "\n",
    "___"
   ]
  },
  {
   "cell_type": "code",
   "execution_count": 98,
   "metadata": {},
   "outputs": [
    {
     "name": "stdout",
     "output_type": "stream",
     "text": [
      "\u001b[1m============================= test session starts ==============================\u001b[0m\n",
      "platform darwin -- Python 3.8.13, pytest-7.1.3, pluggy-1.0.0 -- /Users/huaifeng/opt/anaconda3/envs/mlsys_homework/bin/python\n",
      "cachedir: .pytest_cache\n",
      "rootdir: /Users/huaifeng/Projects/mlsys/hw2\n",
      "plugins: anyio-3.5.0\n",
      "collected 90 items / 88 deselected / 2 selected                                \u001b[0m\u001b[1m\n",
      "\n",
      "tests/test_nn_and_optim.py::test_nn_dropout_forward_1 \u001b[32mPASSED\u001b[0m\u001b[32m             [ 50%]\u001b[0m\n",
      "tests/test_nn_and_optim.py::test_nn_dropout_backward_1 \u001b[32mPASSED\u001b[0m\u001b[32m            [100%]\u001b[0m\n",
      "\n",
      "\u001b[32m======================= \u001b[32m\u001b[1m2 passed\u001b[0m, \u001b[33m88 deselected\u001b[0m\u001b[32m in 0.77s\u001b[0m\u001b[32m =======================\u001b[0m\n"
     ]
    }
   ],
   "source": [
    "!python -m pytest -v -k \"test_nn_dropout\""
   ]
  },
  {
   "cell_type": "code",
   "execution_count": 99,
   "metadata": {},
   "outputs": [
    {
     "name": "stdout",
     "output_type": "stream",
     "text": [
      "submit\n",
      "\u001b[1m============================= test session starts ==============================\u001b[0m\n",
      "platform darwin -- Python 3.8.13, pytest-7.1.3, pluggy-1.0.0\n",
      "rootdir: /Users/huaifeng/Projects/mlsys/hw2\n",
      "plugins: anyio-3.5.0\n",
      "collected 18 items / 17 deselected / 1 selected                                \u001b[0m\u001b[1m\n",
      "\n",
      "tests/test_nn_and_optim.py \n",
      "Submitting nn_dropout...\n",
      "Grader test 1 passed\n",
      "Grader test 2 passed\n",
      "\u001b[32m.\u001b[0m\n",
      "\n",
      "\u001b[32m======================= \u001b[32m\u001b[1m1 passed\u001b[0m, \u001b[33m17 deselected\u001b[0m\u001b[32m in 2.04s\u001b[0m\u001b[32m =======================\u001b[0m\n"
     ]
    }
   ],
   "source": [
    "!python -m mugrade submit '_Oo1E5jrsROcSyO0QctSs' -k \"nn_dropout\""
   ]
  },
  {
   "cell_type": "markdown",
   "metadata": {
    "tags": []
   },
   "source": [
    "### Residual\n",
    "`needle.nn.Residual(fn: Module)`\n",
    "\n",
    "Applies a residual or skip connection given module $\\mathcal{F}$ and input Tensor $x$, returning $\\mathcal{F}(x) + x$.\n",
    "##### Parameters\n",
    "- `fn` - module of type `needle.nn.Module`"
   ]
  },
  {
   "cell_type": "code",
   "execution_count": 100,
   "metadata": {},
   "outputs": [
    {
     "name": "stdout",
     "output_type": "stream",
     "text": [
      "\u001b[1m============================= test session starts ==============================\u001b[0m\n",
      "platform darwin -- Python 3.8.13, pytest-7.1.3, pluggy-1.0.0 -- /Users/huaifeng/opt/anaconda3/envs/mlsys_homework/bin/python\n",
      "cachedir: .pytest_cache\n",
      "rootdir: /Users/huaifeng/Projects/mlsys/hw2\n",
      "plugins: anyio-3.5.0\n",
      "collected 90 items / 88 deselected / 2 selected                                \u001b[0m\u001b[1m\n",
      "\n",
      "tests/test_nn_and_optim.py::test_nn_residual_forward_1 \u001b[32mPASSED\u001b[0m\u001b[32m            [ 50%]\u001b[0m\n",
      "tests/test_nn_and_optim.py::test_nn_residual_backward_1 \u001b[32mPASSED\u001b[0m\u001b[32m           [100%]\u001b[0m\n",
      "\n",
      "\u001b[32m======================= \u001b[32m\u001b[1m2 passed\u001b[0m, \u001b[33m88 deselected\u001b[0m\u001b[32m in 0.76s\u001b[0m\u001b[32m =======================\u001b[0m\n"
     ]
    }
   ],
   "source": [
    "!python -m pytest -v -k \"test_nn_residual\""
   ]
  },
  {
   "cell_type": "code",
   "execution_count": 101,
   "metadata": {},
   "outputs": [
    {
     "name": "stdout",
     "output_type": "stream",
     "text": [
      "submit\n",
      "\u001b[1m============================= test session starts ==============================\u001b[0m\n",
      "platform darwin -- Python 3.8.13, pytest-7.1.3, pluggy-1.0.0\n",
      "rootdir: /Users/huaifeng/Projects/mlsys/hw2\n",
      "plugins: anyio-3.5.0\n",
      "collected 18 items / 17 deselected / 1 selected                                \u001b[0m\u001b[1m\n",
      "\n",
      "tests/test_nn_and_optim.py \n",
      "Submitting nn_residual...\n",
      "Grader test 1 passed\n",
      "Grader test 2 passed\n",
      "\u001b[32m.\u001b[0m\n",
      "\n",
      "\u001b[32m======================= \u001b[32m\u001b[1m1 passed\u001b[0m, \u001b[33m17 deselected\u001b[0m\u001b[32m in 1.79s\u001b[0m\u001b[32m =======================\u001b[0m\n"
     ]
    }
   ],
   "source": [
    "!python -m mugrade submit '_Oo1E5jrsROcSyO0QctSs' -k \"nn_residual\""
   ]
  },
  {
   "cell_type": "markdown",
   "metadata": {
    "tags": []
   },
   "source": [
    "## Question 3\n",
    "\n",
    "Implement the `step` function of the following optimizers.\n",
    "Make sure that your optimizers _don't_ modify the gradients of tensors in-place.\n",
    "\n",
    "We have included some tests to ensure that you are not consuming excessive memory, which can happen if you are\n",
    "not using `.data` or `.detach()` in the right places, thus building an increasingly large computational graph\n",
    "(not just in the optimizers, but in the previous modules as well).\n",
    "You can ignore these tests, which include the string `memory_check` at your own discretion.\n",
    "\n",
    "___\n",
    "\n",
    "### SGD\n",
    "`needle.optim.SGD(params, lr=0.01, momentum=0.0, weight_decay=0.0)`\n",
    "\n",
    "Implements stochastic gradient descent (optionally with momentum, shown as $\\beta$ below). \n",
    "\n",
    "\\begin{equation}\n",
    "\\begin{split}\n",
    "    u_{t+1} &= \\beta u_t + (1-\\beta) \\nabla_\\theta f(\\theta_t) \\\\\n",
    "    \\theta_{t+1} &= \\theta_t - \\alpha u_{t+1}\n",
    "\\end{split}\n",
    "\\end{equation}\n",
    "\n",
    "##### Parameters\n",
    "- `params` - iterable of parameters of type `needle.nn.Parameter` to optimize\n",
    "- `lr` (*float*) - learning rate\n",
    "- `momentum` (*float*) - momentum factor\n",
    "- `weight_decay` (*float*) - weight decay (L2 penalty)\n",
    "___"
   ]
  },
  {
   "cell_type": "code",
   "execution_count": 127,
   "metadata": {
    "scrolled": false
   },
   "outputs": [
    {
     "name": "stdout",
     "output_type": "stream",
     "text": [
      "\u001b[1m============================= test session starts ==============================\u001b[0m\n",
      "platform darwin -- Python 3.8.13, pytest-7.1.3, pluggy-1.0.0 -- /Users/huaifeng/opt/anaconda3/envs/mlsys_homework/bin/python\n",
      "cachedir: .pytest_cache\n",
      "rootdir: /Users/huaifeng/Projects/mlsys/hw2\n",
      "plugins: anyio-3.5.0\n",
      "collected 90 items / 89 deselected / 1 selected                                \u001b[0m\u001b[1m\n",
      "\n",
      "tests/test_nn_and_optim.py::test_optim_sgd_vanilla_1 ---------------------bad------------------------\n",
      "ddddddd  bias shape: (1, 32)\n",
      "ddddddd  broadcast_size shape: [32, 32]\n",
      "ddddddd  bias shape: (1, 16)\n",
      "ddddddd  broadcast_size shape: [32, 16]\n",
      "loss: 6.50551\n",
      "l1 bias grad: [[-0.15583478]\n",
      " [-0.08274039]\n",
      " [-0.06150047]\n",
      " [-0.0172175 ]\n",
      " [ 0.01431217]\n",
      " [-0.10212675]\n",
      " [ 0.00037031]\n",
      " [-0.06244578]\n",
      " [ 0.22542161]\n",
      " [-0.09336374]\n",
      " [ 0.16310081]\n",
      " [-0.07791603]\n",
      " [-0.03113251]\n",
      " [ 0.24808179]\n",
      " [-0.03113627]\n",
      " [ 0.06412754]]\n",
      "l1 weight grad: [[-2.17413574e-01  1.87479320e-03  1.61854748e-03 -2.03288309e-02\n",
      "   2.57530971e-03  3.15522752e-03  9.97183088e-05 -3.32766585e-03\n",
      "   2.35271037e-01 -4.62501943e-02  1.18428536e-01 -1.12899520e-01\n",
      "  -4.14873324e-02  9.85659435e-02 -5.20393252e-02  3.21573317e-02]\n",
      " [-9.10160840e-01 -8.03210616e-01 -5.53488255e-01 -1.70800686e-01\n",
      "   9.72655863e-02 -7.45589554e-01  2.03617080e-03 -4.98040020e-01\n",
      "   1.75830066e+00 -5.59150159e-01  1.26956344e+00 -5.05453527e-01\n",
      "  -2.53044814e-01  1.80268312e+00 -3.29368144e-01  3.98457408e-01]\n",
      " [ 0.00000000e+00  0.00000000e+00  0.00000000e+00  0.00000000e+00\n",
      "   0.00000000e+00  0.00000000e+00  0.00000000e+00  0.00000000e+00\n",
      "   0.00000000e+00  0.00000000e+00  0.00000000e+00  0.00000000e+00\n",
      "   0.00000000e+00  0.00000000e+00  0.00000000e+00  0.00000000e+00]\n",
      " [-2.32078172e-02  3.78157664e-03  2.57526321e-04 -6.92231879e-02\n",
      "   5.80111332e-03 -1.43063338e-02  3.88376502e-05  1.00450870e-05\n",
      "   2.59109102e-02  9.14099073e-05  2.59203129e-02  3.17818346e-03\n",
      "  -1.65433567e-02  3.35358903e-02  2.08769125e-05  2.47340184e-02]\n",
      " [-1.04507603e-01 -1.98049307e-01 -8.79846439e-02  9.50695351e-02\n",
      "   2.79275980e-02 -9.01122764e-02  4.79158654e-04 -2.15206668e-01\n",
      "   5.37664592e-01 -1.64908439e-01  3.22860897e-01 -3.82567525e-01\n",
      "  -7.88986683e-02  2.36127168e-01 -3.42781395e-02  1.36384159e-01]\n",
      " [-7.56576836e-01 -3.26455086e-01 -2.36735970e-01 -3.53185609e-02\n",
      "   2.85419729e-02 -3.40954691e-01  1.31961901e-03 -1.68573201e-01\n",
      "   8.26274753e-01 -1.66395381e-01  5.75465500e-01 -3.68573248e-01\n",
      "  -2.07295507e-01  1.13219976e+00 -1.56277388e-01  1.99354440e-01]\n",
      " [-5.39194643e-01 -3.22156101e-01 -3.34300578e-01 -1.44626647e-01\n",
      "   4.26866114e-02 -4.86549228e-01  1.16914359e-03 -1.88311428e-01\n",
      "   7.77880847e-01 -2.61073202e-01  6.00012422e-01 -2.66435444e-01\n",
      "  -4.05805558e-02  1.03759205e+00 -8.05229917e-02  2.04409659e-01]\n",
      " [-1.16847478e-01 -3.56533229e-02 -3.01457588e-02 -3.04237530e-02\n",
      "   1.70983244e-02 -4.60745543e-02  1.56317750e-04 -5.06680571e-02\n",
      "   1.61683425e-01 -1.65815219e-01  9.36189741e-02 -2.13770568e-02\n",
      "   1.33723835e-04  1.63718209e-01  4.76452078e-05  6.05485998e-02]\n",
      " [ 0.00000000e+00  0.00000000e+00  0.00000000e+00  0.00000000e+00\n",
      "   0.00000000e+00  0.00000000e+00  0.00000000e+00  0.00000000e+00\n",
      "   0.00000000e+00  0.00000000e+00  0.00000000e+00  0.00000000e+00\n",
      "   0.00000000e+00  0.00000000e+00  0.00000000e+00  0.00000000e+00]\n",
      " [ 0.00000000e+00  0.00000000e+00  0.00000000e+00  0.00000000e+00\n",
      "   0.00000000e+00  0.00000000e+00  0.00000000e+00  0.00000000e+00\n",
      "   0.00000000e+00  0.00000000e+00  0.00000000e+00  0.00000000e+00\n",
      "   0.00000000e+00  0.00000000e+00  0.00000000e+00  0.00000000e+00]\n",
      " [ 2.37295153e-05  3.45694157e-03  8.83032117e-05  7.91171193e-03\n",
      "   9.72819689e-05  1.11573521e-04  4.21401410e-06  2.94396682e-06\n",
      "   3.94666977e-02  2.05747692e-05  5.27651329e-03 -7.34113380e-02\n",
      "   1.98136377e-06  1.38358306e-02  3.91450449e-05  3.07389395e-03]\n",
      " [-9.25910771e-01 -4.07002449e-01 -5.88190079e-01 -3.22641581e-01\n",
      "   9.48584080e-02 -7.15216219e-01  2.36379285e-03 -3.65546167e-01\n",
      "   1.46151173e+00 -6.11230433e-01  1.05569398e+00 -2.71041662e-01\n",
      "  -1.60539016e-01  1.58596182e+00 -2.23416895e-01  3.90345603e-01]\n",
      " [-9.06021371e-02  4.36468050e-03 -7.00871050e-02 -8.15077126e-03\n",
      "   3.23358201e-03  1.74449815e-03  3.43748070e-05  3.68080123e-06\n",
      "   4.92888764e-02  1.87214580e-04  6.34994358e-02 -3.15532573e-02\n",
      "   2.70806754e-06  7.29225129e-02  2.06749564e-06  5.10963425e-03]\n",
      " [-6.37729764e-02  1.15060393e-04  1.07790243e-06  5.83959743e-03\n",
      "   3.42816522e-04  6.67042186e-05  2.37884319e-06  5.72038807e-08\n",
      "   3.19553278e-02  1.55915768e-05  6.44585537e-03  1.80219969e-04\n",
      "   3.49776055e-05  4.63712215e-03  3.49049947e-06  1.41327037e-02]\n",
      " [ 0.00000000e+00  0.00000000e+00  0.00000000e+00  0.00000000e+00\n",
      "   0.00000000e+00  0.00000000e+00  0.00000000e+00  0.00000000e+00\n",
      "   0.00000000e+00  0.00000000e+00  0.00000000e+00  0.00000000e+00\n",
      "   0.00000000e+00  0.00000000e+00  0.00000000e+00  0.00000000e+00]\n",
      " [ 0.00000000e+00  0.00000000e+00  0.00000000e+00  0.00000000e+00\n",
      "   0.00000000e+00  0.00000000e+00  0.00000000e+00  0.00000000e+00\n",
      "   0.00000000e+00  0.00000000e+00  0.00000000e+00  0.00000000e+00\n",
      "   0.00000000e+00  0.00000000e+00  0.00000000e+00  0.00000000e+00]\n",
      " [-3.15956205e-01 -5.39000258e-02 -5.25822453e-02 -1.61456212e-01\n",
      "   4.93540876e-02 -6.68480173e-02  3.97143915e-04 -1.29691839e-01\n",
      "   5.01391411e-01 -1.95309222e-01  2.80594975e-01 -4.37000208e-02\n",
      "  -7.05879182e-02  1.70545086e-01 -9.85160470e-02  1.86264977e-01]\n",
      " [ 0.00000000e+00  0.00000000e+00  0.00000000e+00  0.00000000e+00\n",
      "   0.00000000e+00  0.00000000e+00  0.00000000e+00  0.00000000e+00\n",
      "   0.00000000e+00  0.00000000e+00  0.00000000e+00  0.00000000e+00\n",
      "   0.00000000e+00  0.00000000e+00  0.00000000e+00  0.00000000e+00]\n",
      " [ 3.76834294e-07 -1.79167930e-02  9.80021650e-06  1.71608978e-03\n",
      "   2.38518260e-05  2.07054709e-05  7.52150356e-07  8.79760833e-08\n",
      "   7.24760175e-04  3.39592020e-06  2.39809346e-03  2.42361173e-04\n",
      "   1.34232675e-06  1.23536726e-02  1.47644627e-07  4.21353790e-04]\n",
      " [-5.45714915e-01 -4.76465315e-01 -3.43490303e-01 -1.31252576e-02\n",
      "   8.33323672e-02 -5.12856901e-01  1.65902241e-03 -3.36635739e-01\n",
      "   1.29538846e+00 -7.37944126e-01  9.29425120e-01 -2.78441697e-01\n",
      "  -1.34282559e-01  9.18655455e-01 -1.63643137e-01  3.14139366e-01]\n",
      " [ 1.15042694e-05  1.47690822e-03 -1.45598105e-03  2.66255625e-03\n",
      "   2.21837312e-03  3.86355736e-04  1.79257040e-05  5.75622880e-06\n",
      "   3.10156047e-02 -3.70169505e-02  1.46611799e-02 -2.33948659e-02\n",
      "   1.82668828e-06  3.85098858e-03  2.09728000e-06  5.55672171e-03]\n",
      " [-1.50780519e-02  4.98781772e-03 -9.70962569e-02 -2.90217306e-02\n",
      "   5.85461408e-03 -1.32584602e-01  2.62627378e-04 -1.52844772e-01\n",
      "   1.53484374e-01 -3.90258506e-02  5.92728034e-02  7.14382380e-02\n",
      "   4.09064014e-05  1.53584629e-01 -2.92533375e-02  4.59785797e-02]\n",
      " [-2.40772858e-01 -1.32054508e-01 -8.10000673e-03  1.06370956e-01\n",
      "   1.06183011e-02 -1.05441138e-01  2.44595343e-04  3.24706489e-05\n",
      "   2.69908190e-01 -1.47851288e-01  3.35721791e-01 -1.00125946e-01\n",
      "  -1.57138184e-02  3.99845615e-02 -5.79755455e-02  4.51541655e-02]\n",
      " [-9.28360224e-01 -3.84401113e-01 -2.24479124e-01 -1.90815300e-01\n",
      "   8.39137062e-02 -7.09772587e-01  1.56138162e-03 -1.87593788e-01\n",
      "   1.16625130e+00 -4.09147561e-01  7.86347926e-01 -4.09280896e-01\n",
      "  -2.27962881e-01  1.46944571e+00 -1.86485082e-01  3.50778133e-01]\n",
      " [-4.63069826e-02 -2.01954711e-02 -4.11584415e-03 -1.87117979e-02\n",
      "   6.72626775e-04  7.86942721e-04  1.03196389e-05  9.65147410e-06\n",
      "   3.42533700e-02  3.33412049e-06  3.78596783e-02  3.58722126e-03\n",
      "   2.10461508e-07  9.50535201e-03  8.89596606e-07  2.64050020e-03]\n",
      " [-7.12039024e-02  1.38432393e-02 -3.75637375e-02  2.87246006e-03\n",
      "   1.47987884e-02 -6.83063641e-02  3.22875014e-04 -9.22214473e-04\n",
      "   1.74617559e-01 -1.20356068e-01  8.42566788e-02 -9.32172015e-02\n",
      "   9.70760157e-05  1.41441554e-01 -8.25304240e-02  4.18496691e-02]\n",
      " [-9.22224447e-02  7.66365277e-03 -8.75545517e-02 -4.50919010e-02\n",
      "   1.47058442e-02 -2.09480785e-02  4.98864101e-04 -6.71689883e-02\n",
      "   1.26589060e-01 -5.39975427e-02  9.46946293e-02 -1.80555269e-01\n",
      "  -5.19143939e-02  2.72243261e-01  9.33581323e-05  8.29644799e-02]\n",
      " [-7.65909925e-02 -3.65212858e-02 -2.64856983e-02  6.75899833e-02\n",
      "   9.57517652e-04 -2.08098784e-01  1.10697831e-04 -5.44477662e-04\n",
      "   1.02493964e-01  2.01374787e-05  7.96859264e-02  1.18481657e-02\n",
      "  -2.83255242e-02  1.67097047e-01 -7.64845535e-02  2.32478380e-02]\n",
      " [-5.62083662e-01 -3.50453675e-01 -2.80796617e-01 -1.28279060e-01\n",
      "   3.91423889e-02 -5.45725405e-01  1.61129702e-03 -3.32008272e-01\n",
      "   1.05384815e+00 -2.51643211e-01  6.67524934e-01 -3.98294777e-01\n",
      "  -1.70970663e-01  1.19886267e+00 -1.98910952e-01  2.58176833e-01]\n",
      " [ 9.46379168e-06 -1.37028648e-02 -2.27054339e-02  2.51887646e-03\n",
      "   1.70368631e-03  1.14781340e-03  1.20117929e-05 -1.61912444e-03\n",
      "   2.08585691e-02 -1.56305730e-02  1.16505409e-02  1.87422463e-03\n",
      "   2.03776290e-06  1.05345678e-02  3.18547313e-06  3.34301800e-03]\n",
      " [ 8.24327526e-06 -2.87013315e-02  5.42908310e-06 -2.70579457e-02\n",
      "   1.44126930e-03  1.13385147e-03  9.71056852e-06 -1.46549400e-02\n",
      "   9.52548534e-03  3.76473508e-05  6.69894693e-03  6.06260961e-03\n",
      "   1.34567961e-06  4.11373153e-02  4.94271717e-06  4.34742263e-03]\n",
      " [-7.38578439e-01 -3.02336961e-01 -3.63770068e-01 -2.34972745e-01\n",
      "   6.64325207e-02 -5.09453237e-01  2.22533895e-03 -4.66641814e-01\n",
      "   1.25234604e+00 -4.21598405e-01  7.42337465e-01 -5.00602722e-01\n",
      "  -1.47955626e-01  1.48379326e+00 -2.12910965e-01  3.51686418e-01]]\n",
      "l0 bias grad: [[ 0.09960725]\n",
      " [ 0.15523747]\n",
      " [ 0.        ]\n",
      " [-0.01660559]\n",
      " [-0.03720655]\n",
      " [ 0.16428936]\n",
      " [ 0.12816271]\n",
      " [ 0.11842271]\n",
      " [ 0.        ]\n",
      " [ 0.        ]\n",
      " [-0.01298516]\n",
      " [ 0.03448545]\n",
      " [-0.00981303]\n",
      " [-0.00610401]\n",
      " [ 0.        ]\n",
      " [ 0.        ]\n",
      " [ 0.0876048 ]\n",
      " [ 0.        ]\n",
      " [ 0.00101418]\n",
      " [ 0.02234061]\n",
      " [ 0.01956288]\n",
      " [ 0.02898914]\n",
      " [-0.06349265]\n",
      " [ 0.16697867]\n",
      " [ 0.03963675]\n",
      " [-0.04918768]\n",
      " [ 0.01488247]\n",
      " [-0.01125493]\n",
      " [ 0.1820661 ]\n",
      " [ 0.00789204]\n",
      " [ 0.01577875]\n",
      " [-0.10802472]]\n",
      "l0 weight grad: [[ 0.16680098  0.45650634  0.         ... -0.02402514  0.05165905\n",
      "  -0.3171763 ]\n",
      " [ 0.21703844  0.5084193   0.         ...  0.06340857  0.07539326\n",
      "  -0.24408922]\n",
      " [ 0.31625724  0.4558905   0.         ...  0.06055369  0.05817727\n",
      "  -0.28918245]\n",
      " ...\n",
      " [ 0.25535583  0.38856947  0.         ...  0.04024354  0.04460311\n",
      "  -0.25703788]\n",
      " [ 0.21564497  0.26917553  0.         ...  0.03414408  0.06427041\n",
      "  -0.28297326]\n",
      " [ 0.21685022  0.30674493  0.         ...  0.0499683   0.0581711\n",
      "  -0.25556853]]\n",
      "grad before: (64, 32)\n",
      "grad after: (64, 32)\n",
      "ddddddd  bias shape: (32, 32)\n",
      "ddddddd  broadcast_size shape: [32, 32]\n",
      "ddddddd  bias shape: (16, 16)\n",
      "ddddddd  broadcast_size shape: [32, 16]\n"
     ]
    },
    {
     "name": "stdout",
     "output_type": "stream",
     "text": [
      "\u001b[31mFAILED\u001b[0m\n",
      "\n",
      "=================================== FAILURES ===================================\n",
      "\u001b[31m\u001b[1m___________________________ test_optim_sgd_vanilla_1 ___________________________\u001b[0m\n",
      "\n",
      "    \u001b[94mdef\u001b[39;49;00m \u001b[92mtest_optim_sgd_vanilla_1\u001b[39;49;00m():\n",
      ">       np.testing.assert_allclose(learn_model_1d(\u001b[94m64\u001b[39;49;00m, \u001b[94m16\u001b[39;49;00m, \u001b[94mlambda\u001b[39;49;00m z: nn.Sequential(nn.Linear(\u001b[94m64\u001b[39;49;00m, \u001b[94m32\u001b[39;49;00m), nn.ReLU(), nn.Linear(\u001b[94m32\u001b[39;49;00m, \u001b[94m16\u001b[39;49;00m)), ndl.optim.SGD, lr=\u001b[94m0.1\u001b[39;49;00m, momentum=\u001b[94m0.0\u001b[39;49;00m),\n",
      "            np.array(\u001b[94m3.207009\u001b[39;49;00m), rtol=\u001b[94m1e-5\u001b[39;49;00m, atol=\u001b[94m1e-5\u001b[39;49;00m)\n",
      "\n",
      "\u001b[1m\u001b[31mtests/test_nn_and_optim.py\u001b[0m:1038: \n",
      "_ _ _ _ _ _ _ _ _ _ _ _ _ _ _ _ _ _ _ _ _ _ _ _ _ _ _ _ _ _ _ _ _ _ _ _ _ _ _ _ \n",
      "\u001b[1m\u001b[31mtests/test_nn_and_optim.py\u001b[0m:238: in learn_model_1d\n",
      "    out = model(X0)\n",
      "\u001b[1m\u001b[31mpython/needle/nn.py\u001b[0m:74: in __call__\n",
      "    \u001b[94mreturn\u001b[39;49;00m \u001b[96mself\u001b[39;49;00m.forward(*args, **kwargs)\n",
      "\u001b[1m\u001b[31mpython/needle/nn.py\u001b[0m:141: in forward\n",
      "    x = m(x)\n",
      "\u001b[1m\u001b[31mpython/needle/nn.py\u001b[0m:74: in __call__\n",
      "    \u001b[94mreturn\u001b[39;49;00m \u001b[96mself\u001b[39;49;00m.forward(*args, **kwargs)\n",
      "\u001b[1m\u001b[31mpython/needle/nn.py\u001b[0m:109: in forward\n",
      "    b = ops.broadcast_to(\u001b[96mself\u001b[39;49;00m.bias, shape=\u001b[96mtuple\u001b[39;49;00m(broadcast_size))\n",
      "\u001b[1m\u001b[31mpython/needle/ops.py\u001b[0m:276: in broadcast_to\n",
      "    \u001b[94mreturn\u001b[39;49;00m BroadcastTo(shape)(a)\n",
      "\u001b[1m\u001b[31mpython/needle/autograd.py\u001b[0m:126: in __call__\n",
      "    \u001b[94mreturn\u001b[39;49;00m Tensor.make_from_op(\u001b[96mself\u001b[39;49;00m, args)\n",
      "\u001b[1m\u001b[31mpython/needle/autograd.py\u001b[0m:290: in make_from_op\n",
      "    tensor.realize_cached_data()\n",
      "\u001b[1m\u001b[31mpython/needle/autograd.py\u001b[0m:153: in realize_cached_data\n",
      "    \u001b[96mself\u001b[39;49;00m.cached_data = \u001b[96mself\u001b[39;49;00m.op.compute(\n",
      "\u001b[1m\u001b[31mpython/needle/ops.py\u001b[0m:247: in compute\n",
      "    \u001b[94mreturn\u001b[39;49;00m array_api.broadcast_to(a, \u001b[96mself\u001b[39;49;00m.shape)\n",
      "\u001b[1m\u001b[31m<__array_function__ internals>\u001b[0m:180: in broadcast_to\n",
      "    \u001b[04m\u001b[91m?\u001b[39;49;00m\u001b[04m\u001b[91m?\u001b[39;49;00m\u001b[04m\u001b[91m?\u001b[39;49;00m\n",
      "\u001b[1m\u001b[31m../../../opt/anaconda3/envs/mlsys_homework/lib/python3.8/site-packages/numpy/lib/stride_tricks.py\u001b[0m:413: in broadcast_to\n",
      "    \u001b[94mreturn\u001b[39;49;00m _broadcast_to(array, shape, subok=subok, readonly=\u001b[94mTrue\u001b[39;49;00m)\n",
      "_ _ _ _ _ _ _ _ _ _ _ _ _ _ _ _ _ _ _ _ _ _ _ _ _ _ _ _ _ _ _ _ _ _ _ _ _ _ _ _ \n",
      "\n",
      "array = array([[ 7.98837692e-02,  4.02864516e-02, -4.21802342e-01,\n",
      "         3.52812260e-01, -2.64381707e-01,  1.15362145e-02,\n",
      "..., -2.29822397e-01,\n",
      "        -6.18620217e-01,  7.21760234e-03, -5.61403573e-01,\n",
      "        -2.80547917e-01]], dtype=float32)\n",
      "shape = (32, 16), subok = False, readonly = True\n",
      "\n",
      "    \u001b[94mdef\u001b[39;49;00m \u001b[92m_broadcast_to\u001b[39;49;00m(array, shape, subok, readonly):\n",
      "        shape = \u001b[96mtuple\u001b[39;49;00m(shape) \u001b[94mif\u001b[39;49;00m np.iterable(shape) \u001b[94melse\u001b[39;49;00m (shape,)\n",
      "        array = np.array(array, copy=\u001b[94mFalse\u001b[39;49;00m, subok=subok)\n",
      "        \u001b[94mif\u001b[39;49;00m \u001b[95mnot\u001b[39;49;00m shape \u001b[95mand\u001b[39;49;00m array.shape:\n",
      "            \u001b[94mraise\u001b[39;49;00m \u001b[96mValueError\u001b[39;49;00m(\u001b[33m'\u001b[39;49;00m\u001b[33mcannot broadcast a non-scalar to a scalar array\u001b[39;49;00m\u001b[33m'\u001b[39;49;00m)\n",
      "        \u001b[94mif\u001b[39;49;00m \u001b[96many\u001b[39;49;00m(size < \u001b[94m0\u001b[39;49;00m \u001b[94mfor\u001b[39;49;00m size \u001b[95min\u001b[39;49;00m shape):\n",
      "            \u001b[94mraise\u001b[39;49;00m \u001b[96mValueError\u001b[39;49;00m(\u001b[33m'\u001b[39;49;00m\u001b[33mall elements of broadcast shape must be non-\u001b[39;49;00m\u001b[33m'\u001b[39;49;00m\n",
      "                             \u001b[33m'\u001b[39;49;00m\u001b[33mnegative\u001b[39;49;00m\u001b[33m'\u001b[39;49;00m)\n",
      "        extras = []\n",
      ">       it = np.nditer(\n",
      "            (array,), flags=[\u001b[33m'\u001b[39;49;00m\u001b[33mmulti_index\u001b[39;49;00m\u001b[33m'\u001b[39;49;00m, \u001b[33m'\u001b[39;49;00m\u001b[33mrefs_ok\u001b[39;49;00m\u001b[33m'\u001b[39;49;00m, \u001b[33m'\u001b[39;49;00m\u001b[33mzerosize_ok\u001b[39;49;00m\u001b[33m'\u001b[39;49;00m] + extras,\n",
      "            op_flags=[\u001b[33m'\u001b[39;49;00m\u001b[33mreadonly\u001b[39;49;00m\u001b[33m'\u001b[39;49;00m], itershape=shape, order=\u001b[33m'\u001b[39;49;00m\u001b[33mC\u001b[39;49;00m\u001b[33m'\u001b[39;49;00m)\n",
      "\u001b[1m\u001b[31mE       ValueError: operands could not be broadcast together with remapped shapes [original->remapped]: (16,16)  and requested shape (32,16)\u001b[0m\n",
      "\n",
      "\u001b[1m\u001b[31m../../../opt/anaconda3/envs/mlsys_homework/lib/python3.8/site-packages/numpy/lib/stride_tricks.py\u001b[0m:349: ValueError\n",
      "=========================== short test summary info ============================\n",
      "FAILED tests/test_nn_and_optim.py::test_optim_sgd_vanilla_1 - ValueError: ope...\n",
      "\u001b[31m======================= \u001b[31m\u001b[1m1 failed\u001b[0m, \u001b[33m89 deselected\u001b[0m\u001b[31m in 1.02s\u001b[0m\u001b[31m =======================\u001b[0m\n"
     ]
    }
   ],
   "source": [
    "!python -m pytest -s -v -k \"test_optim_sgd_vanilla_1\""
   ]
  },
  {
   "cell_type": "code",
   "execution_count": 316,
   "metadata": {},
   "outputs": [
    {
     "name": "stdout",
     "output_type": "stream",
     "text": [
      "submit\n",
      "\u001b[1m============================= test session starts ==============================\u001b[0m\n",
      "platform darwin -- Python 3.8.13, pytest-7.1.3, pluggy-1.0.0\n",
      "rootdir: /Users/huaifeng/Projects/mlsys/hw2\n",
      "plugins: anyio-3.5.0\n",
      "collected 18 items / 17 deselected / 1 selected                                \u001b[0m\n",
      "\n",
      "tests/test_nn_and_optim.py \n",
      "Submitting optim_sgd...\n",
      "Grader test 1 passed\n",
      "Grader test 2 failed: Failed: incorrect output\n",
      "Grader test 3 failed: Failed: incorrect output\n",
      "Grader test 4 failed: Failed: incorrect output\n",
      "Grader test 5 passed\n",
      "\u001b[31mF\u001b[0m\n",
      "\n",
      "=================================== FAILURES ===================================\n",
      "\u001b[31m\u001b[1m_______________________________ submit_optim_sgd _______________________________\u001b[0m\n",
      "\n",
      "=========================== short test summary info ============================\n",
      "FAILED tests/test_nn_and_optim.py::submit_optim_sgd\n",
      "\u001b[31m======================= \u001b[31m\u001b[1m1 failed\u001b[0m, \u001b[33m17 deselected\u001b[0m\u001b[31m in 3.84s\u001b[0m\u001b[31m =======================\u001b[0m\n"
     ]
    }
   ],
   "source": [
    "!python -m mugrade submit '_Oo1E5jrsROcSyO0QctSs' -k \"optim_sgd\""
   ]
  },
  {
   "cell_type": "markdown",
   "metadata": {
    "tags": []
   },
   "source": [
    "### Adam\n",
    "`needle.optim.Adam(params, lr=0.01, beta1=0.9, beta2=0.999, eps=1e-8, weight_decay=0.0)`\n",
    "\n",
    "Implements Adam algorithm, proposed in [Adam: A Method for Stochastic Optimization](https://arxiv.org/abs/1412.6980). \n",
    "\n",
    "\\begin{equation}\n",
    "\\begin{split}\n",
    "u_{t+1} &= \\beta_1 u_t + (1-\\beta_1) \\nabla_\\theta f(\\theta_t) \\\\\n",
    "v_{t+1} &= \\beta_2 v_t + (1-\\beta_2) (\\nabla_\\theta f(\\theta_t))^2 \\\\\n",
    "\\hat{u}_{t+1} &= u_{t+1} / (1 - \\beta_1^t) \\quad \\text{(bias correction)} \\\\\n",
    "\\hat{v}_{t+1} &= v_{t+1} / (1 - \\beta_2^t) \\quad \\text{(bias correction)}\\\\\n",
    "\\theta_{t+1} &= \\theta_t - \\alpha \\hat{u_{t+1}}/(\\hat{v}_{t+1}^{1/2}+\\epsilon)\n",
    "\\end{split}\n",
    "    \\end{equation}\n",
    "\n",
    "**Important:** Pay attention to whether or not you are applying bias correction.\n",
    "\n",
    "##### Parameters\n",
    "- `params` - iterable of parameters of type `needle.nn.Parameter` to optimize\n",
    "- `lr` (*float*) - learning rate\n",
    "- `beta1` (*float*) - coefficient used for computing running average of gradient\n",
    "- `beta2` (*float*) - coefficient used for computing running average of square of gradient\n",
    "- `eps` (*float*) - term added to the denominator to improve numerical stability\n",
    "- `bias_correction` - whether to use bias correction for $u, v$\n",
    "- `weight_decay` (*float*) - weight decay (L2 penalty)"
   ]
  },
  {
   "cell_type": "code",
   "execution_count": null,
   "metadata": {},
   "outputs": [],
   "source": [
    "!python3 -m pytest -v -k \"test_optim_adam\""
   ]
  },
  {
   "cell_type": "code",
   "execution_count": null,
   "metadata": {},
   "outputs": [],
   "source": [
    "!python -m mugrade submit 'YOUR_GRADER_KEY_HERE' -k \"optim_adam\""
   ]
  },
  {
   "cell_type": "markdown",
   "metadata": {},
   "source": [
    "## Question 4\n",
    "\n",
    "In this question, you will implement two data primitives: `needle.data.DataLoader` and `needle.data.Dataset`. `Dataset` stores the samples and their corresponding labels, and `DataLoader` wraps an iterable around the `Dataset` to enable easy access to the samples. \n",
    "\n",
    "For this question, you will be working in `python/needle/data.py`. First, copy your solution to `parse_mnist` from the previous homework into the `parse_mnist` function. \n",
    "\n",
    "### Transformations\n",
    "\n",
    "First we will implement a few transformations that are helpful when working with images. We will stick with a horizontal flip and a random crop for now. Fill out the following functions in `data.py`.\n",
    "___ \n",
    "\n",
    "#### RandomFlipHorizontal\n",
    "`needle.data.RandomFlipHorizontal(p = 0.5)`\n",
    "\n",
    "Flips the image horizontally, with probability `p`.\n",
    "\n",
    "##### Parameters\n",
    "- `p` (*float*) - The probability of flipping the input image.\n",
    "___\n",
    "\n",
    "#### RandomCrop\n",
    "`needle.data.RandomCrop(padding=3)`\n",
    "\n",
    "Padding is added to all side of the image, and then the image is cropped back to it's original size at a random location. Returns an image the same size as the original image.\n",
    "\n",
    "##### Parameters\n",
    "- `padding` (*int*) - The padding on each border of the image."
   ]
  },
  {
   "cell_type": "code",
   "execution_count": null,
   "metadata": {},
   "outputs": [],
   "source": [
    "!python3 -m pytest -v -k \"flip_horizontal\"\n",
    "!python3 -m pytest -v -k \"random_crop\""
   ]
  },
  {
   "cell_type": "code",
   "execution_count": null,
   "metadata": {},
   "outputs": [],
   "source": [
    "!python -m mugrade submit 'YOUR_GRADER_KEY_HERE' -k \"flip_horizontal\"\n",
    "!python -m mugrade submit 'YOUR_GRADER_KEY_HERE' -k \"random_crop\""
   ]
  },
  {
   "cell_type": "markdown",
   "metadata": {},
   "source": [
    "### Dataset\n",
    "\n",
    "Each `Dataset` subclass must implement three functions: `__init__`, `__len__`, and `__getitem__`. The `__init__` function initializes the images, labels, and transforms. The `__len__` function returns the number of samples in the dataset. The `__getitem__` function retrieves a sample from the dataset at a given index `idx`, calls the transform functions on the image (if applicable), converts the image and label to a numpy array (the data will be converted to Tensors elsewhere). Fill out these functions in the `MNISTDataset` class: \n",
    "___ \n",
    "\n",
    "### MNISTDataset\n",
    "`needle.data.MNISTDataset(image_filesname, label_filesname, transforms)`\n",
    "\n",
    "##### Parameters\n",
    "- `image_filesname` - path of file containing images\n",
    "- `label_filesname` - path of file containing labels\n",
    "- `transforms` - an optional list of transforms to apply to data\n"
   ]
  },
  {
   "cell_type": "code",
   "execution_count": null,
   "metadata": {},
   "outputs": [],
   "source": [
    "!python3 -m pytest -v -k \"test_mnist_dataset\""
   ]
  },
  {
   "cell_type": "code",
   "execution_count": null,
   "metadata": {},
   "outputs": [],
   "source": [
    "!python -m mugrade submit 'YOUR_GRADER_KEY_HERE' -k \"mnist_dataset\""
   ]
  },
  {
   "cell_type": "markdown",
   "metadata": {},
   "source": [
    "### Dataloader\n",
    "\n",
    "The Dataloader class provides an interface for assembling mini-batches of examples suitable for training using SGD-based approaches, backed by a Dataset object.  In order to build the typical Dataloader interface (allowing users to iterate over all the mini-batches in the dataset), you will need the implement the `__iter__()` and `__next__()` calls in the class: `__iter__()` is called at the start of iteration, while `__next__()` is called to grab the next mini-batch. Please note that subsequent calls to next will require you to return the following batches, so next is not a pure function.\n",
    "___\n",
    "\n",
    "### Dataloader\n",
    "`needle.data.Dataloader(dataset: Dataset, batch_size: Optional[int] = 1, shuffle: bool = False)`\n",
    "\n",
    "Combines a dataset and a sampler, and provides an iterable over the given dataset. \n",
    "\n",
    "##### Parameters\n",
    "- `dataset` - `needle.data.Dataset` - a dataset \n",
    "- `batch_size` - `int` - what batch size to serve the data in \n",
    "- `shuffle` - `bool` - set to ``True`` to have the data reshuffle at every epoch, default ``False``.\n",
    "___ \n",
    "\n",
    "\n",
    "\n"
   ]
  },
  {
   "cell_type": "code",
   "execution_count": null,
   "metadata": {},
   "outputs": [],
   "source": [
    "!python3 -m pytest -v -k \"test_dataloader\""
   ]
  },
  {
   "cell_type": "code",
   "execution_count": null,
   "metadata": {},
   "outputs": [],
   "source": [
    "!python -m mugrade submit 'YOUR_GRADER_KEY_HERE' -k \"dataloader\""
   ]
  },
  {
   "cell_type": "markdown",
   "metadata": {},
   "source": [
    "## Question 5\n",
    "\n",
    "Given you have now implemented all the necessary components for our neural network library, let's build and train an MLP ResNet. For this question, you will be working in `apps/mlp_resnet.py`. First, fill out the functions `ResidualBlock` and `MLPResNet` as described below:\n",
    "\n",
    "### ResidualBlock\n",
    "`ResidualBlock(dim, hidden_dim, norm=nn.BatchNorm1d, drop_prob=0.1)`\n",
    "\n",
    "Implements a residual block as follows:\n",
    "\n",
    "![](figures/residualblock.png)\n",
    "\n",
    "where the first linear layer has `in_features=dim` and `out_features=hidden_dim`, and the last linear layer has `out_features=dim`. Returns the block as type `nn.Module`. \n",
    "\n",
    "##### Parameters\n",
    "- `dim` (*int*) - input dim\n",
    "- `hidden_dim` (*int*) - hidden dim\n",
    "- `norm` (*nn.Module*) - normalization method\n",
    "- `drop_prob` (*float*) - dropout probability\n",
    "\n",
    "___\n",
    "\n",
    "### MLPResNet\n",
    "`MLPResNet(dim, hidden_dim=100, num_blocks=3, num_classes=10, norm=nn.BatchNorm1d, drop_prob=0.1)`\n",
    "\n",
    "Implements an MLP ResNet as follows:\n",
    "\n",
    "![](figures/mlp_resnet.png)\n",
    "\n",
    "where the first linear layer has `in_features=dim` and `out_features=hidden_dim`, and each ResidualBlock has `dim=hidden_dim` and `hidden_dim=hidden_dim//2`. Returns a network of type `nn.Module`.\n",
    "\n",
    "##### Parameters\n",
    "- `dim` (*int*) - input dim\n",
    "- `hidden_dim` (*int*) - hidden dim\n",
    "- `num_blocks` (*int*) - number of ResidualBlocks\n",
    "- `num_classes` (*int*) - number of classes\n",
    "- `norm` (*nn.Module*) - normalization method\n",
    "- `drop_prob` (*float*) - dropout probability (0.1)\n",
    "___ \n",
    "\n",
    "Once you have the deep learning model architecture correct, let's train the network using our new neural network library components. Specifically, implement the functions `epoch` and `train_mnist`.\n",
    "\n",
    "### Epoch\n",
    "\n",
    "`epoch(dataloader, model, opt=None)`\n",
    "\n",
    "Executes one epoch of training or evaluation, iterating over the entire training dataset once (just like `nn_epoch` from previous homeworks). Returns the average error rate **(changed from accuracy)** (as a *float*) and the average loss over all samples (as a *float*). Set the model to `training` mode at the beginning of the function if `opt` is given; set the model to `eval` if `opt` is not given (i.e. `None`).\n",
    "\n",
    "##### Parameters\n",
    "- `dataloader` (*`needle.data.DataLoader`*) - dataloader returning samples from the training dataset\n",
    "- `model` (*`needle.nn.Module`*) - neural network\n",
    "- `opt` (*`needle.optim.Optimizer`*) - optimizer instance, or `None`\n",
    "\n",
    "___\n",
    "\n",
    "### Train Mnist\n",
    "\n",
    "`train_mnist(batch_size=100, epochs=10, optimizer=ndl.optim.Adam, lr=0.001, weight_decay=0.001, hidden_dim=100, data_dir=\"data\")`\n",
    "                \n",
    "Initializes a training dataloader (with `shuffle` set to `True`) and a test dataloader for MNIST data, and trains an `MLPResNet` using the given optimizer (if `opt` is not None) and the softmax loss for a given number of epochs. Returns a tuple of the training accuracy, training loss, test accuracy, test loss computed in the last epoch of training. If any parameters are not specified, use the default parameters.\n",
    "\n",
    "##### Parameters\n",
    "- `batch_size` (*int*) - batch size to use for train and test dataloader\n",
    "- `epochs` (*int*) - number of epochs to train for\n",
    "- `optimizer` (*`needle.optim.Optimizer` type*) - optimizer type to use\n",
    "- `lr` (*float*) - learning rate \n",
    "- `weight_decay` (*float*) - weight decay\n",
    "- `hidden_dim` (*int*) - hidden dim for `MLPResNet`\n",
    "- `data_dir` (*int*) - directory containing MNIST image/label files\n"
   ]
  },
  {
   "cell_type": "code",
   "execution_count": null,
   "metadata": {},
   "outputs": [],
   "source": [
    "!python3 -m pytest -v -k \"test_mlp\""
   ]
  },
  {
   "cell_type": "code",
   "execution_count": null,
   "metadata": {},
   "outputs": [],
   "source": [
    "!python -m mugrade submit 'YOUR_GRADER_KEY_HERE' -k \"mlp_resnet\""
   ]
  },
  {
   "cell_type": "markdown",
   "metadata": {},
   "source": [
    "We encourage to experiment with the `mlp_resnet.py` training script.\n",
    "You can investigate the effect of using different initializers on the Linear layers,\n",
    "increasing the dropout probability,\n",
    "or adding transforms (via a list to the `transforms=` keyword argument of Dataset)\n",
    "such as random cropping."
   ]
  }
 ],
 "metadata": {
  "kernelspec": {
   "display_name": "Python 3 (ipykernel)",
   "language": "python",
   "name": "python3"
  },
  "language_info": {
   "codemirror_mode": {
    "name": "ipython",
    "version": 3
   },
   "file_extension": ".py",
   "mimetype": "text/x-python",
   "name": "python",
   "nbconvert_exporter": "python",
   "pygments_lexer": "ipython3",
   "version": "3.8.13"
  },
  "vscode": {
   "interpreter": {
    "hash": "31f2aee4e71d21fbe5cf8b01ff0e069b9275f58929596ceb00d14d90e3e16cd6"
   }
  }
 },
 "nbformat": 4,
 "nbformat_minor": 4
}
